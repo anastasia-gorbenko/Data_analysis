{
 "cells": [
  {
   "cell_type": "markdown",
   "id": "ec24eef3",
   "metadata": {},
   "source": [
    "## Часть 1. Приоритизация гипотез."
   ]
  },
  {
   "cell_type": "code",
   "execution_count": 4,
   "id": "d20bd9b5",
   "metadata": {},
   "outputs": [],
   "source": [
    "# подключили библиотеки\n",
    "import pandas as pd\n",
    "import datetime as dt\n",
    "import numpy as np\n",
    "import matplotlib.pyplot as plt\n",
    "import scipy.stats as stats\n",
    "pd.options.display.float_format = '{:,}'. format"
   ]
  },
  {
   "cell_type": "code",
   "execution_count": 6,
   "id": "ab6ad574",
   "metadata": {
    "scrolled": true
   },
   "outputs": [
    {
     "data": {
      "text/html": [
       "<div>\n",
       "<style scoped>\n",
       "    .dataframe tbody tr th:only-of-type {\n",
       "        vertical-align: middle;\n",
       "    }\n",
       "\n",
       "    .dataframe tbody tr th {\n",
       "        vertical-align: top;\n",
       "    }\n",
       "\n",
       "    .dataframe thead th {\n",
       "        text-align: right;\n",
       "    }\n",
       "</style>\n",
       "<table border=\"1\" class=\"dataframe\">\n",
       "  <thead>\n",
       "    <tr style=\"text-align: right;\">\n",
       "      <th></th>\n",
       "      <th>Hypothesis</th>\n",
       "      <th>Reach</th>\n",
       "      <th>Impact</th>\n",
       "      <th>Confidence</th>\n",
       "      <th>Efforts</th>\n",
       "    </tr>\n",
       "  </thead>\n",
       "  <tbody>\n",
       "    <tr>\n",
       "      <th>0</th>\n",
       "      <td>Добавить два новых канала привлечения трафика, что позволит привлекать на 30% больше пользователей</td>\n",
       "      <td>3</td>\n",
       "      <td>10</td>\n",
       "      <td>8</td>\n",
       "      <td>6</td>\n",
       "    </tr>\n",
       "    <tr>\n",
       "      <th>1</th>\n",
       "      <td>Запустить собственную службу доставки, что сократит срок доставки заказов</td>\n",
       "      <td>2</td>\n",
       "      <td>5</td>\n",
       "      <td>4</td>\n",
       "      <td>10</td>\n",
       "    </tr>\n",
       "    <tr>\n",
       "      <th>2</th>\n",
       "      <td>Добавить блоки рекомендаций товаров на сайт интернет магазина, чтобы повысить конверсию и средний чек заказа</td>\n",
       "      <td>8</td>\n",
       "      <td>3</td>\n",
       "      <td>7</td>\n",
       "      <td>3</td>\n",
       "    </tr>\n",
       "    <tr>\n",
       "      <th>3</th>\n",
       "      <td>Изменить структура категорий, что увеличит конверсию, т.к. пользователи быстрее найдут нужный товар</td>\n",
       "      <td>8</td>\n",
       "      <td>3</td>\n",
       "      <td>3</td>\n",
       "      <td>8</td>\n",
       "    </tr>\n",
       "    <tr>\n",
       "      <th>4</th>\n",
       "      <td>Изменить цвет фона главной страницы, чтобы увеличить вовлеченность пользователей</td>\n",
       "      <td>3</td>\n",
       "      <td>1</td>\n",
       "      <td>1</td>\n",
       "      <td>1</td>\n",
       "    </tr>\n",
       "    <tr>\n",
       "      <th>5</th>\n",
       "      <td>Добавить страницу отзывов клиентов о магазине, что позволит увеличить количество заказов</td>\n",
       "      <td>3</td>\n",
       "      <td>2</td>\n",
       "      <td>2</td>\n",
       "      <td>3</td>\n",
       "    </tr>\n",
       "    <tr>\n",
       "      <th>6</th>\n",
       "      <td>Показать на главной странице баннеры с актуальными акциями и распродажами, чтобы увеличить конверсию</td>\n",
       "      <td>5</td>\n",
       "      <td>3</td>\n",
       "      <td>8</td>\n",
       "      <td>3</td>\n",
       "    </tr>\n",
       "    <tr>\n",
       "      <th>7</th>\n",
       "      <td>Добавить форму подписки на все основные страницы, чтобы собрать базу клиентов для email-рассылок</td>\n",
       "      <td>10</td>\n",
       "      <td>7</td>\n",
       "      <td>8</td>\n",
       "      <td>5</td>\n",
       "    </tr>\n",
       "    <tr>\n",
       "      <th>8</th>\n",
       "      <td>Запустить акцию, дающую скидку на товар в день рождения</td>\n",
       "      <td>1</td>\n",
       "      <td>9</td>\n",
       "      <td>9</td>\n",
       "      <td>5</td>\n",
       "    </tr>\n",
       "  </tbody>\n",
       "</table>\n",
       "</div>"
      ],
      "text/plain": [
       "                                                                                                     Hypothesis  \\\n",
       "0            Добавить два новых канала привлечения трафика, что позволит привлекать на 30% больше пользователей   \n",
       "1                                     Запустить собственную службу доставки, что сократит срок доставки заказов   \n",
       "2  Добавить блоки рекомендаций товаров на сайт интернет магазина, чтобы повысить конверсию и средний чек заказа   \n",
       "3           Изменить структура категорий, что увеличит конверсию, т.к. пользователи быстрее найдут нужный товар   \n",
       "4                              Изменить цвет фона главной страницы, чтобы увеличить вовлеченность пользователей   \n",
       "5                      Добавить страницу отзывов клиентов о магазине, что позволит увеличить количество заказов   \n",
       "6          Показать на главной странице баннеры с актуальными акциями и распродажами, чтобы увеличить конверсию   \n",
       "7              Добавить форму подписки на все основные страницы, чтобы собрать базу клиентов для email-рассылок   \n",
       "8                                                       Запустить акцию, дающую скидку на товар в день рождения   \n",
       "\n",
       "   Reach  Impact  Confidence  Efforts  \n",
       "0      3      10           8        6  \n",
       "1      2       5           4       10  \n",
       "2      8       3           7        3  \n",
       "3      8       3           3        8  \n",
       "4      3       1           1        1  \n",
       "5      3       2           2        3  \n",
       "6      5       3           8        3  \n",
       "7     10       7           8        5  \n",
       "8      1       9           9        5  "
      ]
     },
     "execution_count": 6,
     "metadata": {},
     "output_type": "execute_result"
    }
   ],
   "source": [
    "# прочли данные из файла\n",
    "hypothesis"
   ]
  },
  {
   "cell_type": "code",
   "execution_count": 7,
   "id": "6d6b20da",
   "metadata": {},
   "outputs": [
    {
     "data": {
      "text/html": [
       "<div>\n",
       "<style scoped>\n",
       "    .dataframe tbody tr th:only-of-type {\n",
       "        vertical-align: middle;\n",
       "    }\n",
       "\n",
       "    .dataframe tbody tr th {\n",
       "        vertical-align: top;\n",
       "    }\n",
       "\n",
       "    .dataframe thead th {\n",
       "        text-align: right;\n",
       "    }\n",
       "</style>\n",
       "<table border=\"1\" class=\"dataframe\">\n",
       "  <thead>\n",
       "    <tr style=\"text-align: right;\">\n",
       "      <th></th>\n",
       "      <th>Hypothesis</th>\n",
       "      <th>ICE</th>\n",
       "    </tr>\n",
       "  </thead>\n",
       "  <tbody>\n",
       "    <tr>\n",
       "      <th>8</th>\n",
       "      <td>Запустить акцию, дающую скидку на товар в день рождения</td>\n",
       "      <td>16.2</td>\n",
       "    </tr>\n",
       "    <tr>\n",
       "      <th>0</th>\n",
       "      <td>Добавить два новых канала привлечения трафика, что позволит привлекать на 30% больше пользователей</td>\n",
       "      <td>13.333333333333334</td>\n",
       "    </tr>\n",
       "    <tr>\n",
       "      <th>7</th>\n",
       "      <td>Добавить форму подписки на все основные страницы, чтобы собрать базу клиентов для email-рассылок</td>\n",
       "      <td>11.2</td>\n",
       "    </tr>\n",
       "    <tr>\n",
       "      <th>6</th>\n",
       "      <td>Показать на главной странице баннеры с актуальными акциями и распродажами, чтобы увеличить конверсию</td>\n",
       "      <td>8.0</td>\n",
       "    </tr>\n",
       "    <tr>\n",
       "      <th>2</th>\n",
       "      <td>Добавить блоки рекомендаций товаров на сайт интернет магазина, чтобы повысить конверсию и средний чек заказа</td>\n",
       "      <td>7.0</td>\n",
       "    </tr>\n",
       "    <tr>\n",
       "      <th>1</th>\n",
       "      <td>Запустить собственную службу доставки, что сократит срок доставки заказов</td>\n",
       "      <td>2.0</td>\n",
       "    </tr>\n",
       "    <tr>\n",
       "      <th>5</th>\n",
       "      <td>Добавить страницу отзывов клиентов о магазине, что позволит увеличить количество заказов</td>\n",
       "      <td>1.3333333333333333</td>\n",
       "    </tr>\n",
       "    <tr>\n",
       "      <th>3</th>\n",
       "      <td>Изменить структура категорий, что увеличит конверсию, т.к. пользователи быстрее найдут нужный товар</td>\n",
       "      <td>1.125</td>\n",
       "    </tr>\n",
       "    <tr>\n",
       "      <th>4</th>\n",
       "      <td>Изменить цвет фона главной страницы, чтобы увеличить вовлеченность пользователей</td>\n",
       "      <td>1.0</td>\n",
       "    </tr>\n",
       "  </tbody>\n",
       "</table>\n",
       "</div>"
      ],
      "text/plain": [
       "                                                                                                     Hypothesis  \\\n",
       "8                                                       Запустить акцию, дающую скидку на товар в день рождения   \n",
       "0            Добавить два новых канала привлечения трафика, что позволит привлекать на 30% больше пользователей   \n",
       "7              Добавить форму подписки на все основные страницы, чтобы собрать базу клиентов для email-рассылок   \n",
       "6          Показать на главной странице баннеры с актуальными акциями и распродажами, чтобы увеличить конверсию   \n",
       "2  Добавить блоки рекомендаций товаров на сайт интернет магазина, чтобы повысить конверсию и средний чек заказа   \n",
       "1                                     Запустить собственную службу доставки, что сократит срок доставки заказов   \n",
       "5                      Добавить страницу отзывов клиентов о магазине, что позволит увеличить количество заказов   \n",
       "3           Изменить структура категорий, что увеличит конверсию, т.к. пользователи быстрее найдут нужный товар   \n",
       "4                              Изменить цвет фона главной страницы, чтобы увеличить вовлеченность пользователей   \n",
       "\n",
       "                 ICE  \n",
       "8               16.2  \n",
       "0 13.333333333333334  \n",
       "7               11.2  \n",
       "6                8.0  \n",
       "2                7.0  \n",
       "1                2.0  \n",
       "5 1.3333333333333333  \n",
       "3              1.125  \n",
       "4                1.0  "
      ]
     },
     "execution_count": 7,
     "metadata": {},
     "output_type": "execute_result"
    }
   ],
   "source": [
    "# применили фреймворк ICE для приоритизации гипотез\n",
    "hypothesis['ICE'] = hypothesis['Impact'] * hypothesis['Confidence'] / hypothesis['Efforts']\n",
    "hypothesis[['Hypothesis', 'ICE']].sort_values(by='ICE', ascending=False)"
   ]
  },
  {
   "cell_type": "code",
   "execution_count": 8,
   "id": "1ebecb1d",
   "metadata": {},
   "outputs": [
    {
     "data": {
      "text/html": [
       "<div>\n",
       "<style scoped>\n",
       "    .dataframe tbody tr th:only-of-type {\n",
       "        vertical-align: middle;\n",
       "    }\n",
       "\n",
       "    .dataframe tbody tr th {\n",
       "        vertical-align: top;\n",
       "    }\n",
       "\n",
       "    .dataframe thead th {\n",
       "        text-align: right;\n",
       "    }\n",
       "</style>\n",
       "<table border=\"1\" class=\"dataframe\">\n",
       "  <thead>\n",
       "    <tr style=\"text-align: right;\">\n",
       "      <th></th>\n",
       "      <th>Hypothesis</th>\n",
       "      <th>RICE</th>\n",
       "    </tr>\n",
       "  </thead>\n",
       "  <tbody>\n",
       "    <tr>\n",
       "      <th>7</th>\n",
       "      <td>Добавить форму подписки на все основные страницы, чтобы собрать базу клиентов для email-рассылок</td>\n",
       "      <td>112.0</td>\n",
       "    </tr>\n",
       "    <tr>\n",
       "      <th>2</th>\n",
       "      <td>Добавить блоки рекомендаций товаров на сайт интернет магазина, чтобы повысить конверсию и средний чек заказа</td>\n",
       "      <td>56.0</td>\n",
       "    </tr>\n",
       "    <tr>\n",
       "      <th>0</th>\n",
       "      <td>Добавить два новых канала привлечения трафика, что позволит привлекать на 30% больше пользователей</td>\n",
       "      <td>40.0</td>\n",
       "    </tr>\n",
       "    <tr>\n",
       "      <th>6</th>\n",
       "      <td>Показать на главной странице баннеры с актуальными акциями и распродажами, чтобы увеличить конверсию</td>\n",
       "      <td>40.0</td>\n",
       "    </tr>\n",
       "    <tr>\n",
       "      <th>8</th>\n",
       "      <td>Запустить акцию, дающую скидку на товар в день рождения</td>\n",
       "      <td>16.2</td>\n",
       "    </tr>\n",
       "    <tr>\n",
       "      <th>3</th>\n",
       "      <td>Изменить структура категорий, что увеличит конверсию, т.к. пользователи быстрее найдут нужный товар</td>\n",
       "      <td>9.0</td>\n",
       "    </tr>\n",
       "    <tr>\n",
       "      <th>1</th>\n",
       "      <td>Запустить собственную службу доставки, что сократит срок доставки заказов</td>\n",
       "      <td>4.0</td>\n",
       "    </tr>\n",
       "    <tr>\n",
       "      <th>5</th>\n",
       "      <td>Добавить страницу отзывов клиентов о магазине, что позволит увеличить количество заказов</td>\n",
       "      <td>4.0</td>\n",
       "    </tr>\n",
       "    <tr>\n",
       "      <th>4</th>\n",
       "      <td>Изменить цвет фона главной страницы, чтобы увеличить вовлеченность пользователей</td>\n",
       "      <td>3.0</td>\n",
       "    </tr>\n",
       "  </tbody>\n",
       "</table>\n",
       "</div>"
      ],
      "text/plain": [
       "                                                                                                     Hypothesis  \\\n",
       "7              Добавить форму подписки на все основные страницы, чтобы собрать базу клиентов для email-рассылок   \n",
       "2  Добавить блоки рекомендаций товаров на сайт интернет магазина, чтобы повысить конверсию и средний чек заказа   \n",
       "0            Добавить два новых канала привлечения трафика, что позволит привлекать на 30% больше пользователей   \n",
       "6          Показать на главной странице баннеры с актуальными акциями и распродажами, чтобы увеличить конверсию   \n",
       "8                                                       Запустить акцию, дающую скидку на товар в день рождения   \n",
       "3           Изменить структура категорий, что увеличит конверсию, т.к. пользователи быстрее найдут нужный товар   \n",
       "1                                     Запустить собственную службу доставки, что сократит срок доставки заказов   \n",
       "5                      Добавить страницу отзывов клиентов о магазине, что позволит увеличить количество заказов   \n",
       "4                              Изменить цвет фона главной страницы, чтобы увеличить вовлеченность пользователей   \n",
       "\n",
       "   RICE  \n",
       "7 112.0  \n",
       "2  56.0  \n",
       "0  40.0  \n",
       "6  40.0  \n",
       "8  16.2  \n",
       "3   9.0  \n",
       "1   4.0  \n",
       "5   4.0  \n",
       "4   3.0  "
      ]
     },
     "execution_count": 8,
     "metadata": {},
     "output_type": "execute_result"
    }
   ],
   "source": [
    "# применили фреймворк ICE для приоритизации гипотез\n",
    "hypothesis['RICE'] = hypothesis['Reach'] * hypothesis['Impact'] * hypothesis['Confidence'] / hypothesis['Efforts']\n",
    "\n",
    "hypothesis[['Hypothesis', 'RICE']].sort_values(by='RICE', ascending=False)"
   ]
  },
  {
   "cell_type": "markdown",
   "id": "6e6006df",
   "metadata": {},
   "source": [
    "**Вывод:**\n",
    "- **При применении RICE в отличии от ICE учитывается, скольких пользователей затронет изменение**. \n",
    "- Поэтому для гипотез, охватывающих меньшее число пользователей, приоритет снизился. Например, запустить акцию, дающую скидку на товар в день рождения охватывает совсем небольшое число пользователей.\n",
    "- И наоборот: гипотезы, охватывающие большее число пользователей, выросли в приоритете. Например, добавить форму подписки на все основные страницы, чтобы собрать базу клиентов для email-рассылок.\n",
    "- После применения фреймворка RICE самый высокий приоритет получила гипотеза добавить форму подписки на все основные страницы, чтобы собрать базу клиентов для email-рассылок."
   ]
  },
  {
   "cell_type": "markdown",
   "id": "f6019a00",
   "metadata": {},
   "source": [
    "## Часть 2. Анализ A/B-теста"
   ]
  },
  {
   "cell_type": "markdown",
   "id": "6791ca65",
   "metadata": {},
   "source": [
    "### Подключение файлов и предобработка данных"
   ]
  },
  {
   "cell_type": "code",
   "execution_count": 32,
   "id": "d9492833",
   "metadata": {},
   "outputs": [
    {
     "name": "stdout",
     "output_type": "stream",
     "text": [
      "<class 'pandas.core.frame.DataFrame'>\n",
      "RangeIndex: 1197 entries, 0 to 1196\n",
      "Data columns (total 5 columns):\n",
      " #   Column         Non-Null Count  Dtype \n",
      "---  ------         --------------  ----- \n",
      " 0   transactionId  1197 non-null   int64 \n",
      " 1   visitorId      1197 non-null   int64 \n",
      " 2   date           1197 non-null   object\n",
      " 3   revenue        1197 non-null   int64 \n",
      " 4   group          1197 non-null   object\n",
      "dtypes: int64(3), object(2)\n",
      "memory usage: 46.9+ KB\n"
     ]
    }
   ],
   "source": [
    "#прочли данные из файла с заказами\n",
    "orders.info()"
   ]
  },
  {
   "cell_type": "code",
   "execution_count": 33,
   "id": "621845e1",
   "metadata": {},
   "outputs": [
    {
     "data": {
      "text/html": [
       "<div>\n",
       "<style scoped>\n",
       "    .dataframe tbody tr th:only-of-type {\n",
       "        vertical-align: middle;\n",
       "    }\n",
       "\n",
       "    .dataframe tbody tr th {\n",
       "        vertical-align: top;\n",
       "    }\n",
       "\n",
       "    .dataframe thead th {\n",
       "        text-align: right;\n",
       "    }\n",
       "</style>\n",
       "<table border=\"1\" class=\"dataframe\">\n",
       "  <thead>\n",
       "    <tr style=\"text-align: right;\">\n",
       "      <th></th>\n",
       "      <th>date</th>\n",
       "      <th>group</th>\n",
       "      <th>visitors</th>\n",
       "    </tr>\n",
       "  </thead>\n",
       "  <tbody>\n",
       "    <tr>\n",
       "      <th>0</th>\n",
       "      <td>2019-08-01</td>\n",
       "      <td>A</td>\n",
       "      <td>719</td>\n",
       "    </tr>\n",
       "    <tr>\n",
       "      <th>1</th>\n",
       "      <td>2019-08-02</td>\n",
       "      <td>A</td>\n",
       "      <td>619</td>\n",
       "    </tr>\n",
       "    <tr>\n",
       "      <th>2</th>\n",
       "      <td>2019-08-03</td>\n",
       "      <td>A</td>\n",
       "      <td>507</td>\n",
       "    </tr>\n",
       "    <tr>\n",
       "      <th>3</th>\n",
       "      <td>2019-08-04</td>\n",
       "      <td>A</td>\n",
       "      <td>717</td>\n",
       "    </tr>\n",
       "    <tr>\n",
       "      <th>4</th>\n",
       "      <td>2019-08-05</td>\n",
       "      <td>A</td>\n",
       "      <td>756</td>\n",
       "    </tr>\n",
       "  </tbody>\n",
       "</table>\n",
       "</div>"
      ],
      "text/plain": [
       "        date group  visitors\n",
       "0 2019-08-01     A       719\n",
       "1 2019-08-02     A       619\n",
       "2 2019-08-03     A       507\n",
       "3 2019-08-04     A       717\n",
       "4 2019-08-05     A       756"
      ]
     },
     "metadata": {},
     "output_type": "display_data"
    },
    {
     "name": "stdout",
     "output_type": "stream",
     "text": [
      "<class 'pandas.core.frame.DataFrame'>\n",
      "RangeIndex: 62 entries, 0 to 61\n",
      "Data columns (total 3 columns):\n",
      " #   Column    Non-Null Count  Dtype         \n",
      "---  ------    --------------  -----         \n",
      " 0   date      62 non-null     datetime64[ns]\n",
      " 1   group     62 non-null     object        \n",
      " 2   visitors  62 non-null     int64         \n",
      "dtypes: datetime64[ns](1), int64(1), object(1)\n",
      "memory usage: 1.6+ KB\n"
     ]
    }
   ],
   "source": [
    "#прочли данные из файла с визитами\n",
    "display(visitors.head())\n",
    "visitors.info()"
   ]
  },
  {
   "cell_type": "markdown",
   "id": "00e2399c",
   "metadata": {},
   "source": [
    "В обоих датасетах нет пропусков. Поля с датами необходимо привести к типу datetime."
   ]
  },
  {
   "cell_type": "code",
   "execution_count": 11,
   "id": "273a23db",
   "metadata": {},
   "outputs": [],
   "source": [
    "orders['date'] = orders['date'].map(\n",
    "    lambda x: dt.datetime.strptime(x, '%Y-%m-%d')\n",
    ")\n",
    "\n",
    "visitors['date'] = visitors['date'].map(\n",
    "    lambda x: dt.datetime.strptime(x, '%Y-%m-%d')\n",
    ")"
   ]
  },
  {
   "cell_type": "code",
   "execution_count": 12,
   "id": "f02a51dd",
   "metadata": {},
   "outputs": [
    {
     "name": "stdout",
     "output_type": "stream",
     "text": [
      "0\n",
      "0\n"
     ]
    }
   ],
   "source": [
    "# проверили датасеты на наличие дубликатов\n",
    "print(orders.duplicated().sum())\n",
    "print(visitors.duplicated().sum())"
   ]
  },
  {
   "cell_type": "markdown",
   "id": "89fa2ea5",
   "metadata": {},
   "source": [
    "**Выводы:**\n",
    "- В обоих датасетах нет пропусков и полных дубликатов;\n",
    "- Кроме формата данных дамечаний нет."
   ]
  },
  {
   "cell_type": "markdown",
   "id": "5df4749d",
   "metadata": {},
   "source": [
    "### Кумулятивные показатели"
   ]
  },
  {
   "cell_type": "markdown",
   "id": "60ad76d0",
   "metadata": {},
   "source": [
    "По центральной предельной теореме значение кумулятивных метрик часто сходится и устанавливается около некоторого среднего. Тогда по графику кумулятивных метрик определяют, стоит останавливать тест или нет. "
   ]
  },
  {
   "cell_type": "markdown",
   "id": "5ecfeb83",
   "metadata": {},
   "source": [
    "#### Кумулятивная выручка"
   ]
  },
  {
   "cell_type": "code",
   "execution_count": 13,
   "id": "e91abd1f",
   "metadata": {},
   "outputs": [
    {
     "name": "stdout",
     "output_type": "stream",
     "text": [
      "        date group  orders  buyers  revenue  visitors\n",
      "0 2019-08-01     A      24      20   148579       719\n",
      "1 2019-08-01     B      21      20   101217       713\n",
      "2 2019-08-02     A      44      38   242401      1338\n",
      "3 2019-08-02     B      45      43   266748      1294\n",
      "4 2019-08-03     A      68      62   354874      1845\n"
     ]
    }
   ],
   "source": [
    "# создаем массив уникальных пар значений дат и групп теста\n",
    "datesGroups = orders[['date','group']].drop_duplicates()\n",
    "\n",
    "# получаем агрегированные кумулятивные по дням данные о заказах \n",
    "ordersAggregated = datesGroups.apply(\n",
    "    lambda x: orders[np.logical_and(orders['date'] <= x['date'], orders['group'] == x['group'])]\n",
    "    .agg({'date' : 'max', 'group' : 'max', 'transactionId' : 'nunique', 'visitorId' : 'nunique', 'revenue' : 'sum'}), axis=1\n",
    ").sort_values(by=['date','group'])\n",
    "\n",
    "# получаем агрегированные кумулятивные по дням данные о посетителях интернет-магазина \n",
    "visitorsAggregated = datesGroups.apply(\n",
    "    lambda x: visitors[np.logical_and(visitors['date'] <= x['date'], visitors['group'] == x['group'])]\n",
    "    .agg({'date' : 'max', 'group' : 'max', 'visitors' : 'sum'}), axis=1\n",
    ").sort_values(by=['date','group'])\n",
    "\n",
    "# объединяем кумулятивные данные в одной таблице и присваиваем ее столбцам понятные названия\n",
    "cumulativeData = ordersAggregated.merge(\n",
    "    visitorsAggregated, left_on=['date', 'group'], right_on=['date', 'group']\n",
    ")\n",
    "cumulativeData.columns = ['date', 'group', 'orders', 'buyers', 'revenue', 'visitors']\n",
    "\n",
    "print(cumulativeData.head(5))"
   ]
  },
  {
   "cell_type": "code",
   "execution_count": 14,
   "id": "072e8626",
   "metadata": {},
   "outputs": [
    {
     "name": "stdout",
     "output_type": "stream",
     "text": [
      "Количество пользователей, которые попадают в обе группы: 58\n"
     ]
    }
   ],
   "source": [
    "# посчитали количество пользователей, которые попали в обе группы\n",
    "visitors_a = set(orders[orders['group'] == 'A']['visitorId'].unique())\n",
    "visitors_b = set(orders[orders['group'] == 'B']['visitorId'].unique())\n",
    "visitors_ab = visitors_a.intersection(visitors_b)\n",
    "print('Количество пользователей, которые попадают в обе группы:', len(visitors_ab))"
   ]
  },
  {
   "cell_type": "code",
   "execution_count": 15,
   "id": "1b9b3d68",
   "metadata": {},
   "outputs": [
    {
     "data": {
      "image/png": "[encoded data removed]",
      "text/plain": [
       "<Figure size 640x480 with 1 Axes>"
      ]
     },
     "metadata": {},
     "output_type": "display_data"
    }
   ],
   "source": [
    "# датафрейм с кумулятивным количеством заказов и кумулятивной выручкой по дням в группе А\n",
    "cumulativeRevenueA = cumulativeData[cumulativeData['group']=='A'][['date','revenue', 'orders']]\n",
    "\n",
    "# датафрейм с кумулятивным количеством заказов и кумулятивной выручкой по дням в группе B\n",
    "cumulativeRevenueB = cumulativeData[cumulativeData['group']=='B'][['date','revenue', 'orders']]\n",
    "\n",
    "# Строим график выручки группы А\n",
    "plt.plot(cumulativeRevenueA['date'], cumulativeRevenueA['revenue'], label='A')\n",
    "\n",
    "# Строим график выручки группы B\n",
    "plt.plot(cumulativeRevenueB['date'], cumulativeRevenueB['revenue'], label='B')\n",
    "\n",
    "plt.legend()\n",
    "plt.title('Кумулятивная выручка по группам')\n",
    "plt.xticks(rotation=45)\n",
    "plt.ylabel('Выручка')\n",
    "plt.ticklabel_format(style='plain', axis='y')\n",
    "plt.show()"
   ]
  },
  {
   "cell_type": "markdown",
   "id": "f2e46e1b",
   "metadata": {},
   "source": [
    "Практически во все время проведения теста по кумулятивной выручке преобладает группа В. \n",
    "\n",
    "Кумулятивная выручка обеих групп растет почти равномерно, только в одной точке после 17 августа наблюдается резкий всплеск в группе B. Это может сигнализировать о всплесках числа заказов, либо о появлении очень дорогих заказов в выборке."
   ]
  },
  {
   "cell_type": "markdown",
   "id": "39328772",
   "metadata": {},
   "source": [
    "#### Кумулятивный средний чек"
   ]
  },
  {
   "cell_type": "code",
   "execution_count": 16,
   "id": "e194ff7a",
   "metadata": {},
   "outputs": [
    {
     "data": {
      "image/png": "[encoded data removed]",
      "text/plain": [
       "<Figure size 640x480 with 1 Axes>"
      ]
     },
     "metadata": {},
     "output_type": "display_data"
    }
   ],
   "source": [
    "# разделим кумулятивную выручку на кумулятивное число заказов, чтобы построить графики кумулятивного среднего чека\n",
    "plt.plot(cumulativeRevenueA['date'], cumulativeRevenueA['revenue']/cumulativeRevenueA['orders'], label='A')\n",
    "plt.plot(cumulativeRevenueB['date'], cumulativeRevenueB['revenue']/cumulativeRevenueB['orders'], label='B')\n",
    "\n",
    "plt.legend()\n",
    "plt.title('Кумулятивный средний чек по группам')\n",
    "plt.xticks(rotation=45)\n",
    "plt.ylabel('Средний чек')\n",
    "plt.show()"
   ]
  },
  {
   "cell_type": "markdown",
   "id": "02428b4a",
   "metadata": {},
   "source": [
    "Кумулятивный средний чек группы В практически всегда преобладает. \n",
    "\n",
    "На первой половине графика средний чек обеих групп нестабилен. Примерно после 13 августа средний чек группы А стабилизировался и имеет тенденцию к увеличению. После 17 августа в группе B был резкий всплеск, после чего средний чек группы В снижается и еще не стабилизировался. Это сигнализирует о появлении очень дорогих заказов в выборке.\n",
    "\n",
    "Посмотрим на относительные изменения."
   ]
  },
  {
   "cell_type": "code",
   "execution_count": 17,
   "id": "52dd0329",
   "metadata": {},
   "outputs": [
    {
     "data": {
      "image/png": "[encoded data removed]",
      "text/plain": [
       "<Figure size 640x480 with 1 Axes>"
      ]
     },
     "metadata": {},
     "output_type": "display_data"
    }
   ],
   "source": [
    "# собираем данные в одном датафрейме\n",
    "mergedCumulativeRevenue = cumulativeRevenueA.merge(\n",
    "    cumulativeRevenueB, left_on='date', right_on='date', how='left', suffixes=['A', 'B']\n",
    "                                                  )\n",
    "\n",
    "# cтроим отношение средних чеков\n",
    "plt.plot(mergedCumulativeRevenue['date'], (\n",
    "    mergedCumulativeRevenue['revenueB']/mergedCumulativeRevenue['ordersB'])/(mergedCumulativeRevenue['revenueA']/mergedCumulativeRevenue['ordersA'])-1\n",
    "        )\n",
    "\n",
    "# добавляем ось X\n",
    "plt.axhline(y=0, color='black', linestyle='--')\n",
    "\n",
    "plt.title('Относительное изменение кумулятивного среднего чека группы В к группе А')\n",
    "plt.xticks(rotation=45)\n",
    "plt.show()"
   ]
  },
  {
   "cell_type": "markdown",
   "id": "a311e771",
   "metadata": {},
   "source": [
    "Выводы по графику относительного изменения повторяются: в первые дни отношение было нестабильно, а после 17 августа группа В резко увеличивает свое относительное преобладание, после чего относительное преобладание постепенно снижается. Это опять же свидетельствует об аномалиях в данных, и о том, что изменение в среднем чеке после них еще не стабилизировалось."
   ]
  },
  {
   "cell_type": "markdown",
   "id": "dcd3f063",
   "metadata": {},
   "source": [
    "#### Кумулятивное среднее количество заказов на посетителя"
   ]
  },
  {
   "cell_type": "code",
   "execution_count": 18,
   "id": "259ba57d",
   "metadata": {},
   "outputs": [
    {
     "data": {
      "image/png": "[encoded data removed]",
      "text/plain": [
       "<Figure size 640x480 with 1 Axes>"
      ]
     },
     "metadata": {},
     "output_type": "display_data"
    }
   ],
   "source": [
    "# датафрейм с кумулятивным количеством заказов и кумулятивным количеством пользователей по дням в группе А\n",
    "cumulativeOrderPerVisitorA = cumulativeData[cumulativeData['group']=='A'][['date', 'visitors', 'orders']]\n",
    "\n",
    "# датафрейм с кумулятивным количеством заказов и кумулятивным количеством пользователей по дням в группе А\n",
    "cumulativeOrderPerVisitorB = cumulativeData[cumulativeData['group']=='B'][['date', 'visitors', 'orders']]\n",
    "\n",
    "# разделим кумулятивное число заказов на кумулятивное число посетителей, \n",
    "# чтобы построить графики кумулятивного среднего количества заказов на посетителя\n",
    "plt.plot(cumulativeOrderPerVisitorA['date'], cumulativeOrderPerVisitorA['orders']/cumulativeOrderPerVisitorA['visitors'], label='A')\n",
    "plt.plot(cumulativeOrderPerVisitorB['date'], cumulativeOrderPerVisitorB['orders']/cumulativeOrderPerVisitorB['visitors'], label='B')\n",
    "\n",
    "plt.legend()\n",
    "plt.title('Кумулятивное среднее количество заказов на посетителя по группам')\n",
    "plt.xticks(rotation=45)\n",
    "plt.ylabel('Среднее количество заказов')\n",
    "plt.ticklabel_format(style='plain', axis='y')\n",
    "plt.show()"
   ]
  },
  {
   "cell_type": "markdown",
   "id": "96dd5f84",
   "metadata": {},
   "source": [
    "В первые дни среднее количество заказов на посетителя по группам неустойчиво. Это можеть быть вызвано как аномалиями, так и тем, что данных пока мало и возможны флуктуации.\n",
    "\n",
    "После 5 августа начинает преобладать группа В, после чего кумулятивное среднее количество заказов на посетителя у обеих групп колеблется на одном уровне.\n",
    "\n",
    "Посмотрим относительные изменения."
   ]
  },
  {
   "cell_type": "code",
   "execution_count": 19,
   "id": "e3787e78",
   "metadata": {},
   "outputs": [
    {
     "data": {
      "image/png": "[encoded data removed]",
      "text/plain": [
       "<Figure size 640x480 with 1 Axes>"
      ]
     },
     "metadata": {},
     "output_type": "display_data"
    }
   ],
   "source": [
    "# собираем данные в одном датафрейме\n",
    "mergedCumulativeOrderPerVisitor = cumulativeOrderPerVisitorA.merge(\n",
    "    cumulativeOrderPerVisitorB, left_on='date', right_on='date', how='left', suffixes=['A', 'B']\n",
    "                                                  )\n",
    "# cтроим отношение средних количеств заказов\n",
    "plt.plot(mergedCumulativeOrderPerVisitor['date'], (\n",
    "    mergedCumulativeOrderPerVisitor['ordersB']/mergedCumulativeOrderPerVisitor['visitorsB'])/(mergedCumulativeOrderPerVisitor['ordersA']/mergedCumulativeOrderPerVisitor['visitorsA'])-1\n",
    "        )\n",
    "\n",
    "# добавляем ось X и отмечаем уровень преобладания\n",
    "plt.axhline(y=0, color='black', linestyle='--')\n",
    "plt.axhline(y=0.1, color='grey', linestyle='--')\n",
    "\n",
    "plt.title('Кумулятивное среднее количество заказов на посетителя группы В к группе А')\n",
    "plt.xticks(rotation=45)\n",
    "plt.show()"
   ]
  },
  {
   "cell_type": "markdown",
   "id": "d670e7d4",
   "metadata": {},
   "source": [
    "Как и на прошлом графике, в начале наблюдения видны флуктуации. После 5 августа начинает преобладать среднее количество заказов на посетителя группы В над группой А. Отношение остается примерно на одном и том же уровне (y=0.1) до конца наблюдения."
   ]
  },
  {
   "cell_type": "markdown",
   "id": "40904829",
   "metadata": {},
   "source": [
    "### Выбросы и аномалии"
   ]
  },
  {
   "cell_type": "markdown",
   "id": "81577bcf",
   "metadata": {},
   "source": [
    "#### Количество заказов посетителей"
   ]
  },
  {
   "cell_type": "code",
   "execution_count": 20,
   "id": "cdec750e",
   "metadata": {},
   "outputs": [
    {
     "data": {
      "image/png": "[encoded data removed]",
      "text/plain": [
       "<Figure size 640x480 with 1 Axes>"
      ]
     },
     "metadata": {},
     "output_type": "display_data"
    }
   ],
   "source": [
    "# группируем датасет по пользователям\n",
    "ordersByUsers = (\n",
    "    orders.groupby('visitorId', as_index=False)\n",
    "    .agg({'transactionId': 'nunique'})\n",
    ")\n",
    "ordersByUsers.columns = ['userId', 'orders']\n",
    "\n",
    "# создаем значения х\n",
    "x_values = pd.Series(range(0,len(ordersByUsers)))\n",
    "\n",
    "# строим точечный график\n",
    "plt.scatter(x_values, ordersByUsers['orders'])\n",
    "\n",
    "plt.title('Количество заказов по пользователям')\n",
    "plt.ylabel('Количество заказов')\n",
    "plt.show()"
   ]
  },
  {
   "cell_type": "markdown",
   "id": "31f95908",
   "metadata": {},
   "source": [
    "Большинство пользователей делали по 1-2 заказа. Встречаются и аномальные значения от 8, 9 и более заказов."
   ]
  },
  {
   "cell_type": "code",
   "execution_count": 21,
   "id": "72e1fa45",
   "metadata": {},
   "outputs": [
    {
     "data": {
      "text/plain": [
       "array([2., 4.])"
      ]
     },
     "execution_count": 21,
     "metadata": {},
     "output_type": "execute_result"
    }
   ],
   "source": [
    "# посчитали 95 и 99 перцентили количества заказов на пользователя\n",
    "perc_orders = np.percentile(ordersByUsers['orders'], [95, 99])\n",
    "perc_orders"
   ]
  },
  {
   "cell_type": "markdown",
   "id": "d0837be5",
   "metadata": {},
   "source": [
    "Не более 5% пользователей оформляли больше чем два заказа. И 1% пользователей заказывали более четырех раз. Разумно выбрать 2,3 или 4 заказа на одного пользователя за верхнюю границу числа заказов, и отсеять аномальных пользователей по ней. **Пусть границей будет два заказа**."
   ]
  },
  {
   "cell_type": "markdown",
   "id": "2acc341a",
   "metadata": {},
   "source": [
    " #### Стоимости заказов"
   ]
  },
  {
   "cell_type": "code",
   "execution_count": 22,
   "id": "a1e4ad5d",
   "metadata": {},
   "outputs": [
    {
     "data": {
      "image/png": "[encoded data removed]",
      "text/plain": [
       "<Figure size 640x480 with 1 Axes>"
      ]
     },
     "metadata": {},
     "output_type": "display_data"
    }
   ],
   "source": [
    "# создаем значения х\n",
    "x_values = pd.Series(range(0,len(orders['revenue'])))\n",
    "# строим точечный график\n",
    "plt.scatter(x_values, orders['revenue'])\n",
    "\n",
    "plt.ticklabel_format(style='plain', axis='y')\n",
    "plt.title('Стоимости заказов')\n",
    "plt.ylabel('Сумма заказа')\n",
    "plt.show()"
   ]
  },
  {
   "cell_type": "markdown",
   "id": "8a47da7c",
   "metadata": {},
   "source": [
    "Большинство сумм заказов сосредоточено в диапазон от 0 до 50000. Есть выброс в районе 200000 и даже 1200000,  выбросы могут сильно изменить показатели."
   ]
  },
  {
   "cell_type": "code",
   "execution_count": 23,
   "id": "eb4adb78",
   "metadata": {},
   "outputs": [
    {
     "data": {
      "text/plain": [
       "array([28000. , 58233.2])"
      ]
     },
     "execution_count": 23,
     "metadata": {},
     "output_type": "execute_result"
    }
   ],
   "source": [
    "# определим перцентили для отделения аномалий\n",
    "perc_avg = np.percentile(orders['revenue'], [95, 99])\n",
    "perc_avg"
   ]
  },
  {
   "cell_type": "markdown",
   "id": "3940dadd",
   "metadata": {},
   "source": [
    "Сумма не более 5% заказов больше 28000, сума не более 1% заказов больше 58233. **Проведем границу для отсеивания аномалий на 28 тысячах**."
   ]
  },
  {
   "cell_type": "markdown",
   "id": "e25ea508",
   "metadata": {},
   "source": [
    "### Проверка статистических гипотез"
   ]
  },
  {
   "cell_type": "markdown",
   "id": "ccb79c58",
   "metadata": {},
   "source": [
    "Необходимо проверить две гипотезы: об изменении среднего количества заказов на пользователя и среднего чека.\n",
    "\n",
    "Для первой гипотезы: \n",
    "\n",
    "```H0: среднее количество заказов на пользователя в гр. А = среднее количество заказов на пользователя в гр. В```\n",
    "\n",
    "```H1: среднее количество заказов на пользователя в гр. А ≠ среднее количество заказов на пользователя в гр. В```\n",
    "\n",
    "Для второй гипотезы: \n",
    "\n",
    "```H0: средний чек в гр. А = средний чек в гр. В```\n",
    "\n",
    "```H1: средний чек в гр. А ≠ средний чек в гр. В```"
   ]
  },
  {
   "cell_type": "markdown",
   "id": "6164fc41",
   "metadata": {},
   "source": [
    "#### Проверка по «сырым» данным"
   ]
  },
  {
   "cell_type": "code",
   "execution_count": 24,
   "id": "7c8aac08",
   "metadata": {},
   "outputs": [
    {
     "data": {
      "text/html": [
       "<div>\n",
       "<style scoped>\n",
       "    .dataframe tbody tr th:only-of-type {\n",
       "        vertical-align: middle;\n",
       "    }\n",
       "\n",
       "    .dataframe tbody tr th {\n",
       "        vertical-align: top;\n",
       "    }\n",
       "\n",
       "    .dataframe thead th {\n",
       "        text-align: right;\n",
       "    }\n",
       "</style>\n",
       "<table border=\"1\" class=\"dataframe\">\n",
       "  <thead>\n",
       "    <tr style=\"text-align: right;\">\n",
       "      <th></th>\n",
       "      <th>date</th>\n",
       "      <th>ordersPerDateA</th>\n",
       "      <th>revenuePerDateA</th>\n",
       "      <th>ordersPerDateB</th>\n",
       "      <th>revenuePerDateB</th>\n",
       "      <th>visitorsPerDateA</th>\n",
       "      <th>visitorsPerDateB</th>\n",
       "    </tr>\n",
       "  </thead>\n",
       "  <tbody>\n",
       "    <tr>\n",
       "      <th>0</th>\n",
       "      <td>2019-08-01</td>\n",
       "      <td>24</td>\n",
       "      <td>148579</td>\n",
       "      <td>21</td>\n",
       "      <td>101217</td>\n",
       "      <td>719</td>\n",
       "      <td>713</td>\n",
       "    </tr>\n",
       "    <tr>\n",
       "      <th>1</th>\n",
       "      <td>2019-08-02</td>\n",
       "      <td>20</td>\n",
       "      <td>93822</td>\n",
       "      <td>24</td>\n",
       "      <td>165531</td>\n",
       "      <td>619</td>\n",
       "      <td>581</td>\n",
       "    </tr>\n",
       "    <tr>\n",
       "      <th>2</th>\n",
       "      <td>2019-08-03</td>\n",
       "      <td>24</td>\n",
       "      <td>112473</td>\n",
       "      <td>16</td>\n",
       "      <td>114248</td>\n",
       "      <td>507</td>\n",
       "      <td>509</td>\n",
       "    </tr>\n",
       "    <tr>\n",
       "      <th>3</th>\n",
       "      <td>2019-08-04</td>\n",
       "      <td>16</td>\n",
       "      <td>70825</td>\n",
       "      <td>17</td>\n",
       "      <td>108571</td>\n",
       "      <td>717</td>\n",
       "      <td>770</td>\n",
       "    </tr>\n",
       "    <tr>\n",
       "      <th>4</th>\n",
       "      <td>2019-08-05</td>\n",
       "      <td>25</td>\n",
       "      <td>124218</td>\n",
       "      <td>23</td>\n",
       "      <td>92428</td>\n",
       "      <td>756</td>\n",
       "      <td>707</td>\n",
       "    </tr>\n",
       "  </tbody>\n",
       "</table>\n",
       "</div>"
      ],
      "text/plain": [
       "        date  ordersPerDateA  revenuePerDateA  ordersPerDateB  \\\n",
       "0 2019-08-01              24           148579              21   \n",
       "1 2019-08-02              20            93822              24   \n",
       "2 2019-08-03              24           112473              16   \n",
       "3 2019-08-04              16            70825              17   \n",
       "4 2019-08-05              25           124218              23   \n",
       "\n",
       "   revenuePerDateB  visitorsPerDateA  visitorsPerDateB  \n",
       "0           101217               719               713  \n",
       "1           165531               619               581  \n",
       "2           114248               507               509  \n",
       "3           108571               717               770  \n",
       "4            92428               756               707  "
      ]
     },
     "execution_count": 24,
     "metadata": {},
     "output_type": "execute_result"
    }
   ],
   "source": [
    "# создадим фрейм data с датами, количеством заказов, выручкой и посетителями в этот день по группам\n",
    "visitorsADaily = visitors[visitors['group'] == 'A'][['date', 'visitors']]\n",
    "visitorsADaily.columns = ['date', 'visitorsPerDateA']\n",
    "\n",
    "visitorsBDaily = visitors[visitors['group'] == 'B'][['date', 'visitors']]\n",
    "visitorsBDaily.columns = ['date', 'visitorsPerDateB']\n",
    "\n",
    "ordersADaily = (\n",
    "    orders[orders['group'] == 'A'][['date', 'transactionId', 'visitorId', 'revenue']]\n",
    "    .groupby('date', as_index=False)\n",
    "    .agg({'transactionId': pd.Series.nunique, 'revenue': 'sum'})\n",
    ")\n",
    "ordersADaily.columns = ['date', 'ordersPerDateA', 'revenuePerDateA']\n",
    "\n",
    "ordersBDaily = (\n",
    "    orders[orders['group'] == 'B'][['date', 'transactionId', 'visitorId', 'revenue']]\n",
    "    .groupby('date', as_index=False)\n",
    "    .agg({'transactionId': pd.Series.nunique, 'revenue': 'sum'})\n",
    ")\n",
    "ordersBDaily.columns = ['date', 'ordersPerDateB', 'revenuePerDateB']\n",
    "\n",
    "data = (\n",
    "    ordersADaily.merge(\n",
    "        ordersBDaily, left_on='date', right_on='date', how='left'\n",
    "    )\n",
    "    .merge(visitorsADaily, left_on='date', right_on='date', how='left')\n",
    "    .merge(visitorsBDaily, left_on='date', right_on='date', how='left')\n",
    ")\n",
    "\n",
    "data.head()"
   ]
  },
  {
   "cell_type": "code",
   "execution_count": 25,
   "id": "50a459dc",
   "metadata": {},
   "outputs": [
    {
     "name": "stdout",
     "output_type": "stream",
     "text": [
      "p-value: 0.017\n",
      "Прирост среднего числа заказов группы B: 0.138\n"
     ]
    }
   ],
   "source": [
    "# Для пользователей, которые заказывали хотя бы 1 раз, укажем число совершённых заказов\n",
    "ordersByUsersA = (\n",
    "    orders[orders['group'] == 'A']\n",
    "    .groupby('visitorId', as_index=False)\n",
    "    .agg({'transactionId': pd.Series.nunique})\n",
    ")\n",
    "ordersByUsersA.columns = ['userId', 'orders']\n",
    "\n",
    "ordersByUsersB = (\n",
    "    orders[orders['group'] == 'B']\n",
    "    .groupby('visitorId', as_index=False)\n",
    "    .agg({'transactionId': pd.Series.nunique})\n",
    ")\n",
    "ordersByUsersB.columns = ['userId', 'orders']\n",
    "\n",
    "# Объявим переменные sampleA и sampleB, в которых пользователям из разных групп \n",
    "# будет соответствовать количество заказов. Тем, кто ничего не заказал, будут соответствовать нули.\n",
    "# Их количество равно разнице между суммой посетителей и количеством записей о заказах.\n",
    "# Это нужно, чтобы подготовить выборки к проверке критерием Манна-Уитни.\n",
    "sampleA = pd.concat(\n",
    "    [\n",
    "        ordersByUsersA['orders'],\n",
    "        pd.Series(\n",
    "            0,\n",
    "            index=np.arange(\n",
    "                data['visitorsPerDateA'].sum() - len(ordersByUsersA['orders'])\n",
    "            ),\n",
    "            name='orders',\n",
    "        ),\n",
    "    ],\n",
    "    axis=0,\n",
    ")\n",
    "\n",
    "sampleB = pd.concat(\n",
    "    [\n",
    "        ordersByUsersB['orders'],\n",
    "        pd.Series(\n",
    "            0,\n",
    "            index=np.arange(\n",
    "                data['visitorsPerDateB'].sum() - len(ordersByUsersB['orders'])\n",
    "            ),\n",
    "            name='orders',\n",
    "        ),\n",
    "    ],\n",
    "    axis=0,\n",
    ")\n",
    "\n",
    "# Применим критерий и отформатируем p-value, округлив его до трёх знаков после запятой,\n",
    "# второе значение в массиве результатов (с индексом 1) - p-value\n",
    "print('p-value:', \"{0:.3f}\".format(stats.mannwhitneyu(sampleA, sampleB)[1]))\n",
    "\n",
    "# Число элементов sampleA — это количество пользователей, сумма всех элементов — количество заказов.\n",
    "# Чтобы получить среднее число заказов на пользователя, поделим сумму заказов на число пользователей - \n",
    "# найдём среднее в выборке методом mean()\n",
    "# Выведем относительный прирост среднего числа заказов группы B\n",
    "print('Прирост среднего числа заказов группы B:', \"{0:.3f}\".format(sampleB.mean() / sampleA.mean() - 1))"
   ]
  },
  {
   "cell_type": "markdown",
   "id": "6e5d6efe",
   "metadata": {},
   "source": [
    "Первое число - **p-value - равно 1,7%**, что меньше обычно принимаемого уровня значимости 5%. Значит, что вероятность получить такие различия между средним числом заказов на посетителя в группе А и в группе В при условии, что H0 верна, слишком мала. **Есть основания отвергнуть гипотезу о том, что среднее число заказов на посетителя в группе А и в группе В равно**.\n",
    "\n",
    "Второе число показывает, что относительный выигрыш по среднему числу заказов на посетителя в группе B составляет 13,8%. \n",
    "\n",
    "**Значит, что в группе B посетители делают заказов больше, чем в группе А. Эта разница составляет 13.8% и она статистически значима.**\n",
    "\n",
    "Теперь проверим гипотезу о среднем чеке."
   ]
  },
  {
   "cell_type": "code",
   "execution_count": 26,
   "id": "6fadc217",
   "metadata": {},
   "outputs": [
    {
     "name": "stdout",
     "output_type": "stream",
     "text": [
      "p-value: 0.729\n",
      "Прирост среднего чека группы В: 0.259\n"
     ]
    }
   ],
   "source": [
    "# Применим критерий на столбец с выручкой в датасете с заказами\n",
    "print('p-value:', '{0:.3f}'.format(stats.mannwhitneyu(orders[orders['group']=='A']['revenue'], orders[orders['group']=='B']['revenue'])[1]))\n",
    "# По этому же столбцу посчитаем средние чеки в группах\n",
    "print('Прирост среднего чека группы В:', '{0:.3f}'.format(orders[orders['group']=='B']['revenue'].mean()/orders[orders['group']=='A']['revenue'].mean()-1))"
   ]
  },
  {
   "cell_type": "markdown",
   "id": "28af12e2",
   "metadata": {},
   "source": [
    "Первое число - **p-value - равно 72.9%**, что гораздо выше обычно принимаемого уровня значимости 5%. Значит, что вероятность получить такую разницу между средним чеком группы A и В при условии, что нулевая гипотеза верна, очень высокая. **Нет оснований отвергать нулевую гипотезу о том, что средние чеки обеих групп равны**.\n",
    "\n",
    "**Второе число показывает, что средний чек группы B выше среднего чека группы A на 25.9%. Но эта разница не статистически значима, вероятнее всего она получилась случайно из-за аномалий.**\n",
    "\n",
    "Тогда следует проверить очищенные от аномалий и выбросов данные."
   ]
  },
  {
   "cell_type": "markdown",
   "id": "8f73a996",
   "metadata": {},
   "source": [
    "#### Проверка по «очищенным» данным"
   ]
  },
  {
   "cell_type": "markdown",
   "id": "a85b2e5c",
   "metadata": {},
   "source": [
    "Сделаем срезы пользователей с числом заказов больше 3 — usersWithManyOrders и пользователей, совершивших заказы дороже 35 000 — usersWithExpensiveOrders. Такие числы мы получили в анализе выбросов и аномалий."
   ]
  },
  {
   "cell_type": "code",
   "execution_count": 27,
   "id": "dbdc47ff",
   "metadata": {},
   "outputs": [
    {
     "name": "stdout",
     "output_type": "stream",
     "text": [
      "1099    148427295\n",
      "18      199603092\n",
      "928     204675465\n",
      "23      237748145\n",
      "37      249864742\n",
      "dtype: int64\n",
      "74\n"
     ]
    }
   ],
   "source": [
    "# Сделаем срезы  и объединим их в таблице abnormalUsers \n",
    "\n",
    "usersWithManyOrders = pd.concat(\n",
    "    [\n",
    "        ordersByUsersA[ordersByUsersA['orders'] > perc_orders[0]]['userId'],\n",
    "        ordersByUsersB[ordersByUsersB['orders'] > perc_orders[0]]['userId'],\n",
    "    ],\n",
    "    axis=0,\n",
    ")\n",
    "usersWithExpensiveOrders = orders[orders['revenue'] > perc_avg[0]]['visitorId']\n",
    "abnormalUsers = (\n",
    "    pd.concat([usersWithManyOrders, usersWithExpensiveOrders], axis=0)\n",
    "    .drop_duplicates()\n",
    "    .sort_values()\n",
    ")\n",
    "print(abnormalUsers.head(5))\n",
    "print(abnormalUsers.shape[0])"
   ]
  },
  {
   "cell_type": "markdown",
   "id": "3115f1ef",
   "metadata": {},
   "source": [
    "Всего 74 аномальных пользователя. Узнаем, как их действия повлияли на результаты теста. Сначала очистим выборки, а потом проверим те же гипотезы, что и ранее, но уже на очищенных данных."
   ]
  },
  {
   "cell_type": "code",
   "execution_count": 28,
   "id": "f6b6a8e2",
   "metadata": {},
   "outputs": [],
   "source": [
    "#  Подготовим выборки количества заказов по пользователям по группам теста\n",
    "sampleAFiltered = pd.concat(\n",
    "    [\n",
    "        ordersByUsersA[\n",
    "            np.logical_not(ordersByUsersA['userId'].isin(abnormalUsers))\n",
    "        ]['orders'],\n",
    "        pd.Series(\n",
    "            0,\n",
    "            index=np.arange(\n",
    "                data['visitorsPerDateA'].sum() - len(ordersByUsersA['orders'])\n",
    "            ),\n",
    "            name='orders',\n",
    "        ),\n",
    "    ],\n",
    "    axis=0,\n",
    ")\n",
    "\n",
    "sampleBFiltered = pd.concat(\n",
    "    [\n",
    "        ordersByUsersB[\n",
    "            np.logical_not(ordersByUsersB['userId'].isin(abnormalUsers))\n",
    "        ]['orders'],\n",
    "        pd.Series(\n",
    "            0,\n",
    "            index=np.arange(\n",
    "                data['visitorsPerDateB'].sum() - len(ordersByUsersB['orders'])\n",
    "            ),\n",
    "            name='orders',\n",
    "        ),\n",
    "    ],\n",
    "    axis=0,\n",
    ")"
   ]
  },
  {
   "cell_type": "code",
   "execution_count": 29,
   "id": "7ab5fb89",
   "metadata": {},
   "outputs": [
    {
     "name": "stdout",
     "output_type": "stream",
     "text": [
      "p-value:  0.013\n",
      "Прирост среднего числа заказов группы В: 0.173\n"
     ]
    }
   ],
   "source": [
    "# Применим критерий\n",
    "print('p-value: ', '{0:.3f}'.format(stats.mannwhitneyu(sampleAFiltered, sampleBFiltered)[1]))\n",
    "# Посмотрим фактические различия\n",
    "print('Прирост среднего числа заказов группы В:', '{0:.3f}'.format(sampleBFiltered.mean()/sampleAFiltered.mean()-1))"
   ]
  },
  {
   "cell_type": "markdown",
   "id": "3c402f79",
   "metadata": {},
   "source": [
    "Первое число - **p-value - равно 1,3%**, что меньше обычно принимаемого уровня значимости 5%. Значит, есть основания отвергнуть гипотезу о том, что среднее число заказов по очищенным данным на посетителя в группе А и в группе В равно. Этот показатель по сравнению с неочищенными данными снизился, что еще раз подтверждает, что высока вероятность того, что в группах показатели среднего количества заказов на посетителя не равны.\n",
    "\n",
    "Второе число показывает, что относительный выигрыш по среднему числу заказов на посетителя в группе B по очищенным данным составляет 17.3%. Этот показатель по сравнению с неочищенными данными вырос: были выбросы, которые искажали результат. \n",
    "\n",
    "**Значит, что в группе B посетители делают заказов больше, чем в группе А. Эта разница статистически значима по неочищенным данным, а по очищенным данным она усиливается и составляет 17.3%.**"
   ]
  },
  {
   "cell_type": "code",
   "execution_count": 30,
   "id": "6fbbe44d",
   "metadata": {},
   "outputs": [
    {
     "name": "stdout",
     "output_type": "stream",
     "text": [
      "p-value: 0.738\n",
      "Прирост среднего чека группы B: -0.020\n"
     ]
    }
   ],
   "source": [
    "# Применим критерий на очищенные данные\n",
    "print(\n",
    "    'p-value:', '{0:.3f}'.format(\n",
    "        stats.mannwhitneyu(\n",
    "            orders[\n",
    "                np.logical_and(\n",
    "                    orders['group'] == 'A',\n",
    "                    np.logical_not(orders['visitorId'].isin(abnormalUsers)),\n",
    "                )\n",
    "            ]['revenue'],\n",
    "            orders[\n",
    "                np.logical_and(\n",
    "                    orders['group'] == 'B',\n",
    "                    np.logical_not(orders['visitorId'].isin(abnormalUsers)),\n",
    "                )\n",
    "            ]['revenue'],\n",
    "        )[1]\n",
    "    )\n",
    ")\n",
    "# Посчитаем фактические различия\n",
    "print(\n",
    "    'Прирост среднего чека группы B:', \"{0:.3f}\".format(\n",
    "        orders[\n",
    "            np.logical_and(\n",
    "                orders['group'] == 'B',\n",
    "                np.logical_not(orders['visitorId'].isin(abnormalUsers)),\n",
    "            )\n",
    "        ]['revenue'].mean()\n",
    "        / orders[\n",
    "            np.logical_and(\n",
    "                orders['group'] == 'A',\n",
    "                np.logical_not(orders['visitorId'].isin(abnormalUsers)),\n",
    "            )\n",
    "        ]['revenue'].mean()\n",
    "        - 1\n",
    "    )\n",
    ")"
   ]
  },
  {
   "cell_type": "markdown",
   "id": "ae8061d6",
   "metadata": {},
   "source": [
    "Р-value = 73.8%, значит, нет оснований отвергать гипотезу о равенстве средних чеков. На очищенных данных видно, что вероятность что средние чеки на самом деле неравны, еще меньше по сравнению с неочищенными.\n",
    "\n",
    "После очистки данных превосходство  средний чек группы В стал меньше среднего чека группы А на 2%. Так на результаты влияли выбросы. Значит, **с высокой вероятностью средние чеки обеих групп равны**."
   ]
  },
  {
   "cell_type": "markdown",
   "id": "f6b9a202",
   "metadata": {},
   "source": [
    "### Выводы\n",
    "\n",
    "- Судя по графику кумулятивной выручки по группам, выручка в группе В стабильно выше, чем в группе А.\n",
    "- Судя по графикам изменения кумулятивного среднего чека, средний чек группы В сильно вырос в какой-то момент после выбросов, и имеет тенденцию к снижению. А средний чек группы А - к увеличению.\n",
    "- По \"сырым данным\" есть разница между средними чеками в группах, но статистически значимого различия нет. После фильтрации от аномалий и выбросов фактическая разница существенно снизилась. А вероятность того, что средние чеки равны увеличилась. Вероятнее всего, проведенные изменения не повлияли на средний чек.\n",
    "- Среднее количество заказов на пользователя в группе B уже долгое время стабильно выше, чем соответствующий показатель в группе А.\n",
    "- Есть статистически значимое различие по количеству заказов на пользователя между группами как по сырым данным, так и после фильтрации аномалий. Пользователи группы В делают заказы чаще, чем в группе А.\n",
    "\n",
    "**Между средними чеками обеих групп нет статистически значимой разницы. Пользователи в группе В статистически чаще делают заказы, засчет этого в группе В выручка больше. Победила группа В. Следует остановить тест.**"
   ]
  }
 ],
 "metadata": {
  "ExecuteTimeLog": [
   {
    "duration": 90,
    "start_time": "2023-05-02T03:56:15.952Z"
   },
   {
    "duration": 1447,
    "start_time": "2023-05-02T03:56:21.875Z"
   },
   {
    "duration": 89,
    "start_time": "2023-05-02T03:56:23.324Z"
   },
   {
    "duration": 15,
    "start_time": "2023-05-02T03:56:23.415Z"
   },
   {
    "duration": 12,
    "start_time": "2023-05-02T03:56:23.433Z"
   },
   {
    "duration": 292,
    "start_time": "2023-05-02T03:56:23.448Z"
   },
   {
    "duration": 96,
    "start_time": "2023-05-02T03:56:23.742Z"
   },
   {
    "duration": 15,
    "start_time": "2023-05-02T03:56:23.840Z"
   },
   {
    "duration": 17,
    "start_time": "2023-05-02T03:56:23.857Z"
   },
   {
    "duration": 410,
    "start_time": "2023-05-02T03:56:23.876Z"
   },
   {
    "duration": 8,
    "start_time": "2023-05-02T03:56:24.288Z"
   },
   {
    "duration": 331,
    "start_time": "2023-05-02T03:56:24.298Z"
   },
   {
    "duration": 275,
    "start_time": "2023-05-02T03:56:24.632Z"
   },
   {
    "duration": 407,
    "start_time": "2023-05-02T03:56:24.908Z"
   },
   {
    "duration": 269,
    "start_time": "2023-05-02T03:56:25.318Z"
   },
   {
    "duration": 342,
    "start_time": "2023-05-02T03:56:25.589Z"
   },
   {
    "duration": 158,
    "start_time": "2023-05-02T03:56:25.933Z"
   },
   {
    "duration": 5,
    "start_time": "2023-05-02T03:56:26.093Z"
   },
   {
    "duration": 217,
    "start_time": "2023-05-02T03:56:26.100Z"
   },
   {
    "duration": 5,
    "start_time": "2023-05-02T03:56:26.321Z"
   },
   {
    "duration": 92,
    "start_time": "2023-05-02T03:56:26.329Z"
   },
   {
    "duration": 240,
    "start_time": "2023-05-02T03:56:26.423Z"
   },
   {
    "duration": 25,
    "start_time": "2023-05-02T03:56:26.669Z"
   },
   {
    "duration": 16,
    "start_time": "2023-05-02T03:56:26.696Z"
   },
   {
    "duration": 12,
    "start_time": "2023-05-02T03:56:26.713Z"
   },
   {
    "duration": 65,
    "start_time": "2023-05-02T03:56:26.728Z"
   },
   {
    "duration": 16,
    "start_time": "2023-05-02T03:56:26.795Z"
   },
   {
    "duration": 94,
    "start_time": "2023-05-02T03:56:53.926Z"
   },
   {
    "duration": 11,
    "start_time": "2023-05-02T03:57:09.303Z"
   },
   {
    "duration": 15,
    "start_time": "2023-05-02T04:03:00.352Z"
   },
   {
    "duration": 10,
    "start_time": "2023-05-02T04:04:10.292Z"
   },
   {
    "duration": 17,
    "start_time": "2023-05-02T04:04:42.093Z"
   },
   {
    "duration": 8,
    "start_time": "2023-05-02T04:04:46.883Z"
   },
   {
    "duration": 96,
    "start_time": "2023-05-02T04:04:46.893Z"
   },
   {
    "duration": 22,
    "start_time": "2023-05-02T04:04:46.992Z"
   },
   {
    "duration": 12,
    "start_time": "2023-05-02T04:04:47.016Z"
   },
   {
    "duration": 105,
    "start_time": "2023-05-02T04:04:47.030Z"
   },
   {
    "duration": 101,
    "start_time": "2023-05-02T04:04:47.136Z"
   },
   {
    "duration": 38,
    "start_time": "2023-05-02T04:04:47.239Z"
   },
   {
    "duration": 11,
    "start_time": "2023-05-02T04:04:47.279Z"
   },
   {
    "duration": 475,
    "start_time": "2023-05-02T04:04:47.293Z"
   },
   {
    "duration": 15,
    "start_time": "2023-05-02T04:04:52.487Z"
   },
   {
    "duration": 310,
    "start_time": "2023-05-02T04:07:07.237Z"
   },
   {
    "duration": 217,
    "start_time": "2023-05-02T04:07:25.003Z"
   },
   {
    "duration": 336,
    "start_time": "2023-05-02T04:07:35.795Z"
   },
   {
    "duration": 265,
    "start_time": "2023-05-02T04:07:45.257Z"
   },
   {
    "duration": 338,
    "start_time": "2023-05-02T04:07:55.989Z"
   },
   {
    "duration": 195,
    "start_time": "2023-05-02T04:08:09.502Z"
   },
   {
    "duration": 3,
    "start_time": "2023-05-02T04:08:28.802Z"
   },
   {
    "duration": 113,
    "start_time": "2023-05-02T04:08:28.807Z"
   },
   {
    "duration": 11,
    "start_time": "2023-05-02T04:08:28.921Z"
   },
   {
    "duration": 15,
    "start_time": "2023-05-02T04:08:28.933Z"
   },
   {
    "duration": 89,
    "start_time": "2023-05-02T04:08:28.951Z"
   },
   {
    "duration": 84,
    "start_time": "2023-05-02T04:08:29.042Z"
   },
   {
    "duration": 12,
    "start_time": "2023-05-02T04:08:29.127Z"
   },
   {
    "duration": 8,
    "start_time": "2023-05-02T04:08:29.141Z"
   },
   {
    "duration": 326,
    "start_time": "2023-05-02T04:08:29.150Z"
   },
   {
    "duration": 20,
    "start_time": "2023-05-02T04:08:29.487Z"
   },
   {
    "duration": 252,
    "start_time": "2023-05-02T04:08:29.509Z"
   },
   {
    "duration": 258,
    "start_time": "2023-05-02T04:08:29.762Z"
   },
   {
    "duration": 321,
    "start_time": "2023-05-02T04:08:30.022Z"
   },
   {
    "duration": 281,
    "start_time": "2023-05-02T04:08:30.347Z"
   },
   {
    "duration": 365,
    "start_time": "2023-05-02T04:08:30.630Z"
   },
   {
    "duration": 255,
    "start_time": "2023-05-02T04:08:30.996Z"
   },
   {
    "duration": 4,
    "start_time": "2023-05-02T04:08:31.253Z"
   },
   {
    "duration": 164,
    "start_time": "2023-05-02T04:08:31.265Z"
   },
   {
    "duration": 4,
    "start_time": "2023-05-02T04:08:31.430Z"
   },
   {
    "duration": 74,
    "start_time": "2023-05-02T04:08:31.435Z"
   },
   {
    "duration": 198,
    "start_time": "2023-05-02T04:08:31.511Z"
   },
   {
    "duration": 10,
    "start_time": "2023-05-02T04:08:31.711Z"
   },
   {
    "duration": 34,
    "start_time": "2023-05-02T04:08:31.723Z"
   },
   {
    "duration": 25,
    "start_time": "2023-05-02T04:08:31.760Z"
   },
   {
    "duration": 40,
    "start_time": "2023-05-02T04:08:31.787Z"
   },
   {
    "duration": 14,
    "start_time": "2023-05-02T04:08:31.828Z"
   },
   {
    "duration": 4,
    "start_time": "2023-05-02T04:10:57.811Z"
   },
   {
    "duration": 83,
    "start_time": "2023-05-02T04:10:57.817Z"
   },
   {
    "duration": 12,
    "start_time": "2023-05-02T04:10:57.902Z"
   },
   {
    "duration": 19,
    "start_time": "2023-05-02T04:10:57.917Z"
   },
   {
    "duration": 97,
    "start_time": "2023-05-02T04:10:57.939Z"
   },
   {
    "duration": 84,
    "start_time": "2023-05-02T04:10:58.038Z"
   },
   {
    "duration": 12,
    "start_time": "2023-05-02T04:10:58.124Z"
   },
   {
    "duration": 17,
    "start_time": "2023-05-02T04:10:58.138Z"
   },
   {
    "duration": 339,
    "start_time": "2023-05-02T04:10:58.158Z"
   },
   {
    "duration": 8,
    "start_time": "2023-05-02T04:10:58.498Z"
   },
   {
    "duration": 230,
    "start_time": "2023-05-02T04:10:58.508Z"
   },
   {
    "duration": 252,
    "start_time": "2023-05-02T04:10:58.739Z"
   },
   {
    "duration": 308,
    "start_time": "2023-05-02T04:10:58.996Z"
   },
   {
    "duration": 258,
    "start_time": "2023-05-02T04:10:59.306Z"
   },
   {
    "duration": 337,
    "start_time": "2023-05-02T04:10:59.581Z"
   },
   {
    "duration": 173,
    "start_time": "2023-05-02T04:10:59.920Z"
   },
   {
    "duration": 14,
    "start_time": "2023-05-02T04:11:00.097Z"
   },
   {
    "duration": 194,
    "start_time": "2023-05-02T04:11:00.113Z"
   },
   {
    "duration": 5,
    "start_time": "2023-05-02T04:11:00.309Z"
   },
   {
    "duration": 69,
    "start_time": "2023-05-02T04:11:00.316Z"
   },
   {
    "duration": 217,
    "start_time": "2023-05-02T04:11:00.387Z"
   },
   {
    "duration": 12,
    "start_time": "2023-05-02T04:11:00.605Z"
   },
   {
    "duration": 70,
    "start_time": "2023-05-02T04:11:00.618Z"
   },
   {
    "duration": 26,
    "start_time": "2023-05-02T04:11:00.694Z"
   },
   {
    "duration": 110,
    "start_time": "2023-05-02T04:11:00.722Z"
   },
   {
    "duration": 40,
    "start_time": "2023-05-02T04:11:00.834Z"
   },
   {
    "duration": 213,
    "start_time": "2023-05-02T04:13:19.634Z"
   },
   {
    "duration": 173,
    "start_time": "2023-05-02T04:14:03.301Z"
   },
   {
    "duration": 11,
    "start_time": "2023-05-02T04:16:42.842Z"
   },
   {
    "duration": 11,
    "start_time": "2023-05-02T04:16:51.208Z"
   },
   {
    "duration": 11,
    "start_time": "2023-05-02T04:20:06.478Z"
   },
   {
    "duration": 6,
    "start_time": "2023-05-02T04:20:18.012Z"
   },
   {
    "duration": 7,
    "start_time": "2023-05-02T04:20:24.007Z"
   },
   {
    "duration": 15,
    "start_time": "2023-05-02T04:21:26.676Z"
   },
   {
    "duration": 6,
    "start_time": "2023-05-02T04:24:15.390Z"
   },
   {
    "duration": 4,
    "start_time": "2023-05-02T04:24:46.828Z"
   },
   {
    "duration": 8,
    "start_time": "2023-05-02T04:24:50.391Z"
   },
   {
    "duration": 11,
    "start_time": "2023-05-02T04:25:25.490Z"
   },
   {
    "duration": 9,
    "start_time": "2023-05-02T04:26:56.907Z"
   },
   {
    "duration": 25,
    "start_time": "2023-05-02T04:26:58.315Z"
   },
   {
    "duration": 25,
    "start_time": "2023-05-02T04:29:43.414Z"
   },
   {
    "duration": 25,
    "start_time": "2023-05-02T04:29:49.015Z"
   },
   {
    "duration": 14,
    "start_time": "2023-05-02T04:30:07.234Z"
   },
   {
    "duration": 22,
    "start_time": "2023-05-02T04:33:18.041Z"
   },
   {
    "duration": 36,
    "start_time": "2023-05-02T04:33:22.667Z"
   },
   {
    "duration": 4,
    "start_time": "2023-05-02T04:34:08.042Z"
   },
   {
    "duration": 86,
    "start_time": "2023-05-02T04:34:08.049Z"
   },
   {
    "duration": 15,
    "start_time": "2023-05-02T04:34:08.137Z"
   },
   {
    "duration": 17,
    "start_time": "2023-05-02T04:34:08.154Z"
   },
   {
    "duration": 77,
    "start_time": "2023-05-02T04:34:08.174Z"
   },
   {
    "duration": 84,
    "start_time": "2023-05-02T04:34:08.253Z"
   },
   {
    "duration": 14,
    "start_time": "2023-05-02T04:34:08.339Z"
   },
   {
    "duration": 33,
    "start_time": "2023-05-02T04:34:08.354Z"
   },
   {
    "duration": 334,
    "start_time": "2023-05-02T04:34:08.389Z"
   },
   {
    "duration": 7,
    "start_time": "2023-05-02T04:34:08.725Z"
   },
   {
    "duration": 272,
    "start_time": "2023-05-02T04:34:08.736Z"
   },
   {
    "duration": 334,
    "start_time": "2023-05-02T04:34:09.010Z"
   },
   {
    "duration": 366,
    "start_time": "2023-05-02T04:34:09.345Z"
   },
   {
    "duration": 303,
    "start_time": "2023-05-02T04:34:09.715Z"
   },
   {
    "duration": 374,
    "start_time": "2023-05-02T04:34:10.027Z"
   },
   {
    "duration": 185,
    "start_time": "2023-05-02T04:34:10.408Z"
   },
   {
    "duration": 7,
    "start_time": "2023-05-02T04:34:10.594Z"
   },
   {
    "duration": 188,
    "start_time": "2023-05-02T04:34:10.603Z"
   },
   {
    "duration": 6,
    "start_time": "2023-05-02T04:34:10.793Z"
   },
   {
    "duration": 62,
    "start_time": "2023-05-02T04:34:10.801Z"
   },
   {
    "duration": 214,
    "start_time": "2023-05-02T04:34:10.864Z"
   },
   {
    "duration": 30,
    "start_time": "2023-05-02T04:34:11.081Z"
   },
   {
    "duration": 13,
    "start_time": "2023-05-02T04:34:11.115Z"
   },
   {
    "duration": 17,
    "start_time": "2023-05-02T04:34:11.130Z"
   },
   {
    "duration": 63,
    "start_time": "2023-05-02T04:34:11.149Z"
   },
   {
    "duration": 16,
    "start_time": "2023-05-02T04:34:11.214Z"
   },
   {
    "duration": 4,
    "start_time": "2023-05-02T04:34:15.623Z"
   },
   {
    "duration": 87,
    "start_time": "2023-05-02T04:34:15.630Z"
   },
   {
    "duration": 10,
    "start_time": "2023-05-02T04:34:15.720Z"
   },
   {
    "duration": 16,
    "start_time": "2023-05-02T04:34:15.732Z"
   },
   {
    "duration": 115,
    "start_time": "2023-05-02T04:34:15.750Z"
   },
   {
    "duration": 76,
    "start_time": "2023-05-02T04:34:15.867Z"
   },
   {
    "duration": 20,
    "start_time": "2023-05-02T04:34:15.945Z"
   },
   {
    "duration": 25,
    "start_time": "2023-05-02T04:34:15.967Z"
   },
   {
    "duration": 355,
    "start_time": "2023-05-02T04:34:15.996Z"
   },
   {
    "duration": 8,
    "start_time": "2023-05-02T04:34:16.354Z"
   },
   {
    "duration": 255,
    "start_time": "2023-05-02T04:34:16.365Z"
   },
   {
    "duration": 216,
    "start_time": "2023-05-02T04:34:16.622Z"
   },
   {
    "duration": 354,
    "start_time": "2023-05-02T04:34:16.840Z"
   },
   {
    "duration": 251,
    "start_time": "2023-05-02T04:34:17.204Z"
   },
   {
    "duration": 471,
    "start_time": "2023-05-02T04:34:17.458Z"
   },
   {
    "duration": 189,
    "start_time": "2023-05-02T04:34:17.934Z"
   },
   {
    "duration": 7,
    "start_time": "2023-05-02T04:34:18.125Z"
   },
   {
    "duration": 184,
    "start_time": "2023-05-02T04:34:18.133Z"
   },
   {
    "duration": 6,
    "start_time": "2023-05-02T04:34:18.324Z"
   },
   {
    "duration": 76,
    "start_time": "2023-05-02T04:34:18.334Z"
   },
   {
    "duration": 216,
    "start_time": "2023-05-02T04:34:18.413Z"
   },
   {
    "duration": 12,
    "start_time": "2023-05-02T04:34:18.631Z"
   },
   {
    "duration": 26,
    "start_time": "2023-05-02T04:34:18.645Z"
   },
   {
    "duration": 19,
    "start_time": "2023-05-02T04:34:18.673Z"
   },
   {
    "duration": 41,
    "start_time": "2023-05-02T04:34:18.693Z"
   },
   {
    "duration": 15,
    "start_time": "2023-05-02T04:34:18.735Z"
   }
  ],
  "kernelspec": {
   "display_name": "Python 3 (ipykernel)",
   "language": "python",
   "name": "python3"
  },
  "language_info": {
   "codemirror_mode": {
    "name": "ipython",
    "version": 3
   },
   "file_extension": ".py",
   "mimetype": "text/x-python",
   "name": "python",
   "nbconvert_exporter": "python",
   "pygments_lexer": "ipython3",
   "version": "3.9.13"
  },
  "toc": {
   "base_numbering": 1,
   "nav_menu": {},
   "number_sections": false,
   "sideBar": true,
   "skip_h1_title": true,
   "title_cell": "Table of Contents",
   "title_sidebar": "Contents",
   "toc_cell": true,
   "toc_position": {
    "height": "calc(100% - 180px)",
    "left": "10px",
    "top": "150px",
    "width": "288px"
   },
   "toc_section_display": true,
   "toc_window_display": false
  }
 },
 "nbformat": 4,
 "nbformat_minor": 5
}
