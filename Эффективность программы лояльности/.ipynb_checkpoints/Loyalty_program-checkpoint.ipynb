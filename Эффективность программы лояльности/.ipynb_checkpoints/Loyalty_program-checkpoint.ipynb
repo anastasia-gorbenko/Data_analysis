{
 "cells": [
  {
   "cell_type": "markdown",
   "id": "a65eb26d",
   "metadata": {},
   "source": [
    "# Материалы\n",
    "[Презентация](https://disk.yandex.ru/i/nL8wuN4ddDLIpw)"
   ]
  },
  {
   "cell_type": "markdown",
   "id": "ef8c618b",
   "metadata": {
    "toc": true
   },
   "source": [
    "<h1>Table of Contents<span class=\"tocSkip\"></span></h1>\n",
    "<div class=\"toc\"><ul class=\"toc-item\"><li><span><a href=\"#Подключение-файлов\" data-toc-modified-id=\"Подключение-файлов-1\"><span class=\"toc-item-num\">1&nbsp;&nbsp;</span>Подключение файлов</a></span></li><li><span><a href=\"#Предобработка-данных\" data-toc-modified-id=\"Предобработка-данных-2\"><span class=\"toc-item-num\">2&nbsp;&nbsp;</span>Предобработка данных</a></span><ul class=\"toc-item\"><li><span><a href=\"#Переименование-колонок\" data-toc-modified-id=\"Переименование-колонок-2.1\"><span class=\"toc-item-num\">2.1&nbsp;&nbsp;</span>Переименование колонок</a></span></li><li><span><a href=\"#Приведение-типов\" data-toc-modified-id=\"Приведение-типов-2.2\"><span class=\"toc-item-num\">2.2&nbsp;&nbsp;</span>Приведение типов</a></span></li><li><span><a href=\"#Обработка-пропусков\" data-toc-modified-id=\"Обработка-пропусков-2.3\"><span class=\"toc-item-num\">2.3&nbsp;&nbsp;</span>Обработка пропусков</a></span></li><li><span><a href=\"#Исследование-и-обработка-аномальных-значений\" data-toc-modified-id=\"Исследование-и-обработка-аномальных-значений-2.4\"><span class=\"toc-item-num\">2.4&nbsp;&nbsp;</span>Исследование и обработка аномальных значений</a></span></li><li><span><a href=\"#Обработка-дубликатов\" data-toc-modified-id=\"Обработка-дубликатов-2.5\"><span class=\"toc-item-num\">2.5&nbsp;&nbsp;</span>Обработка дубликатов</a></span></li><li><span><a href=\"#Соединение-таблиц\" data-toc-modified-id=\"Соединение-таблиц-2.6\"><span class=\"toc-item-num\">2.6&nbsp;&nbsp;</span>Соединение таблиц</a></span></li></ul></li><li><span><a href=\"#Исследовательский-анализ\" data-toc-modified-id=\"Исследовательский-анализ-3\"><span class=\"toc-item-num\">3&nbsp;&nbsp;</span>Исследовательский анализ</a></span><ul class=\"toc-item\"><li><span><a href=\"#В-какие-дни-совершались-покупки-по-программе-лояльности-и-без\" data-toc-modified-id=\"В-какие-дни-совершались-покупки-по-программе-лояльности-и-без-3.1\"><span class=\"toc-item-num\">3.1&nbsp;&nbsp;</span>В какие дни совершались покупки по программе лояльности и без</a></span></li><li><span><a href=\"#Как-распределены-покупки-и-доли-покупателей,-участвующих-в-программе-лояльности,-между-магазинами\" data-toc-modified-id=\"Как-распределены-покупки-и-доли-покупателей,-участвующих-в-программе-лояльности,-между-магазинами-3.2\"><span class=\"toc-item-num\">3.2&nbsp;&nbsp;</span>Как распределены покупки и доли покупателей, участвующих в программе лояльности, между магазинами</a></span></li><li><span><a href=\"#Какая-доля-покупателей-участвует-в-программе-лояльности\" data-toc-modified-id=\"Какая-доля-покупателей-участвует-в-программе-лояльности-3.3\"><span class=\"toc-item-num\">3.3&nbsp;&nbsp;</span>Какая доля покупателей участвует в программе лояльности</a></span></li></ul></li><li><span><a href=\"#Анализ-программы-лояльности\" data-toc-modified-id=\"Анализ-программы-лояльности-4\"><span class=\"toc-item-num\">4&nbsp;&nbsp;</span>Анализ программы лояльности</a></span><ul class=\"toc-item\"><li><span><a href=\"#Сравнение-среднего-количества-покупок-на-покупателя\" data-toc-modified-id=\"Сравнение-среднего-количества-покупок-на-покупателя-4.1\"><span class=\"toc-item-num\">4.1&nbsp;&nbsp;</span>Сравнение среднего количества покупок на покупателя</a></span></li><li><span><a href=\"#Сравнение-средних-чеков\" data-toc-modified-id=\"Сравнение-средних-чеков-4.2\"><span class=\"toc-item-num\">4.2&nbsp;&nbsp;</span>Сравнение средних чеков</a></span></li><li><span><a href=\"#Сравнение-среднего-количества-товаров-в-чеке\" data-toc-modified-id=\"Сравнение-среднего-количества-товаров-в-чеке-4.3\"><span class=\"toc-item-num\">4.3&nbsp;&nbsp;</span>Сравнение среднего количества товаров в чеке</a></span></li><li><span><a href=\"#LTV\" data-toc-modified-id=\"LTV-4.4\"><span class=\"toc-item-num\">4.4&nbsp;&nbsp;</span>LTV</a></span></li></ul></li><li><span><a href=\"#Статистический-анализ\" data-toc-modified-id=\"Статистический-анализ-5\"><span class=\"toc-item-num\">5&nbsp;&nbsp;</span>Статистический анализ</a></span><ul class=\"toc-item\"><li><span><a href=\"#Проверить-гипотезу:--среднее-количество-покупок-участников-программы-лояльности-выше,-чем-у-остальных-покупателей\" data-toc-modified-id=\"Проверить-гипотезу:--среднее-количество-покупок-участников-программы-лояльности-выше,-чем-у-остальных-покупателей-5.1\"><span class=\"toc-item-num\">5.1&nbsp;&nbsp;</span>Проверить гипотезу:  среднее количество покупок участников программы лояльности выше, чем у остальных покупателей</a></span></li><li><span><a href=\"#Проверить-гипотезу:-средний-чек-участников-программы-лояльности-выше,-чем-у-остальных-покупателей\" data-toc-modified-id=\"Проверить-гипотезу:-средний-чек-участников-программы-лояльности-выше,-чем-у-остальных-покупателей-5.2\"><span class=\"toc-item-num\">5.2&nbsp;&nbsp;</span>Проверить гипотезу: средний чек участников программы лояльности выше, чем у остальных покупателей</a></span></li></ul></li><li><span><a href=\"#Выводы-и-рекомендации\" data-toc-modified-id=\"Выводы-и-рекомендации-6\"><span class=\"toc-item-num\">6&nbsp;&nbsp;</span>Выводы и рекомендации</a></span></li></ul></div>"
   ]
  },
  {
   "cell_type": "markdown",
   "id": "492aa7e5",
   "metadata": {},
   "source": [
    "**Цель**: \n",
    "- Оценить результаты внедрения программы лояльности - проверить, повысились ли основные показатели у клиентов, входящих в программу лояльности.\n",
    "- Принять решение, стоит ли дальше использовать ее.\n",
    "\n",
    "Заказчик проекта - менеджер, который отвечает за программу лояльности.\n"
   ]
  },
  {
   "cell_type": "markdown",
   "id": "932ee3e8",
   "metadata": {},
   "source": [
    "**Описание данных**:\n",
    "\n",
    "Датасет содержит данные о покупках в магазине строительных материалов «Строили, строили и наконец построили». Все покупатели могут получить доступ в магазин с использованием персональных карт. За 200 рублей в месяц они могут стать участниками программы лояльности. В программу включены скидки, специальные предложения, подарки."
   ]
  },
  {
   "cell_type": "markdown",
   "id": "f4f30394",
   "metadata": {},
   "source": [
    "### Подключение файлов"
   ]
  },
  {
   "cell_type": "code",
   "execution_count": 1,
   "id": "64995f09",
   "metadata": {},
   "outputs": [],
   "source": [
    "# подключили библиотеки\n",
    "import pandas as pd\n",
    "from datetime import datetime, timedelta\n",
    "import numpy as np\n",
    "import matplotlib.pyplot as plt\n",
    "import seaborn as sns\n",
    "import scipy.stats as stats\n",
    "import math as mth\n",
    "# стиль всех графиков проекта\n",
    "sns.set_palette('colorblind')\n",
    "sns.set_style(\"whitegrid\")"
   ]
  },
  {
   "cell_type": "code",
   "execution_count": 4,
   "id": "cf5de1fb",
   "metadata": {},
   "outputs": [],
   "source": [
    "def check_df(dataframe, head=5):\n",
    "    # Функция для изучения датафрейма\n",
    "    print(\" Количество данных \".center(70, '-'))\n",
    "    print('Rows: {}'.format(dataframe.shape[0]))\n",
    "    print('Columns: {}'.format(dataframe.shape[1]))\n",
    "    print(\" Типы данных \".center(70, '-'))\n",
    "    print(dataframe.dtypes)\n",
    "    print(\" Количество пропусков \".center(70, '-'))\n",
    "    print(dataframe.isnull().sum())\n",
    "    print(\" Количество дубликатов \".center(70, '-'))\n",
    "    print(dataframe.duplicated().sum())\n",
    "    print(\" Описание колонок \".center(70, '-'))\n",
    "    print(dataframe.describe().T)"
   ]
  },
  {
   "cell_type": "code",
   "execution_count": 5,
   "id": "fc2a866a",
   "metadata": {},
   "outputs": [
    {
     "name": "stdout",
     "output_type": "stream",
     "text": [
      "------------------------- Количество данных --------------------------\n",
      "Rows: 105335\n",
      "Columns: 7\n",
      "---------------------------- Типы данных -----------------------------\n",
      "purchaseid          object\n",
      "item_ID             object\n",
      "Quantity             int64\n",
      "purchasedate        object\n",
      "CustomerID         float64\n",
      "ShopID              object\n",
      "loyalty_program    float64\n",
      "dtype: object\n",
      "------------------------ Количество пропусков ------------------------\n",
      "purchaseid             0\n",
      "item_ID                0\n",
      "Quantity               0\n",
      "purchasedate           0\n",
      "CustomerID         36210\n",
      "ShopID                 0\n",
      "loyalty_program        0\n",
      "dtype: int64\n",
      "----------------------- Количество дубликатов ------------------------\n",
      "1033\n",
      "-------------------------- Описание колонок --------------------------\n",
      "                    count          mean          std      min      25%  \\\n",
      "Quantity         105335.0      7.821218   327.946695 -74216.0      0.0   \n",
      "CustomerID        69125.0  21019.302047  1765.444679  18025.0  19544.0   \n",
      "loyalty_program  105335.0      0.226345     0.418467      0.0      0.0   \n",
      "\n",
      "                     50%      75%      max  \n",
      "Quantity             2.0      7.0  74214.0  \n",
      "CustomerID       20990.0  22659.0  23962.0  \n",
      "loyalty_program      0.0      0.0      1.0  \n"
     ]
    }
   ],
   "source": [
    "# изучили данные о покупках\n",
    "check_df(purchases)"
   ]
  },
  {
   "cell_type": "code",
   "execution_count": 6,
   "id": "a42a0a41",
   "metadata": {},
   "outputs": [
    {
     "name": "stdout",
     "output_type": "stream",
     "text": [
      "------------------------- Количество данных --------------------------\n",
      "Rows: 9969\n",
      "Columns: 2\n",
      "---------------------------- Типы данных -----------------------------\n",
      "productID         object\n",
      "price_per_one    float64\n",
      "dtype: object\n",
      "------------------------ Количество пропусков ------------------------\n",
      "productID        0\n",
      "price_per_one    0\n",
      "dtype: int64\n",
      "----------------------- Количество дубликатов ------------------------\n",
      "0\n",
      "-------------------------- Описание колонок --------------------------\n",
      "                count       mean         std  min   25%   50%   75%       max\n",
      "price_per_one  9969.0  19.503697  330.880754  0.0  1.25  2.55  5.51  16888.02\n"
     ]
    }
   ],
   "source": [
    "# изучили данные о ценах\n",
    "check_df(product_codes)"
   ]
  },
  {
   "cell_type": "markdown",
   "id": "e0a82434",
   "metadata": {},
   "source": [
    "**Выводы:**\n",
    "- Необходимо привести названия колонок к удобному виду.\n",
    "- Встречаются несоответсивия типов данных: дату покупки необходимо привести к типу datetime, ID покупателя к типу integer, участие в программе лояльности к логическому типу.\n",
    "- В колонке с ID покупателя встречаются пропуски.\n",
    "- В данных о покупках есть дубликаты.\n",
    "- В колонке с количеством товара есть нули и аномальные значения.\n",
    "- В датасете с ценами есть нули и аномальные значения."
   ]
  },
  {
   "cell_type": "markdown",
   "id": "8dba7d3b",
   "metadata": {},
   "source": [
    "### Предобработка данных"
   ]
  },
  {
   "cell_type": "markdown",
   "id": "86c0858b",
   "metadata": {},
   "source": [
    "#### Переименование колонок"
   ]
  },
  {
   "cell_type": "code",
   "execution_count": 7,
   "id": "16dbf522",
   "metadata": {},
   "outputs": [],
   "source": [
    "# заменили названия столбцов\n",
    "purchases.columns = ['purchase_id', 'item_id', 'quantity', 'purchase_ts', 'customer_id', 'shop', 'loyalty_program']\n",
    "product_codes.columns = ['item_id', 'price']"
   ]
  },
  {
   "cell_type": "markdown",
   "id": "feef7426",
   "metadata": {},
   "source": [
    "#### Приведение типов"
   ]
  },
  {
   "cell_type": "markdown",
   "id": "c4747dfd",
   "metadata": {},
   "source": [
    "В ID покупателя встречаются пропуски, поэтому пока невозможно привести эту колонку к целочисленному типу. Однако это пока не мешает анализу."
   ]
  },
  {
   "cell_type": "code",
   "execution_count": 8,
   "id": "b5f29625",
   "metadata": {},
   "outputs": [],
   "source": [
    "# привели дату и время к необходимому типу\n",
    "purchases['purchase_ts'] = pd.to_datetime(purchases['purchase_ts'])\n",
    "purchases['loyalty_program'] = purchases['loyalty_program'].astype('bool')\n",
    "# добавили столбец с датой покупки\n",
    "purchases['purchase_date'] = purchases['purchase_ts'].dt.date"
   ]
  },
  {
   "cell_type": "markdown",
   "id": "66ddaae2",
   "metadata": {},
   "source": [
    "#### Обработка пропусков"
   ]
  },
  {
   "cell_type": "code",
   "execution_count": 9,
   "id": "499fda09",
   "metadata": {},
   "outputs": [
    {
     "name": "stdout",
     "output_type": "stream",
     "text": [
      "Количество пропусков: 36210\n",
      "Доля пропусков: 34.38%\n",
      "Количество покупок без id покупателя и программы лояльности: 36210\n"
     ]
    }
   ],
   "source": [
    "isna_part = purchases['customer_id'].isna().sum() / purchases.shape[0]\n",
    "print('Количество пропусков:', purchases['customer_id'].isna().sum())\n",
    "print(f'Доля пропусков: {isna_part:.2%}')\n",
    "print('Количество покупок без id покупателя и программы лояльности:', len(purchases.query('customer_id.isna() & loyalty_program == False')))"
   ]
  },
  {
   "cell_type": "markdown",
   "id": "5189914c",
   "metadata": {},
   "source": [
    "Известно, что в магазине совершить покупку может любой человек. У части из них есть карта покупателя, которая позволяет однозначно идентифицировать покупателя и запомнить его в системе. Некоторые из владельцев карт подключают программу лояльности. Поэтому, скорее всего, пропуски в этой колонке - это покупатели, у которых нет карты покупателя, а также нет возможности подключить программу лояльности.\n",
    "\n",
    "Заполнять эти пропуски нет необходимости. Данные о таких покупателях можно оставить и при необходимости фильтровать их для расчетов."
   ]
  },
  {
   "cell_type": "markdown",
   "id": "0a12e834",
   "metadata": {},
   "source": [
    "#### Исследование и обработка аномальных значений"
   ]
  },
  {
   "cell_type": "code",
   "execution_count": 10,
   "id": "6adc2e11",
   "metadata": {},
   "outputs": [
    {
     "data": {
      "image/png": "[encoded data removed]",
      "text/plain": [
       "<Figure size 640x480 with 1 Axes>"
      ]
     },
     "metadata": {},
     "output_type": "display_data"
    }
   ],
   "source": [
    "# построим распределение данных о количестве покупок \n",
    "fig = sns.boxplot(data = purchases['quantity'])\n",
    "plt.title('Распределение количеств купленных товаров')\n",
    "plt.show()"
   ]
  },
  {
   "cell_type": "markdown",
   "id": "e34381c3",
   "metadata": {},
   "source": [
    "В количествах встречаются выбросы и ошибки - отрицательные значения."
   ]
  },
  {
   "cell_type": "code",
   "execution_count": 11,
   "id": "c36bdb7d",
   "metadata": {},
   "outputs": [
    {
     "data": {
      "text/html": [
       "<div>\n",
       "<style scoped>\n",
       "    .dataframe tbody tr th:only-of-type {\n",
       "        vertical-align: middle;\n",
       "    }\n",
       "\n",
       "    .dataframe tbody tr th {\n",
       "        vertical-align: top;\n",
       "    }\n",
       "\n",
       "    .dataframe thead th {\n",
       "        text-align: right;\n",
       "    }\n",
       "</style>\n",
       "<table border=\"1\" class=\"dataframe\">\n",
       "  <thead>\n",
       "    <tr style=\"text-align: right;\">\n",
       "      <th></th>\n",
       "      <th>purchase_id</th>\n",
       "      <th>item_id</th>\n",
       "      <th>quantity</th>\n",
       "      <th>purchase_ts</th>\n",
       "      <th>customer_id</th>\n",
       "      <th>shop</th>\n",
       "      <th>loyalty_program</th>\n",
       "      <th>purchase_date</th>\n",
       "    </tr>\n",
       "  </thead>\n",
       "  <tbody>\n",
       "    <tr>\n",
       "      <th>69074</th>\n",
       "      <td>541431</td>\n",
       "      <td>23166</td>\n",
       "      <td>74214</td>\n",
       "      <td>2017-01-18 10:01:00</td>\n",
       "      <td>18025.0</td>\n",
       "      <td>Shop 0</td>\n",
       "      <td>False</td>\n",
       "      <td>2017-01-18</td>\n",
       "    </tr>\n",
       "    <tr>\n",
       "      <th>31974</th>\n",
       "      <td>542504</td>\n",
       "      <td>37413</td>\n",
       "      <td>5567</td>\n",
       "      <td>2017-01-28 12:03:00</td>\n",
       "      <td>NaN</td>\n",
       "      <td>Shop 0</td>\n",
       "      <td>False</td>\n",
       "      <td>2017-01-28</td>\n",
       "    </tr>\n",
       "    <tr>\n",
       "      <th>104734</th>\n",
       "      <td>544612</td>\n",
       "      <td>22053</td>\n",
       "      <td>3905</td>\n",
       "      <td>2017-02-22 10:43:00</td>\n",
       "      <td>23766.0</td>\n",
       "      <td>Shop 0</td>\n",
       "      <td>True</td>\n",
       "      <td>2017-02-22</td>\n",
       "    </tr>\n",
       "    <tr>\n",
       "      <th>38595</th>\n",
       "      <td>540815</td>\n",
       "      <td>21108</td>\n",
       "      <td>3113</td>\n",
       "      <td>2017-01-11 12:55:00</td>\n",
       "      <td>21428.0</td>\n",
       "      <td>Shop 0</td>\n",
       "      <td>False</td>\n",
       "      <td>2017-01-11</td>\n",
       "    </tr>\n",
       "    <tr>\n",
       "      <th>12719</th>\n",
       "      <td>536830</td>\n",
       "      <td>84077</td>\n",
       "      <td>2879</td>\n",
       "      <td>2016-12-02 17:38:00</td>\n",
       "      <td>22433.0</td>\n",
       "      <td>Shop 0</td>\n",
       "      <td>True</td>\n",
       "      <td>2016-12-02</td>\n",
       "    </tr>\n",
       "    <tr>\n",
       "      <th>17389</th>\n",
       "      <td>543057</td>\n",
       "      <td>84077</td>\n",
       "      <td>2591</td>\n",
       "      <td>2017-02-03 10:50:00</td>\n",
       "      <td>22012.0</td>\n",
       "      <td>Shop 0</td>\n",
       "      <td>True</td>\n",
       "      <td>2017-02-03</td>\n",
       "    </tr>\n",
       "    <tr>\n",
       "      <th>41559</th>\n",
       "      <td>542505</td>\n",
       "      <td>79063D</td>\n",
       "      <td>2559</td>\n",
       "      <td>2017-01-28 12:04:00</td>\n",
       "      <td>NaN</td>\n",
       "      <td>Shop 0</td>\n",
       "      <td>False</td>\n",
       "      <td>2017-01-28</td>\n",
       "    </tr>\n",
       "    <tr>\n",
       "      <th>84816</th>\n",
       "      <td>544152</td>\n",
       "      <td>18007</td>\n",
       "      <td>2399</td>\n",
       "      <td>2017-02-16 12:10:00</td>\n",
       "      <td>20288.0</td>\n",
       "      <td>Shop 0</td>\n",
       "      <td>False</td>\n",
       "      <td>2017-02-16</td>\n",
       "    </tr>\n",
       "    <tr>\n",
       "      <th>82457</th>\n",
       "      <td>543669</td>\n",
       "      <td>22693</td>\n",
       "      <td>2399</td>\n",
       "      <td>2017-02-11 11:22:00</td>\n",
       "      <td>21708.0</td>\n",
       "      <td>Shop 0</td>\n",
       "      <td>False</td>\n",
       "      <td>2017-02-11</td>\n",
       "    </tr>\n",
       "    <tr>\n",
       "      <th>3229</th>\n",
       "      <td>539101</td>\n",
       "      <td>22693</td>\n",
       "      <td>2399</td>\n",
       "      <td>2016-12-16 10:35:00</td>\n",
       "      <td>21708.0</td>\n",
       "      <td>Shop 0</td>\n",
       "      <td>False</td>\n",
       "      <td>2016-12-16</td>\n",
       "    </tr>\n",
       "    <tr>\n",
       "      <th>59591</th>\n",
       "      <td>540815</td>\n",
       "      <td>21175</td>\n",
       "      <td>1999</td>\n",
       "      <td>2017-01-11 12:55:00</td>\n",
       "      <td>21428.0</td>\n",
       "      <td>Shop 0</td>\n",
       "      <td>False</td>\n",
       "      <td>2017-01-11</td>\n",
       "    </tr>\n",
       "    <tr>\n",
       "      <th>101984</th>\n",
       "      <td>540815</td>\n",
       "      <td>85123A</td>\n",
       "      <td>1929</td>\n",
       "      <td>2017-01-11 12:55:00</td>\n",
       "      <td>21428.0</td>\n",
       "      <td>Shop 0</td>\n",
       "      <td>False</td>\n",
       "      <td>2017-01-11</td>\n",
       "    </tr>\n",
       "    <tr>\n",
       "      <th>23104</th>\n",
       "      <td>536809</td>\n",
       "      <td>84950</td>\n",
       "      <td>1823</td>\n",
       "      <td>2016-12-02 16:48:00</td>\n",
       "      <td>20978.0</td>\n",
       "      <td>Shop 0</td>\n",
       "      <td>False</td>\n",
       "      <td>2016-12-02</td>\n",
       "    </tr>\n",
       "    <tr>\n",
       "      <th>98993</th>\n",
       "      <td>538420</td>\n",
       "      <td>17096</td>\n",
       "      <td>1727</td>\n",
       "      <td>2016-12-12 12:03:00</td>\n",
       "      <td>18554.0</td>\n",
       "      <td>Shop 0</td>\n",
       "      <td>False</td>\n",
       "      <td>2016-12-12</td>\n",
       "    </tr>\n",
       "    <tr>\n",
       "      <th>84754</th>\n",
       "      <td>543991</td>\n",
       "      <td>16014</td>\n",
       "      <td>1499</td>\n",
       "      <td>2017-02-15 10:17:00</td>\n",
       "      <td>19527.0</td>\n",
       "      <td>Shop 0</td>\n",
       "      <td>False</td>\n",
       "      <td>2017-02-15</td>\n",
       "    </tr>\n",
       "  </tbody>\n",
       "</table>\n",
       "</div>"
      ],
      "text/plain": [
       "       purchase_id item_id  quantity         purchase_ts  customer_id    shop  \\\n",
       "69074       541431   23166     74214 2017-01-18 10:01:00      18025.0  Shop 0   \n",
       "31974       542504   37413      5567 2017-01-28 12:03:00          NaN  Shop 0   \n",
       "104734      544612   22053      3905 2017-02-22 10:43:00      23766.0  Shop 0   \n",
       "38595       540815   21108      3113 2017-01-11 12:55:00      21428.0  Shop 0   \n",
       "12719       536830   84077      2879 2016-12-02 17:38:00      22433.0  Shop 0   \n",
       "17389       543057   84077      2591 2017-02-03 10:50:00      22012.0  Shop 0   \n",
       "41559       542505  79063D      2559 2017-01-28 12:04:00          NaN  Shop 0   \n",
       "84816       544152   18007      2399 2017-02-16 12:10:00      20288.0  Shop 0   \n",
       "82457       543669   22693      2399 2017-02-11 11:22:00      21708.0  Shop 0   \n",
       "3229        539101   22693      2399 2016-12-16 10:35:00      21708.0  Shop 0   \n",
       "59591       540815   21175      1999 2017-01-11 12:55:00      21428.0  Shop 0   \n",
       "101984      540815  85123A      1929 2017-01-11 12:55:00      21428.0  Shop 0   \n",
       "23104       536809   84950      1823 2016-12-02 16:48:00      20978.0  Shop 0   \n",
       "98993       538420   17096      1727 2016-12-12 12:03:00      18554.0  Shop 0   \n",
       "84754       543991   16014      1499 2017-02-15 10:17:00      19527.0  Shop 0   \n",
       "\n",
       "        loyalty_program purchase_date  \n",
       "69074             False    2017-01-18  \n",
       "31974             False    2017-01-28  \n",
       "104734             True    2017-02-22  \n",
       "38595             False    2017-01-11  \n",
       "12719              True    2016-12-02  \n",
       "17389              True    2017-02-03  \n",
       "41559             False    2017-01-28  \n",
       "84816             False    2017-02-16  \n",
       "82457             False    2017-02-11  \n",
       "3229              False    2016-12-16  \n",
       "59591             False    2017-01-11  \n",
       "101984            False    2017-01-11  \n",
       "23104             False    2016-12-02  \n",
       "98993             False    2016-12-12  \n",
       "84754             False    2017-02-15  "
      ]
     },
     "execution_count": 11,
     "metadata": {},
     "output_type": "execute_result"
    }
   ],
   "source": [
    "# посмотрим на выбросы\n",
    "purchases.sort_values('quantity', ascending=False).head(15)"
   ]
  },
  {
   "cell_type": "code",
   "execution_count": 12,
   "id": "36372ab1",
   "metadata": {},
   "outputs": [
    {
     "data": {
      "text/html": [
       "<div>\n",
       "<style scoped>\n",
       "    .dataframe tbody tr th:only-of-type {\n",
       "        vertical-align: middle;\n",
       "    }\n",
       "\n",
       "    .dataframe tbody tr th {\n",
       "        vertical-align: top;\n",
       "    }\n",
       "\n",
       "    .dataframe thead th {\n",
       "        text-align: right;\n",
       "    }\n",
       "</style>\n",
       "<table border=\"1\" class=\"dataframe\">\n",
       "  <thead>\n",
       "    <tr style=\"text-align: right;\">\n",
       "      <th></th>\n",
       "      <th>purchase_id</th>\n",
       "      <th>item_id</th>\n",
       "      <th>quantity</th>\n",
       "      <th>purchase_ts</th>\n",
       "      <th>customer_id</th>\n",
       "      <th>shop</th>\n",
       "      <th>loyalty_program</th>\n",
       "      <th>purchase_date</th>\n",
       "    </tr>\n",
       "  </thead>\n",
       "  <tbody>\n",
       "    <tr>\n",
       "      <th>49411</th>\n",
       "      <td>C541433</td>\n",
       "      <td>23166</td>\n",
       "      <td>-74216</td>\n",
       "      <td>2017-01-18 10:17:00</td>\n",
       "      <td>18025.0</td>\n",
       "      <td>Shop 0</td>\n",
       "      <td>False</td>\n",
       "      <td>2017-01-18</td>\n",
       "    </tr>\n",
       "    <tr>\n",
       "      <th>39345</th>\n",
       "      <td>C536757</td>\n",
       "      <td>84347</td>\n",
       "      <td>-9361</td>\n",
       "      <td>2016-12-02 14:23:00</td>\n",
       "      <td>21517.0</td>\n",
       "      <td>Shop 0</td>\n",
       "      <td>False</td>\n",
       "      <td>2016-12-02</td>\n",
       "    </tr>\n",
       "    <tr>\n",
       "      <th>104960</th>\n",
       "      <td>540564</td>\n",
       "      <td>22617</td>\n",
       "      <td>-2601</td>\n",
       "      <td>2017-01-10 10:36:00</td>\n",
       "      <td>NaN</td>\n",
       "      <td>Shop 0</td>\n",
       "      <td>False</td>\n",
       "      <td>2017-01-10</td>\n",
       "    </tr>\n",
       "    <tr>\n",
       "      <th>10687</th>\n",
       "      <td>543257</td>\n",
       "      <td>84611B</td>\n",
       "      <td>-1431</td>\n",
       "      <td>2017-02-04 16:06:00</td>\n",
       "      <td>NaN</td>\n",
       "      <td>Shop 0</td>\n",
       "      <td>False</td>\n",
       "      <td>2017-02-04</td>\n",
       "    </tr>\n",
       "    <tr>\n",
       "      <th>53844</th>\n",
       "      <td>541685</td>\n",
       "      <td>22351</td>\n",
       "      <td>-1401</td>\n",
       "      <td>2017-01-20 15:41:00</td>\n",
       "      <td>NaN</td>\n",
       "      <td>Shop 0</td>\n",
       "      <td>False</td>\n",
       "      <td>2017-01-20</td>\n",
       "    </tr>\n",
       "    <tr>\n",
       "      <th>79838</th>\n",
       "      <td>540638</td>\n",
       "      <td>72038P</td>\n",
       "      <td>-991</td>\n",
       "      <td>2017-01-10 12:14:00</td>\n",
       "      <td>NaN</td>\n",
       "      <td>Shop 0</td>\n",
       "      <td>False</td>\n",
       "      <td>2017-01-10</td>\n",
       "    </tr>\n",
       "    <tr>\n",
       "      <th>910</th>\n",
       "      <td>540241</td>\n",
       "      <td>35957</td>\n",
       "      <td>-940</td>\n",
       "      <td>2017-01-05 15:17:00</td>\n",
       "      <td>NaN</td>\n",
       "      <td>Shop 0</td>\n",
       "      <td>False</td>\n",
       "      <td>2017-01-05</td>\n",
       "    </tr>\n",
       "    <tr>\n",
       "      <th>21912</th>\n",
       "      <td>544410</td>\n",
       "      <td>84997C</td>\n",
       "      <td>-742</td>\n",
       "      <td>2017-02-18 13:54:00</td>\n",
       "      <td>NaN</td>\n",
       "      <td>Shop 0</td>\n",
       "      <td>False</td>\n",
       "      <td>2017-02-18</td>\n",
       "    </tr>\n",
       "    <tr>\n",
       "      <th>2583</th>\n",
       "      <td>538090</td>\n",
       "      <td>20956</td>\n",
       "      <td>-724</td>\n",
       "      <td>2016-12-09 14:48:00</td>\n",
       "      <td>NaN</td>\n",
       "      <td>Shop 0</td>\n",
       "      <td>False</td>\n",
       "      <td>2016-12-09</td>\n",
       "    </tr>\n",
       "    <tr>\n",
       "      <th>28821</th>\n",
       "      <td>C542693</td>\n",
       "      <td>15036</td>\n",
       "      <td>-601</td>\n",
       "      <td>2017-01-31 12:36:00</td>\n",
       "      <td>18587.0</td>\n",
       "      <td>Shop 0</td>\n",
       "      <td>False</td>\n",
       "      <td>2017-01-31</td>\n",
       "    </tr>\n",
       "    <tr>\n",
       "      <th>57652</th>\n",
       "      <td>C539329</td>\n",
       "      <td>85123A</td>\n",
       "      <td>-501</td>\n",
       "      <td>2016-12-17 09:37:00</td>\n",
       "      <td>21692.0</td>\n",
       "      <td>Shop 0</td>\n",
       "      <td>False</td>\n",
       "      <td>2016-12-17</td>\n",
       "    </tr>\n",
       "    <tr>\n",
       "      <th>50809</th>\n",
       "      <td>544649</td>\n",
       "      <td>21621</td>\n",
       "      <td>-401</td>\n",
       "      <td>2017-02-22 12:37:00</td>\n",
       "      <td>NaN</td>\n",
       "      <td>Shop 0</td>\n",
       "      <td>False</td>\n",
       "      <td>2017-02-22</td>\n",
       "    </tr>\n",
       "    <tr>\n",
       "      <th>63947</th>\n",
       "      <td>543262</td>\n",
       "      <td>84614A</td>\n",
       "      <td>-391</td>\n",
       "      <td>2017-02-04 16:08:00</td>\n",
       "      <td>NaN</td>\n",
       "      <td>Shop 0</td>\n",
       "      <td>False</td>\n",
       "      <td>2017-02-04</td>\n",
       "    </tr>\n",
       "    <tr>\n",
       "      <th>97842</th>\n",
       "      <td>537028</td>\n",
       "      <td>21696</td>\n",
       "      <td>-321</td>\n",
       "      <td>2016-12-03 16:36:00</td>\n",
       "      <td>NaN</td>\n",
       "      <td>Shop 0</td>\n",
       "      <td>False</td>\n",
       "      <td>2016-12-03</td>\n",
       "    </tr>\n",
       "    <tr>\n",
       "      <th>91455</th>\n",
       "      <td>540978</td>\n",
       "      <td>84050</td>\n",
       "      <td>-311</td>\n",
       "      <td>2017-01-12 15:04:00</td>\n",
       "      <td>NaN</td>\n",
       "      <td>Shop 0</td>\n",
       "      <td>False</td>\n",
       "      <td>2017-01-12</td>\n",
       "    </tr>\n",
       "  </tbody>\n",
       "</table>\n",
       "</div>"
      ],
      "text/plain": [
       "       purchase_id item_id  quantity         purchase_ts  customer_id    shop  \\\n",
       "49411      C541433   23166    -74216 2017-01-18 10:17:00      18025.0  Shop 0   \n",
       "39345      C536757   84347     -9361 2016-12-02 14:23:00      21517.0  Shop 0   \n",
       "104960      540564   22617     -2601 2017-01-10 10:36:00          NaN  Shop 0   \n",
       "10687       543257  84611B     -1431 2017-02-04 16:06:00          NaN  Shop 0   \n",
       "53844       541685   22351     -1401 2017-01-20 15:41:00          NaN  Shop 0   \n",
       "79838       540638  72038P      -991 2017-01-10 12:14:00          NaN  Shop 0   \n",
       "910         540241   35957      -940 2017-01-05 15:17:00          NaN  Shop 0   \n",
       "21912       544410  84997C      -742 2017-02-18 13:54:00          NaN  Shop 0   \n",
       "2583        538090   20956      -724 2016-12-09 14:48:00          NaN  Shop 0   \n",
       "28821      C542693   15036      -601 2017-01-31 12:36:00      18587.0  Shop 0   \n",
       "57652      C539329  85123A      -501 2016-12-17 09:37:00      21692.0  Shop 0   \n",
       "50809       544649   21621      -401 2017-02-22 12:37:00          NaN  Shop 0   \n",
       "63947       543262  84614A      -391 2017-02-04 16:08:00          NaN  Shop 0   \n",
       "97842       537028   21696      -321 2016-12-03 16:36:00          NaN  Shop 0   \n",
       "91455       540978   84050      -311 2017-01-12 15:04:00          NaN  Shop 0   \n",
       "\n",
       "        loyalty_program purchase_date  \n",
       "49411             False    2017-01-18  \n",
       "39345             False    2016-12-02  \n",
       "104960            False    2017-01-10  \n",
       "10687             False    2017-02-04  \n",
       "53844             False    2017-01-20  \n",
       "79838             False    2017-01-10  \n",
       "910               False    2017-01-05  \n",
       "21912             False    2017-02-18  \n",
       "2583              False    2016-12-09  \n",
       "28821             False    2017-01-31  \n",
       "57652             False    2016-12-17  \n",
       "50809             False    2017-02-22  \n",
       "63947             False    2017-02-04  \n",
       "97842             False    2016-12-03  \n",
       "91455             False    2017-01-12  "
      ]
     },
     "execution_count": 12,
     "metadata": {},
     "output_type": "execute_result"
    }
   ],
   "source": [
    "# посмотрим на выбросы\n",
    "purchases.sort_values('quantity').head(15)"
   ]
  },
  {
   "cell_type": "markdown",
   "id": "633e5098",
   "metadata": {},
   "source": [
    "Отрицательные значения могут появиться при ошибке сбора информации с касс. Можно заменить их на модуль. Выбросы могут исказить метрики, их нужно удалить."
   ]
  },
  {
   "cell_type": "code",
   "execution_count": 13,
   "id": "95a23a00",
   "metadata": {},
   "outputs": [
    {
     "name": "stdout",
     "output_type": "stream",
     "text": [
      "Удалили строк: 5.58%\n"
     ]
    }
   ],
   "source": [
    "# меняем отрицательные значения на модуль\n",
    "purchases['quantity'] = purchases['quantity'].abs()\n",
    "# определили 95-й перцентиль\n",
    "q_hi  = purchases['quantity'].quantile(0.95)\n",
    "# очистили данные от выбросов по количеству и отфильтровали датафрейм\n",
    "purchases_filtered = purchases[purchases['quantity'] < q_hi]\n",
    "print(f'Удалили строк: {((purchases.shape[0] - purchases_filtered.shape[0]) / purchases.shape[0]):.2%}')"
   ]
  },
  {
   "cell_type": "code",
   "execution_count": 14,
   "id": "15a1b8e1",
   "metadata": {},
   "outputs": [
    {
     "data": {
      "image/png": "[encoded data removed]",
      "text/plain": [
       "<Figure size 640x480 with 1 Axes>"
      ]
     },
     "metadata": {},
     "output_type": "display_data"
    }
   ],
   "source": [
    "# построим новое распределение данных о количестве покупок \n",
    "fig = sns.boxplot(data = purchases_filtered['quantity'])\n",
    "plt.title('Распределение количеств купленных товаров после очистки данных')\n",
    "plt.show()"
   ]
  },
  {
   "cell_type": "markdown",
   "id": "c6b504ef",
   "metadata": {},
   "source": [
    "Количество товаров 20 вполне приемлемо. Теперь видно, что в данных достаточно много покупок с количеством товара 0. Это могут быть акции, подарки и т.д. Нули можно оставить."
   ]
  },
  {
   "cell_type": "code",
   "execution_count": 15,
   "id": "1f9809f4",
   "metadata": {},
   "outputs": [
    {
     "data": {
      "image/png": "[encoded data removed]",
      "text/plain": [
       "<Figure size 640x480 with 1 Axes>"
      ]
     },
     "metadata": {},
     "output_type": "display_data"
    }
   ],
   "source": [
    "# построим распределение данных о ценах \n",
    "fig = sns.boxplot(data = product_codes['price'])\n",
    "plt.title('Распределение цен товаров')\n",
    "plt.show()"
   ]
  },
  {
   "cell_type": "code",
   "execution_count": 16,
   "id": "698e59ac",
   "metadata": {},
   "outputs": [
    {
     "data": {
      "text/html": [
       "<div>\n",
       "<style scoped>\n",
       "    .dataframe tbody tr th:only-of-type {\n",
       "        vertical-align: middle;\n",
       "    }\n",
       "\n",
       "    .dataframe tbody tr th {\n",
       "        vertical-align: top;\n",
       "    }\n",
       "\n",
       "    .dataframe thead th {\n",
       "        text-align: right;\n",
       "    }\n",
       "</style>\n",
       "<table border=\"1\" class=\"dataframe\">\n",
       "  <thead>\n",
       "    <tr style=\"text-align: right;\">\n",
       "      <th></th>\n",
       "      <th>item_id</th>\n",
       "      <th>price</th>\n",
       "    </tr>\n",
       "  </thead>\n",
       "  <tbody>\n",
       "    <tr>\n",
       "      <th>9968</th>\n",
       "      <td>20738</td>\n",
       "      <td>0.0</td>\n",
       "    </tr>\n",
       "    <tr>\n",
       "      <th>4408</th>\n",
       "      <td>22833</td>\n",
       "      <td>0.0</td>\n",
       "    </tr>\n",
       "    <tr>\n",
       "      <th>3640</th>\n",
       "      <td>84898F</td>\n",
       "      <td>0.0</td>\n",
       "    </tr>\n",
       "    <tr>\n",
       "      <th>3657</th>\n",
       "      <td>84968F</td>\n",
       "      <td>0.0</td>\n",
       "    </tr>\n",
       "    <tr>\n",
       "      <th>4407</th>\n",
       "      <td>21763</td>\n",
       "      <td>0.0</td>\n",
       "    </tr>\n",
       "    <tr>\n",
       "      <th>3658</th>\n",
       "      <td>84968E</td>\n",
       "      <td>0.0</td>\n",
       "    </tr>\n",
       "    <tr>\n",
       "      <th>4405</th>\n",
       "      <td>21690</td>\n",
       "      <td>0.0</td>\n",
       "    </tr>\n",
       "    <tr>\n",
       "      <th>7955</th>\n",
       "      <td>85118</td>\n",
       "      <td>0.0</td>\n",
       "    </tr>\n",
       "    <tr>\n",
       "      <th>9046</th>\n",
       "      <td>79062D</td>\n",
       "      <td>0.0</td>\n",
       "    </tr>\n",
       "    <tr>\n",
       "      <th>3659</th>\n",
       "      <td>84968B</td>\n",
       "      <td>0.0</td>\n",
       "    </tr>\n",
       "  </tbody>\n",
       "</table>\n",
       "</div>"
      ],
      "text/plain": [
       "     item_id  price\n",
       "9968   20738    0.0\n",
       "4408   22833    0.0\n",
       "3640  84898F    0.0\n",
       "3657  84968F    0.0\n",
       "4407   21763    0.0\n",
       "3658  84968E    0.0\n",
       "4405   21690    0.0\n",
       "7955   85118    0.0\n",
       "9046  79062D    0.0\n",
       "3659  84968B    0.0"
      ]
     },
     "execution_count": 16,
     "metadata": {},
     "output_type": "execute_result"
    }
   ],
   "source": [
    "# посмотрим минимальные цены\n",
    "product_codes.sort_values('price').head(10)"
   ]
  },
  {
   "cell_type": "code",
   "execution_count": 17,
   "id": "35dffa5c",
   "metadata": {},
   "outputs": [
    {
     "data": {
      "text/html": [
       "<div>\n",
       "<style scoped>\n",
       "    .dataframe tbody tr th:only-of-type {\n",
       "        vertical-align: middle;\n",
       "    }\n",
       "\n",
       "    .dataframe tbody tr th {\n",
       "        vertical-align: top;\n",
       "    }\n",
       "\n",
       "    .dataframe thead th {\n",
       "        text-align: right;\n",
       "    }\n",
       "</style>\n",
       "<table border=\"1\" class=\"dataframe\">\n",
       "  <thead>\n",
       "    <tr style=\"text-align: right;\">\n",
       "      <th></th>\n",
       "      <th>item_id</th>\n",
       "      <th>price</th>\n",
       "    </tr>\n",
       "  </thead>\n",
       "  <tbody>\n",
       "    <tr>\n",
       "      <th>6133</th>\n",
       "      <td>AMAZONFEE</td>\n",
       "      <td>16888.02</td>\n",
       "    </tr>\n",
       "    <tr>\n",
       "      <th>6134</th>\n",
       "      <td>AMAZONFEE</td>\n",
       "      <td>16453.71</td>\n",
       "    </tr>\n",
       "    <tr>\n",
       "      <th>3931</th>\n",
       "      <td>AMAZONFEE</td>\n",
       "      <td>13541.33</td>\n",
       "    </tr>\n",
       "    <tr>\n",
       "      <th>4089</th>\n",
       "      <td>AMAZONFEE</td>\n",
       "      <td>13474.79</td>\n",
       "    </tr>\n",
       "    <tr>\n",
       "      <th>4095</th>\n",
       "      <td>AMAZONFEE</td>\n",
       "      <td>6706.71</td>\n",
       "    </tr>\n",
       "    <tr>\n",
       "      <th>9732</th>\n",
       "      <td>AMAZONFEE</td>\n",
       "      <td>5575.28</td>\n",
       "    </tr>\n",
       "    <tr>\n",
       "      <th>4094</th>\n",
       "      <td>AMAZONFEE</td>\n",
       "      <td>5519.25</td>\n",
       "    </tr>\n",
       "    <tr>\n",
       "      <th>9733</th>\n",
       "      <td>AMAZONFEE</td>\n",
       "      <td>5258.77</td>\n",
       "    </tr>\n",
       "    <tr>\n",
       "      <th>8729</th>\n",
       "      <td>M</td>\n",
       "      <td>1715.85</td>\n",
       "    </tr>\n",
       "    <tr>\n",
       "      <th>9476</th>\n",
       "      <td>M</td>\n",
       "      <td>1435.79</td>\n",
       "    </tr>\n",
       "  </tbody>\n",
       "</table>\n",
       "</div>"
      ],
      "text/plain": [
       "        item_id     price\n",
       "6133  AMAZONFEE  16888.02\n",
       "6134  AMAZONFEE  16453.71\n",
       "3931  AMAZONFEE  13541.33\n",
       "4089  AMAZONFEE  13474.79\n",
       "4095  AMAZONFEE   6706.71\n",
       "9732  AMAZONFEE   5575.28\n",
       "4094  AMAZONFEE   5519.25\n",
       "9733  AMAZONFEE   5258.77\n",
       "8729          M   1715.85\n",
       "9476          M   1435.79"
      ]
     },
     "execution_count": 17,
     "metadata": {},
     "output_type": "execute_result"
    }
   ],
   "source": [
    "# посмотрим максимальные цены\n",
    "product_codes.sort_values('price', ascending=False).head(10)"
   ]
  },
  {
   "cell_type": "markdown",
   "id": "375c12ed",
   "metadata": {},
   "source": [
    "Цена 0 может также быть у подарков, акционных товаров и т.д. В ценах встречаются товары, похожие на доставку Amazon, банковские переводы. Также оставим эти позиции, они могут быть частью покупки."
   ]
  },
  {
   "cell_type": "markdown",
   "id": "3163d2a3",
   "metadata": {},
   "source": [
    "#### Обработка дубликатов"
   ]
  },
  {
   "cell_type": "code",
   "execution_count": 18,
   "id": "f6fb088e",
   "metadata": {},
   "outputs": [
    {
     "name": "stdout",
     "output_type": "stream",
     "text": [
      "Количество дубликатов: 1026\n"
     ]
    }
   ],
   "source": [
    "# посчитали дубликаты\n",
    "print(f'Количество дубликатов: {purchases_filtered.duplicated().sum()}')"
   ]
  },
  {
   "cell_type": "markdown",
   "id": "60fbba3d",
   "metadata": {},
   "source": [
    "Один товар мог встать в чеке двумя позициями, например: молоток - 1 шт, молоток - 1 шт. Например, если у них разные партии. Тогда, это не дубликаты, а просто особенности работы кассы. Такие дубликаты оставляем."
   ]
  },
  {
   "cell_type": "markdown",
   "id": "af17bc1b",
   "metadata": {},
   "source": [
    "#### Соединение таблиц"
   ]
  },
  {
   "cell_type": "markdown",
   "id": "5035cf6a",
   "metadata": {},
   "source": [
    "Для расчетов понадобятся данные о сумме покупок, а для этого необходимо добавить в таблицу цену товара. В данных о цене для каждого товара может быть указано несколько цен, поэтому по имеющимся данным невозможно определить настоящую цену в момент покупки.\n",
    "\n",
    "Вместо цены можно взять какую-либо меру центральной тенденции - среднее, медиану или моду. Так как для каждого товара указано немного цен, можно взять среднее арифметическое (математическое ожидание)."
   ]
  },
  {
   "cell_type": "code",
   "execution_count": 19,
   "id": "3fc58bde",
   "metadata": {},
   "outputs": [
    {
     "data": {
      "text/html": [
       "<div>\n",
       "<style scoped>\n",
       "    .dataframe tbody tr th:only-of-type {\n",
       "        vertical-align: middle;\n",
       "    }\n",
       "\n",
       "    .dataframe tbody tr th {\n",
       "        vertical-align: top;\n",
       "    }\n",
       "\n",
       "    .dataframe thead th {\n",
       "        text-align: right;\n",
       "    }\n",
       "</style>\n",
       "<table border=\"1\" class=\"dataframe\">\n",
       "  <thead>\n",
       "    <tr style=\"text-align: right;\">\n",
       "      <th></th>\n",
       "      <th>purchase_id</th>\n",
       "      <th>item_id</th>\n",
       "      <th>quantity</th>\n",
       "      <th>purchase_ts</th>\n",
       "      <th>customer_id</th>\n",
       "      <th>shop</th>\n",
       "      <th>loyalty_program</th>\n",
       "      <th>purchase_date</th>\n",
       "      <th>price</th>\n",
       "      <th>total</th>\n",
       "    </tr>\n",
       "  </thead>\n",
       "  <tbody>\n",
       "    <tr>\n",
       "      <th>0</th>\n",
       "      <td>538280</td>\n",
       "      <td>21873</td>\n",
       "      <td>11</td>\n",
       "      <td>2016-12-10 12:50:00</td>\n",
       "      <td>18427.0</td>\n",
       "      <td>Shop 0</td>\n",
       "      <td>False</td>\n",
       "      <td>2016-12-10</td>\n",
       "      <td>1.81</td>\n",
       "      <td>19.91</td>\n",
       "    </tr>\n",
       "    <tr>\n",
       "      <th>1</th>\n",
       "      <td>541104</td>\n",
       "      <td>21873</td>\n",
       "      <td>0</td>\n",
       "      <td>2017-01-13 14:29:00</td>\n",
       "      <td>NaN</td>\n",
       "      <td>Shop 0</td>\n",
       "      <td>False</td>\n",
       "      <td>2017-01-13</td>\n",
       "      <td>1.81</td>\n",
       "      <td>0.00</td>\n",
       "    </tr>\n",
       "    <tr>\n",
       "      <th>2</th>\n",
       "      <td>540418</td>\n",
       "      <td>21873</td>\n",
       "      <td>1</td>\n",
       "      <td>2017-01-07 11:04:00</td>\n",
       "      <td>NaN</td>\n",
       "      <td>Shop 0</td>\n",
       "      <td>False</td>\n",
       "      <td>2017-01-07</td>\n",
       "      <td>1.81</td>\n",
       "      <td>1.81</td>\n",
       "    </tr>\n",
       "    <tr>\n",
       "      <th>3</th>\n",
       "      <td>541516</td>\n",
       "      <td>21873</td>\n",
       "      <td>2</td>\n",
       "      <td>2017-01-18 17:34:00</td>\n",
       "      <td>NaN</td>\n",
       "      <td>Shop 0</td>\n",
       "      <td>False</td>\n",
       "      <td>2017-01-18</td>\n",
       "      <td>1.81</td>\n",
       "      <td>3.62</td>\n",
       "    </tr>\n",
       "    <tr>\n",
       "      <th>4</th>\n",
       "      <td>538843</td>\n",
       "      <td>21873</td>\n",
       "      <td>1</td>\n",
       "      <td>2016-12-14 13:18:00</td>\n",
       "      <td>21712.0</td>\n",
       "      <td>Shop 0</td>\n",
       "      <td>False</td>\n",
       "      <td>2016-12-14</td>\n",
       "      <td>1.81</td>\n",
       "      <td>1.81</td>\n",
       "    </tr>\n",
       "  </tbody>\n",
       "</table>\n",
       "</div>"
      ],
      "text/plain": [
       "  purchase_id item_id  quantity         purchase_ts  customer_id    shop  \\\n",
       "0      538280   21873        11 2016-12-10 12:50:00      18427.0  Shop 0   \n",
       "1      541104   21873         0 2017-01-13 14:29:00          NaN  Shop 0   \n",
       "2      540418   21873         1 2017-01-07 11:04:00          NaN  Shop 0   \n",
       "3      541516   21873         2 2017-01-18 17:34:00          NaN  Shop 0   \n",
       "4      538843   21873         1 2016-12-14 13:18:00      21712.0  Shop 0   \n",
       "\n",
       "   loyalty_program purchase_date  price  total  \n",
       "0            False    2016-12-10   1.81  19.91  \n",
       "1            False    2017-01-13   1.81   0.00  \n",
       "2            False    2017-01-07   1.81   1.81  \n",
       "3            False    2017-01-18   1.81   3.62  \n",
       "4            False    2016-12-14   1.81   1.81  "
      ]
     },
     "execution_count": 19,
     "metadata": {},
     "output_type": "execute_result"
    }
   ],
   "source": [
    "# для каждого товара в таблице цен оставляем цену - среднее арифметическое\n",
    "product_codes = product_codes.groupby('item_id', as_index=False)['price'].mean()\n",
    "# добавляем в таблицу покупок цену товара\n",
    "purchases_filtered = purchases_filtered.merge(product_codes, on='item_id')\n",
    "# добавим для каждой строчки в покупке сумму\n",
    "purchases_filtered['total'] = purchases_filtered['quantity'] * purchases_filtered['price']\n",
    "purchases_filtered.head()"
   ]
  },
  {
   "cell_type": "markdown",
   "id": "af14578b",
   "metadata": {},
   "source": [
    "Теперь аггрегируем информацию по каждой покупке: оставим общую сумму покупки и количество проданного товара. Оставим для анализа два датасета: с информацией о покупателях без карт и без них."
   ]
  },
  {
   "cell_type": "code",
   "execution_count": 20,
   "id": "a2330556",
   "metadata": {},
   "outputs": [
    {
     "data": {
      "text/html": [
       "<div>\n",
       "<style scoped>\n",
       "    .dataframe tbody tr th:only-of-type {\n",
       "        vertical-align: middle;\n",
       "    }\n",
       "\n",
       "    .dataframe tbody tr th {\n",
       "        vertical-align: top;\n",
       "    }\n",
       "\n",
       "    .dataframe thead th {\n",
       "        text-align: right;\n",
       "    }\n",
       "</style>\n",
       "<table border=\"1\" class=\"dataframe\">\n",
       "  <thead>\n",
       "    <tr style=\"text-align: right;\">\n",
       "      <th></th>\n",
       "      <th>purchase_id</th>\n",
       "      <th>customer_id</th>\n",
       "      <th>shop</th>\n",
       "      <th>loyalty_program</th>\n",
       "      <th>purchase_date</th>\n",
       "      <th>quantity</th>\n",
       "      <th>total</th>\n",
       "    </tr>\n",
       "  </thead>\n",
       "  <tbody>\n",
       "    <tr>\n",
       "      <th>0</th>\n",
       "      <td>536365</td>\n",
       "      <td>23529.0</td>\n",
       "      <td>Shop 0</td>\n",
       "      <td>True</td>\n",
       "      <td>2016-12-01</td>\n",
       "      <td>33</td>\n",
       "      <td>184.471417</td>\n",
       "    </tr>\n",
       "    <tr>\n",
       "      <th>1</th>\n",
       "      <td>536366</td>\n",
       "      <td>23529.0</td>\n",
       "      <td>Shop 0</td>\n",
       "      <td>True</td>\n",
       "      <td>2016-12-01</td>\n",
       "      <td>10</td>\n",
       "      <td>20.400000</td>\n",
       "    </tr>\n",
       "    <tr>\n",
       "      <th>2</th>\n",
       "      <td>536367</td>\n",
       "      <td>18726.0</td>\n",
       "      <td>Shop 0</td>\n",
       "      <td>False</td>\n",
       "      <td>2016-12-01</td>\n",
       "      <td>40</td>\n",
       "      <td>222.351250</td>\n",
       "    </tr>\n",
       "    <tr>\n",
       "      <th>3</th>\n",
       "      <td>536368</td>\n",
       "      <td>18726.0</td>\n",
       "      <td>Shop 0</td>\n",
       "      <td>False</td>\n",
       "      <td>2016-12-01</td>\n",
       "      <td>11</td>\n",
       "      <td>84.470000</td>\n",
       "    </tr>\n",
       "    <tr>\n",
       "      <th>4</th>\n",
       "      <td>536369</td>\n",
       "      <td>18726.0</td>\n",
       "      <td>Shop 0</td>\n",
       "      <td>False</td>\n",
       "      <td>2016-12-01</td>\n",
       "      <td>2</td>\n",
       "      <td>16.600000</td>\n",
       "    </tr>\n",
       "  </tbody>\n",
       "</table>\n",
       "</div>"
      ],
      "text/plain": [
       "  purchase_id  customer_id    shop  loyalty_program purchase_date  quantity  \\\n",
       "0      536365      23529.0  Shop 0             True    2016-12-01        33   \n",
       "1      536366      23529.0  Shop 0             True    2016-12-01        10   \n",
       "2      536367      18726.0  Shop 0            False    2016-12-01        40   \n",
       "3      536368      18726.0  Shop 0            False    2016-12-01        11   \n",
       "4      536369      18726.0  Shop 0            False    2016-12-01         2   \n",
       "\n",
       "        total  \n",
       "0  184.471417  \n",
       "1   20.400000  \n",
       "2  222.351250  \n",
       "3   84.470000  \n",
       "4   16.600000  "
      ]
     },
     "execution_count": 20,
     "metadata": {},
     "output_type": "execute_result"
    }
   ],
   "source": [
    "# аггрегируем по покупке и считаем суммы и количества товара для всех покупателей\n",
    "data_with_nocard = (\n",
    "    purchases_filtered.groupby(['purchase_id','shop','loyalty_program','purchase_date'], as_index=False)\n",
    "    .agg({'quantity': 'sum', 'total': 'sum', 'customer_id':'first'}) # если группировать по customer_id, то\n",
    "    # покупки без карт теряются\n",
    "    \n",
    ")\n",
    "# аггрегируем по покупке и считаем суммы и количества товара для покупателей с картами\n",
    "data = (\n",
    "    purchases_filtered.groupby(['purchase_id', 'customer_id','shop','loyalty_program','purchase_date'], as_index=False)\n",
    "    .agg({'quantity': 'sum', 'total': 'sum'})\n",
    ")\n",
    "data.head()"
   ]
  },
  {
   "cell_type": "markdown",
   "id": "2cdbde5c",
   "metadata": {},
   "source": [
    "**Выводы**:\n",
    "- В колонке с ID покупателя встречаются пропуски - это покупатели без карт. Их нельзя однозначно идентифицировать, они не могут участвовать в программе лояльности.\n",
    "- В данных о покупках есть дубликаты и отрицательные значения, выбросы. Данные собираются недостаточно качественно: где-то информация дублируется и искажается. \n",
    "- В данных о ценах на каждый товар может встречаться несколько цен. Нет информации, которая позволит понять, какую именно цену брать и для какой покупки. Было принято решение в качестве цены взять среднее. Однако это снижает точность анализа.\n",
    "- Для более точного анализа в будущем необходимо предотвратить появление таких ошибок при сборе информации."
   ]
  },
  {
   "cell_type": "markdown",
   "id": "e4908c37",
   "metadata": {},
   "source": [
    "### Исследовательский анализ"
   ]
  },
  {
   "cell_type": "markdown",
   "id": "ad51d86b",
   "metadata": {},
   "source": [
    "#### В какие дни совершались покупки по программе лояльности и без"
   ]
  },
  {
   "cell_type": "code",
   "execution_count": 21,
   "id": "1057b7e7",
   "metadata": {},
   "outputs": [
    {
     "data": {
      "image/png": "[encoded data removed]",
      "text/plain": [
       "<Figure size 1000x500 with 1 Axes>"
      ]
     },
     "metadata": {},
     "output_type": "display_data"
    }
   ],
   "source": [
    "# строим график\n",
    "f, ax = plt.subplots(figsize=(10, 5))\n",
    "sns.histplot(\n",
    "    data_with_nocard,\n",
    "    x='purchase_date', hue='loyalty_program',\n",
    "    multiple='stack',\n",
    ")\n",
    "plt.title('Распределение покупок по дням')\n",
    "plt.xlabel('Дата')\n",
    "plt.ylabel('Количество')\n",
    "plt.show()"
   ]
  },
  {
   "cell_type": "markdown",
   "id": "50a1a0af",
   "metadata": {},
   "source": [
    "В данных представлены покупки с начала декабря 2016 по конец февраля 2017 года. Видно, что в выходные и праздничные дни магазины не работали. В начале декабря покупок было больше.\n",
    "\n",
    "Количество покупок покупателей, не участвующих в прогамме лояльности, практически всегда выше, чем у тех, кто участвует в программе лольности."
   ]
  },
  {
   "cell_type": "markdown",
   "id": "7b3fe1b7",
   "metadata": {},
   "source": [
    "#### Как распределены покупки и доли покупателей, участвующих в программе лояльности, между магазинами"
   ]
  },
  {
   "cell_type": "code",
   "execution_count": 22,
   "id": "7dca407f",
   "metadata": {},
   "outputs": [
    {
     "data": {
      "image/png": "[encoded data removed]",
      "text/plain": [
       "<Figure size 800x600 with 1 Axes>"
      ]
     },
     "metadata": {},
     "output_type": "display_data"
    }
   ],
   "source": [
    "# построили график по количествам покупок\n",
    "# порядок для сортировки\n",
    "order = data_with_nocard['shop'].value_counts().index\n",
    "f, ax = plt.subplots(figsize=(8, 6))\n",
    "sns.countplot(data=data_with_nocard, y='shop', hue='loyalty_program', order=order)\n",
    "plt.title('Распределение покупок по магазинам')\n",
    "plt.xlabel('Количество')\n",
    "plt.ylabel('')\n",
    "plt.show()"
   ]
  },
  {
   "cell_type": "markdown",
   "id": "80adf980",
   "metadata": {},
   "source": [
    "Подавляющая часть покупок совершается в магазине 0. Доля покупок по программе лояльности в этом магазине ниже, чем доля покупок без программы лояльности. Рассмотрим подробнее покупки в других магазинах."
   ]
  },
  {
   "cell_type": "code",
   "execution_count": 23,
   "id": "6c8b56ae",
   "metadata": {},
   "outputs": [
    {
     "data": {
      "image/png": "[encoded data removed]",
      "text/plain": [
       "<Figure size 800x600 with 1 Axes>"
      ]
     },
     "metadata": {},
     "output_type": "display_data"
    }
   ],
   "source": [
    "# построили график по количествам покупок во всех магазинах, кроме 0\n",
    "f, ax = plt.subplots(figsize=(8, 6))\n",
    "order = order[1:]\n",
    "sns.countplot(data=data_with_nocard.query('shop != \"Shop 0\"'), y='shop', hue=\"loyalty_program\", order = order)\n",
    "plt.title('Распределение покупок по магазинам')\n",
    "plt.xlabel('Количество')\n",
    "plt.ylabel('')\n",
    "plt.show()"
   ]
  },
  {
   "cell_type": "code",
   "execution_count": 24,
   "id": "e33de292",
   "metadata": {},
   "outputs": [
    {
     "data": {
      "text/html": [
       "<div>\n",
       "<style scoped>\n",
       "    .dataframe tbody tr th:only-of-type {\n",
       "        vertical-align: middle;\n",
       "    }\n",
       "\n",
       "    .dataframe tbody tr th {\n",
       "        vertical-align: top;\n",
       "    }\n",
       "\n",
       "    .dataframe thead th {\n",
       "        text-align: right;\n",
       "    }\n",
       "</style>\n",
       "<table border=\"1\" class=\"dataframe\">\n",
       "  <thead>\n",
       "    <tr style=\"text-align: right;\">\n",
       "      <th></th>\n",
       "      <th>loyalty_program</th>\n",
       "      <th>purchase_id</th>\n",
       "    </tr>\n",
       "  </thead>\n",
       "  <tbody>\n",
       "    <tr>\n",
       "      <th>0</th>\n",
       "      <td>True</td>\n",
       "      <td>1</td>\n",
       "    </tr>\n",
       "  </tbody>\n",
       "</table>\n",
       "</div>"
      ],
      "text/plain": [
       "   loyalty_program  purchase_id\n",
       "0             True            1"
      ]
     },
     "execution_count": 24,
     "metadata": {},
     "output_type": "execute_result"
    }
   ],
   "source": [
    "# посмотрим покупки в 28 магазине\n",
    "data_with_nocard.query('shop == \"Shop 28\"').groupby('loyalty_program', as_index=False)['purchase_id'].count()"
   ]
  },
  {
   "cell_type": "markdown",
   "id": "1ea0df38",
   "metadata": {},
   "source": [
    "Также покупки по программе лояльности совершались в магазине 8, 19. А в магазине 28 зарегистрирована только одна покупка и она проходит по программе лояльности. Странно, что в некоторых магазинах зарегистрировано всего несколько покупок."
   ]
  },
  {
   "cell_type": "markdown",
   "id": "acf7b6e7",
   "metadata": {},
   "source": [
    "#### Какая доля покупателей участвует в программе лояльности"
   ]
  },
  {
   "cell_type": "markdown",
   "id": "c71df67d",
   "metadata": {},
   "source": [
    "Здесь мы можем посчитать долю только среди покупателей с картами."
   ]
  },
  {
   "cell_type": "code",
   "execution_count": 25,
   "id": "fadbed31",
   "metadata": {},
   "outputs": [
    {
     "data": {
      "image/png": "[encoded data removed]",
      "text/plain": [
       "<Figure size 640x480 with 1 Axes>"
      ]
     },
     "metadata": {},
     "output_type": "display_data"
    }
   ],
   "source": [
    "# группируем данные по участию в программе лояльности и строим график\n",
    "pie_chart_data = data.groupby('loyalty_program', as_index=False)['customer_id'].nunique()\n",
    "fig = (\n",
    "    pie_chart_data.plot(y='customer_id', labels=['Не участвует', 'Участвует'], kind='pie',\n",
    "                        title='Доля покупателей с картами, участвующих в программе лояльности', autopct='%.2f%%')\n",
    ")\n",
    "plt.show()"
   ]
  },
  {
   "cell_type": "markdown",
   "id": "3738eedc",
   "metadata": {},
   "source": [
    "Среди покупателей, имеющих карты, 34% участвуют в программе лояльности."
   ]
  },
  {
   "cell_type": "markdown",
   "id": "2235d6a5",
   "metadata": {},
   "source": [
    "**Выводы**\n",
    "- В данных представлены покупки с начала декабря 2016 по конец февраля 2017 года. Видно, что в выходные и праздничные дни магазины не работали. В начале декабря покупок было больше.\n",
    "- Количество покупок покупателей, не участвующих в прогамме лояльности, выше, чем у тех, кто участвует в программе лольности.\n",
    "- Подавляющая часть покупок совершается в магазине 0. Соотношение покупок по по программе лояльности и без здесь также сохраняется.\n",
    "- В некоторых магазинвх зарегистрировано всего несколько покупок.\n",
    "- Среди покупателей, имеющих карты, 34% участвуют в программе лояльности."
   ]
  },
  {
   "cell_type": "markdown",
   "id": "8b28d47a",
   "metadata": {},
   "source": [
    "### Анализ программы лояльности"
   ]
  },
  {
   "cell_type": "markdown",
   "id": "44dbaa62",
   "metadata": {},
   "source": [
    "В этом разделе необходимо расчитать метрики, чтобы найти различия в поведении пользователей.\n",
    "\n",
    "Какие метрики мы можем посчитать:\n",
    "- средний чек,\n",
    "- среднее количество покупок,\n",
    "- среднее количество товаров в чеке,\n",
    "- LTV.\n",
    "\n",
    "В качестве ключевой метрики можно принять средний чек. Но так как данные выгрузились неполно, у нас нет точной цены на товар в момент покупки. Поэтому расчеты, связанные с суммой покупки будут неточными. \n",
    "\n",
    "Еще можно посчитать среднее количество товаров в чеке. Но в чеках встречаются акции, оплата доставки, установки и т.д. Такая метрика также не будет достаточно точной.\n",
    " \n",
    "Также можно посчитать LTV - сколько в среднем за изучаемый период приносит денег уникальный покупатель. Так как расчет LTV также предпологает работу с суммой чека, эта метрика таже не будет достаточно точной.\n",
    "\n",
    "Более точной метрикой будет среднее количество покупок на человека. Ее можно оставить в качестве ключевой, а средний чек и среднее количество товаров в чеке, LTV в качестве побочных метрик. \n",
    "\n",
    "Тогда увеличение всех этих показателей будет говорить о том, что в группе лояльности покупатели чаще совершают покупки и на большую сумму. То есть выручка в группе лояльности будет больше, и программа лояльности работает.\n",
    "\n",
    "Метрики необходимо расчитать в разрезе когорт: по отношению к группе лояльности и по дате первой покупки.\n",
    "\n",
    "Для некоторых расчетов можно брать информацию о покупателях без карт, а для некоторых нельзя. Все таки сравнение лучше проводить среди двух четких когорт, поэтому анализ будет проводиться для двух когорт покупателей, имеющих карты: участвующих и не участвующих в программе лояльности. Покупателей без карт можно будет проанализировать в дальнейшем, если найдется информация, по которой можно будет их идентифицировать, например, номер карты или номер счета."
   ]
  },
  {
   "cell_type": "markdown",
   "id": "428544b3",
   "metadata": {},
   "source": [
    "#### Сравнение среднего количества покупок на покупателя "
   ]
  },
  {
   "cell_type": "code",
   "execution_count": 26,
   "id": "d1e9e53d",
   "metadata": {},
   "outputs": [
    {
     "data": {
      "image/png": "[encoded data removed]",
      "text/plain": [
       "<Figure size 640x480 with 1 Axes>"
      ]
     },
     "metadata": {},
     "output_type": "display_data"
    }
   ],
   "source": [
    "# построили распределение количества покупок\n",
    "# сгруппировали датасет по покупателям\n",
    "purchase_counts = data.groupby('customer_id', as_index=False)['purchase_id'].count().rename(columns={'purchase_id': 'purchases'})\n",
    "# построение гистограммы\n",
    "plt.hist(purchase_counts['purchases'], bins=50)\n",
    "plt.title('Распределение количества покупок')\n",
    "plt.xlabel('Количество покупок')\n",
    "plt.ylabel('Частота')\n",
    "plt.show()"
   ]
  },
  {
   "cell_type": "markdown",
   "id": "cc2f3bc8",
   "metadata": {},
   "source": [
    "Данные скошены вправо, выбросы могут сместить среднее арифметические. Для оценки среднего значения лучше использовать медиану."
   ]
  },
  {
   "cell_type": "code",
   "execution_count": 27,
   "id": "6a2376d0",
   "metadata": {},
   "outputs": [
    {
     "name": "stdout",
     "output_type": "stream",
     "text": [
      "Медианное количество покупок в группе нелояльных покупателей: 1.00\n",
      "Медианное количество покупок в группе лояльных покупателей: 1.00\n",
      "Прирост медианного количества покупок группы лояльности: 0.00\n"
     ]
    }
   ],
   "source": [
    "# создадим отдельные датасеты для покупателей участвующих и не участвующих в программе лояльности\n",
    "loyalty_purchases = data.query('loyalty_program == True')\n",
    "notloyalty_purchases = data.query('loyalty_program == False')\n",
    "# посчитаем количество покупок для каждого покупателя\n",
    "purchasesByNotLoyaltyCustomer = (\n",
    "    notloyalty_purchases.groupby('customer_id', as_index=False)['purchase_id'].count()\n",
    "    .rename(columns=({'purchase_id': 'purchases'}))\n",
    ")\n",
    "purchasesByLoyaltyCustomer = (\n",
    "    loyalty_purchases.groupby('customer_id', as_index=False)['purchase_id'].count()\n",
    "    .rename(columns=({'purchase_id': 'purchases'}))\n",
    ")\n",
    "# посчитаем медианные количества покупок в обеих группах\n",
    "median_purchases_notloyalty = purchasesByNotLoyaltyCustomer['purchases'].median()\n",
    "median_purchases_loyalty = purchasesByLoyaltyCustomer['purchases'].median()\n",
    "print(f'Медианное количество покупок в группе нелояльных покупателей: {median_purchases_notloyalty:.2f}')\n",
    "print(f'Медианное количество покупок в группе лояльных покупателей: {median_purchases_loyalty:.2f}')\n",
    "print(f'Прирост медианного количества покупок группы лояльности: \\\n",
    "{(median_purchases_loyalty - median_purchases_notloyalty) / median_purchases_notloyalty:.2f}')"
   ]
  },
  {
   "cell_type": "markdown",
   "id": "65351194",
   "metadata": {},
   "source": [
    "Медианные количества покупок в группах равны."
   ]
  },
  {
   "cell_type": "markdown",
   "id": "4fd0c323",
   "metadata": {},
   "source": [
    "#### Сравнение средних чеков"
   ]
  },
  {
   "cell_type": "code",
   "execution_count": 28,
   "id": "e805f8b8",
   "metadata": {},
   "outputs": [
    {
     "data": {
      "image/png": "[encoded data removed]",
      "text/plain": [
       "<Figure size 640x480 with 1 Axes>"
      ]
     },
     "metadata": {},
     "output_type": "display_data"
    }
   ],
   "source": [
    "# построим распределение сумм чеков\n",
    "plt.hist(data['total'], bins=100)\n",
    "plt.title('Распределение сумм чеков')\n",
    "plt.xlabel('Сумма чека')\n",
    "plt.ylabel('Частота')\n",
    "plt.show()"
   ]
  },
  {
   "cell_type": "markdown",
   "id": "419e8ac8",
   "metadata": {},
   "source": [
    "Здесь данные также скошены вправо. Для оценки среднего лучше использовать медиану."
   ]
  },
  {
   "cell_type": "code",
   "execution_count": 29,
   "id": "7171af9c",
   "metadata": {},
   "outputs": [
    {
     "name": "stdout",
     "output_type": "stream",
     "text": [
      "Медианный чек в группе нелояльных покупателей: 214.31\n",
      "Медианный чек в группе лояльных покупателей: 172.60\n",
      "Прирост медианного чека группы лояльности: -0.19\n"
     ]
    }
   ],
   "source": [
    "# посчитаем медианный чек в обеих группах\n",
    "median_checks_notloyalty = notloyalty_purchases['total'].median()\n",
    "median_checks_loyalty = loyalty_purchases['total'].median()\n",
    "print(f'Медианный чек в группе нелояльных покупателей: {median_checks_notloyalty:.2f}')\n",
    "print(f'Медианный чек в группе лояльных покупателей: {median_checks_loyalty:.2f}')\n",
    "print(f'Прирост медианного чека группы лояльности: \\\n",
    "{(median_checks_loyalty - median_checks_notloyalty) / median_checks_notloyalty:.2f}')"
   ]
  },
  {
   "cell_type": "markdown",
   "id": "9ec0eb46",
   "metadata": {},
   "source": [
    "Медианный чек в группе лояльных покупателей на 19% ниже по отношению к группе покупателей, не участвующих в программе лояльности."
   ]
  },
  {
   "cell_type": "markdown",
   "id": "2d6c77f3",
   "metadata": {},
   "source": [
    "#### Сравнение среднего количества товаров в чеке"
   ]
  },
  {
   "cell_type": "code",
   "execution_count": 30,
   "id": "68597b07",
   "metadata": {},
   "outputs": [
    {
     "data": {
      "image/png": "[encoded data removed]",
      "text/plain": [
       "<Figure size 640x480 with 1 Axes>"
      ]
     },
     "metadata": {},
     "output_type": "display_data"
    }
   ],
   "source": [
    "# построим распределение количеств товаров в чеке\n",
    "plt.hist(data['quantity'], bins=100)\n",
    "plt.title('Распределение количеств товаров в чеке')\n",
    "plt.xlabel('Количество товаров')\n",
    "plt.ylabel('Частота')\n",
    "plt.show()"
   ]
  },
  {
   "cell_type": "markdown",
   "id": "d0d75fcb",
   "metadata": {},
   "source": [
    "Здесь данные также скошены вправо. Для оценки среднего лучше использовать медиану."
   ]
  },
  {
   "cell_type": "code",
   "execution_count": 31,
   "id": "655f6442",
   "metadata": {},
   "outputs": [
    {
     "name": "stdout",
     "output_type": "stream",
     "text": [
      "Медианное количество товаров в чеке в группе нелояльных покупателей: 60.00\n",
      "Медианное количество товаров в чеке в группе лояльных покупателей: 52.00\n",
      "Прирост медианного количества товаров в чеке группы лояльности: -0.13\n"
     ]
    }
   ],
   "source": [
    "# посчитаем медианное количество товаров в чеке в обеих группах\n",
    "median_quantity_notloyalty = notloyalty_purchases['quantity'].median()\n",
    "median_quantity_loyalty = loyalty_purchases['quantity'].median()\n",
    "print(f'Медианное количество товаров в чеке в группе нелояльных покупателей: {median_quantity_notloyalty:.2f}')\n",
    "print(f'Медианное количество товаров в чеке в группе лояльных покупателей: {median_quantity_loyalty:.2f}')\n",
    "print(f'Прирост медианного количества товаров в чеке группы лояльности: \\\n",
    "{(median_quantity_loyalty - median_quantity_notloyalty) / median_quantity_notloyalty:.2f}')"
   ]
  },
  {
   "cell_type": "markdown",
   "id": "d7825aca",
   "metadata": {},
   "source": [
    "В группе лояльных покупателей медианное количество товаров в чеке на 13% ниже по отношению к группе покупателей, не участвующих в программе лояльности."
   ]
  },
  {
   "cell_type": "markdown",
   "id": "710235cb",
   "metadata": {},
   "source": [
    "#### LTV"
   ]
  },
  {
   "cell_type": "markdown",
   "id": "a7a35cfe",
   "metadata": {},
   "source": [
    "LTV нужно считать с учетом того, что программа лояльности подключается не бесплатно. Оплата программы лояльности (200 руб) списывается первый раз в момент регистрации в программе и часто совпадает с первой покупкой по программе лояльности. Далее, если клиент не отключается от сервиса, оплата списывается раз в месяц.\n",
    "\n",
    "Чтобы посчитать LTV с учетом оплаты программы лояльности, можно прибавить к каждой первой в месяце покупке лояльного покупателя 200 рублей. Так как у нас есть данные вплоть до конца февраля (конца месяца), можно считать, что если покупка зарегистрировалась как покупка лояльного покупателя, то в этом месяце оплата подписки прошла.\n",
    "\n",
    "Число, показывающее, сколько месяцев прошло с первой покупки по программе лояльности, может быть менее точным, так как клиент мог совершить покупку по программе лояльности в первый месяц, а потом отключить ее.\n",
    "\n",
    "Если бы сохранились точные данные о покупке подписки, то анализ был бы более точным."
   ]
  },
  {
   "cell_type": "code",
   "execution_count": 32,
   "id": "55eb0f9a",
   "metadata": {},
   "outputs": [
    {
     "data": {
      "text/html": [
       "<div>\n",
       "<style scoped>\n",
       "    .dataframe tbody tr th:only-of-type {\n",
       "        vertical-align: middle;\n",
       "    }\n",
       "\n",
       "    .dataframe tbody tr th {\n",
       "        vertical-align: top;\n",
       "    }\n",
       "\n",
       "    .dataframe thead th {\n",
       "        text-align: right;\n",
       "    }\n",
       "</style>\n",
       "<table border=\"1\" class=\"dataframe\">\n",
       "  <thead>\n",
       "    <tr style=\"text-align: right;\">\n",
       "      <th></th>\n",
       "      <th>purchase_id</th>\n",
       "      <th>total</th>\n",
       "    </tr>\n",
       "  </thead>\n",
       "  <tbody>\n",
       "    <tr>\n",
       "      <th>0</th>\n",
       "      <td>540516</td>\n",
       "      <td>334.560595</td>\n",
       "    </tr>\n",
       "    <tr>\n",
       "      <th>1</th>\n",
       "      <td>537137</td>\n",
       "      <td>774.408000</td>\n",
       "    </tr>\n",
       "    <tr>\n",
       "      <th>2</th>\n",
       "      <td>542503</td>\n",
       "      <td>1068.494738</td>\n",
       "    </tr>\n",
       "    <tr>\n",
       "      <th>3</th>\n",
       "      <td>543359</td>\n",
       "      <td>307.430500</td>\n",
       "    </tr>\n",
       "    <tr>\n",
       "      <th>4</th>\n",
       "      <td>545165</td>\n",
       "      <td>208.486667</td>\n",
       "    </tr>\n",
       "  </tbody>\n",
       "</table>\n",
       "</div>"
      ],
      "text/plain": [
       "  purchase_id        total\n",
       "0      540516   334.560595\n",
       "1      537137   774.408000\n",
       "2      542503  1068.494738\n",
       "3      543359   307.430500\n",
       "4      545165   208.486667"
      ]
     },
     "execution_count": 32,
     "metadata": {},
     "output_type": "execute_result"
    }
   ],
   "source": [
    "# обрезаем дату до месяца\n",
    "pd.options.mode.chained_assignment = None\n",
    "loyalty_purchases['month'] = pd.to_datetime(loyalty_purchases['purchase_date']).dt.strftime('%Y-%m')\n",
    "# группируем данные по месяцам и находим первую покупку в каждом месяце\n",
    "first_purchase = loyalty_purchases.groupby(['customer_id', 'month']).first().reset_index()\n",
    "# увеличиваем сумму первой покупки на 200 рублей\n",
    "first_purchase['total'] += 200\n",
    "first_purchase = first_purchase[['purchase_id', 'total']]\n",
    "first_purchase.head()"
   ]
  },
  {
   "cell_type": "code",
   "execution_count": 33,
   "id": "038b989f",
   "metadata": {},
   "outputs": [
    {
     "data": {
      "text/html": [
       "<div>\n",
       "<style scoped>\n",
       "    .dataframe tbody tr th:only-of-type {\n",
       "        vertical-align: middle;\n",
       "    }\n",
       "\n",
       "    .dataframe tbody tr th {\n",
       "        vertical-align: top;\n",
       "    }\n",
       "\n",
       "    .dataframe thead th {\n",
       "        text-align: right;\n",
       "    }\n",
       "</style>\n",
       "<table border=\"1\" class=\"dataframe\">\n",
       "  <thead>\n",
       "    <tr style=\"text-align: right;\">\n",
       "      <th></th>\n",
       "      <th>purchase_id</th>\n",
       "      <th>customer_id</th>\n",
       "      <th>shop</th>\n",
       "      <th>loyalty_program</th>\n",
       "      <th>purchase_date</th>\n",
       "      <th>quantity</th>\n",
       "      <th>total</th>\n",
       "      <th>month</th>\n",
       "      <th>total_y</th>\n",
       "    </tr>\n",
       "  </thead>\n",
       "  <tbody>\n",
       "    <tr>\n",
       "      <th>0</th>\n",
       "      <td>536365</td>\n",
       "      <td>23529.0</td>\n",
       "      <td>Shop 0</td>\n",
       "      <td>True</td>\n",
       "      <td>2016-12-01</td>\n",
       "      <td>33</td>\n",
       "      <td>384.471417</td>\n",
       "      <td>2016-12</td>\n",
       "      <td>384.471417</td>\n",
       "    </tr>\n",
       "    <tr>\n",
       "      <th>1</th>\n",
       "      <td>536366</td>\n",
       "      <td>23529.0</td>\n",
       "      <td>Shop 0</td>\n",
       "      <td>True</td>\n",
       "      <td>2016-12-01</td>\n",
       "      <td>10</td>\n",
       "      <td>20.400000</td>\n",
       "      <td>2016-12</td>\n",
       "      <td>NaN</td>\n",
       "    </tr>\n",
       "    <tr>\n",
       "      <th>2</th>\n",
       "      <td>536372</td>\n",
       "      <td>23529.0</td>\n",
       "      <td>Shop 0</td>\n",
       "      <td>True</td>\n",
       "      <td>2016-12-01</td>\n",
       "      <td>10</td>\n",
       "      <td>20.400000</td>\n",
       "      <td>2016-12</td>\n",
       "      <td>NaN</td>\n",
       "    </tr>\n",
       "    <tr>\n",
       "      <th>3</th>\n",
       "      <td>536373</td>\n",
       "      <td>23529.0</td>\n",
       "      <td>Shop 0</td>\n",
       "      <td>True</td>\n",
       "      <td>2016-12-01</td>\n",
       "      <td>72</td>\n",
       "      <td>384.528845</td>\n",
       "      <td>2016-12</td>\n",
       "      <td>NaN</td>\n",
       "    </tr>\n",
       "    <tr>\n",
       "      <th>4</th>\n",
       "      <td>536375</td>\n",
       "      <td>23529.0</td>\n",
       "      <td>Shop 0</td>\n",
       "      <td>True</td>\n",
       "      <td>2016-12-01</td>\n",
       "      <td>72</td>\n",
       "      <td>384.528845</td>\n",
       "      <td>2016-12</td>\n",
       "      <td>NaN</td>\n",
       "    </tr>\n",
       "    <tr>\n",
       "      <th>5</th>\n",
       "      <td>536377</td>\n",
       "      <td>23529.0</td>\n",
       "      <td>Shop 0</td>\n",
       "      <td>True</td>\n",
       "      <td>2016-12-01</td>\n",
       "      <td>10</td>\n",
       "      <td>20.400000</td>\n",
       "      <td>2016-12</td>\n",
       "      <td>NaN</td>\n",
       "    </tr>\n",
       "    <tr>\n",
       "      <th>6</th>\n",
       "      <td>536380</td>\n",
       "      <td>23488.0</td>\n",
       "      <td>Shop 0</td>\n",
       "      <td>True</td>\n",
       "      <td>2016-12-01</td>\n",
       "      <td>23</td>\n",
       "      <td>253.762500</td>\n",
       "      <td>2016-12</td>\n",
       "      <td>253.762500</td>\n",
       "    </tr>\n",
       "    <tr>\n",
       "      <th>7</th>\n",
       "      <td>536384</td>\n",
       "      <td>23753.0</td>\n",
       "      <td>Shop 0</td>\n",
       "      <td>True</td>\n",
       "      <td>2016-12-01</td>\n",
       "      <td>52</td>\n",
       "      <td>539.580167</td>\n",
       "      <td>2016-12</td>\n",
       "      <td>539.580167</td>\n",
       "    </tr>\n",
       "    <tr>\n",
       "      <th>8</th>\n",
       "      <td>536385</td>\n",
       "      <td>23099.0</td>\n",
       "      <td>Shop 0</td>\n",
       "      <td>True</td>\n",
       "      <td>2016-12-01</td>\n",
       "      <td>46</td>\n",
       "      <td>340.059167</td>\n",
       "      <td>2016-12</td>\n",
       "      <td>340.059167</td>\n",
       "    </tr>\n",
       "    <tr>\n",
       "      <th>9</th>\n",
       "      <td>536390</td>\n",
       "      <td>23190.0</td>\n",
       "      <td>Shop 0</td>\n",
       "      <td>True</td>\n",
       "      <td>2016-12-01</td>\n",
       "      <td>110</td>\n",
       "      <td>958.254167</td>\n",
       "      <td>2016-12</td>\n",
       "      <td>958.254167</td>\n",
       "    </tr>\n",
       "    <tr>\n",
       "      <th>10</th>\n",
       "      <td>536396</td>\n",
       "      <td>23529.0</td>\n",
       "      <td>Shop 0</td>\n",
       "      <td>True</td>\n",
       "      <td>2016-12-01</td>\n",
       "      <td>84</td>\n",
       "      <td>496.828845</td>\n",
       "      <td>2016-12</td>\n",
       "      <td>NaN</td>\n",
       "    </tr>\n",
       "    <tr>\n",
       "      <th>11</th>\n",
       "      <td>536397</td>\n",
       "      <td>23603.0</td>\n",
       "      <td>Shop 0</td>\n",
       "      <td>True</td>\n",
       "      <td>2016-12-01</td>\n",
       "      <td>11</td>\n",
       "      <td>279.090000</td>\n",
       "      <td>2016-12</td>\n",
       "      <td>279.090000</td>\n",
       "    </tr>\n",
       "    <tr>\n",
       "      <th>12</th>\n",
       "      <td>536399</td>\n",
       "      <td>23529.0</td>\n",
       "      <td>Shop 0</td>\n",
       "      <td>True</td>\n",
       "      <td>2016-12-01</td>\n",
       "      <td>10</td>\n",
       "      <td>20.400000</td>\n",
       "      <td>2016-12</td>\n",
       "      <td>NaN</td>\n",
       "    </tr>\n",
       "    <tr>\n",
       "      <th>13</th>\n",
       "      <td>536406</td>\n",
       "      <td>23529.0</td>\n",
       "      <td>Shop 0</td>\n",
       "      <td>True</td>\n",
       "      <td>2016-12-01</td>\n",
       "      <td>79</td>\n",
       "      <td>456.834179</td>\n",
       "      <td>2016-12</td>\n",
       "      <td>NaN</td>\n",
       "    </tr>\n",
       "    <tr>\n",
       "      <th>14</th>\n",
       "      <td>536407</td>\n",
       "      <td>23529.0</td>\n",
       "      <td>Shop 0</td>\n",
       "      <td>True</td>\n",
       "      <td>2016-12-01</td>\n",
       "      <td>10</td>\n",
       "      <td>20.400000</td>\n",
       "      <td>2016-12</td>\n",
       "      <td>NaN</td>\n",
       "    </tr>\n",
       "  </tbody>\n",
       "</table>\n",
       "</div>"
      ],
      "text/plain": [
       "   purchase_id  customer_id    shop  loyalty_program purchase_date  quantity  \\\n",
       "0       536365      23529.0  Shop 0             True    2016-12-01        33   \n",
       "1       536366      23529.0  Shop 0             True    2016-12-01        10   \n",
       "2       536372      23529.0  Shop 0             True    2016-12-01        10   \n",
       "3       536373      23529.0  Shop 0             True    2016-12-01        72   \n",
       "4       536375      23529.0  Shop 0             True    2016-12-01        72   \n",
       "5       536377      23529.0  Shop 0             True    2016-12-01        10   \n",
       "6       536380      23488.0  Shop 0             True    2016-12-01        23   \n",
       "7       536384      23753.0  Shop 0             True    2016-12-01        52   \n",
       "8       536385      23099.0  Shop 0             True    2016-12-01        46   \n",
       "9       536390      23190.0  Shop 0             True    2016-12-01       110   \n",
       "10      536396      23529.0  Shop 0             True    2016-12-01        84   \n",
       "11      536397      23603.0  Shop 0             True    2016-12-01        11   \n",
       "12      536399      23529.0  Shop 0             True    2016-12-01        10   \n",
       "13      536406      23529.0  Shop 0             True    2016-12-01        79   \n",
       "14      536407      23529.0  Shop 0             True    2016-12-01        10   \n",
       "\n",
       "         total    month     total_y  \n",
       "0   384.471417  2016-12  384.471417  \n",
       "1    20.400000  2016-12         NaN  \n",
       "2    20.400000  2016-12         NaN  \n",
       "3   384.528845  2016-12         NaN  \n",
       "4   384.528845  2016-12         NaN  \n",
       "5    20.400000  2016-12         NaN  \n",
       "6   253.762500  2016-12  253.762500  \n",
       "7   539.580167  2016-12  539.580167  \n",
       "8   340.059167  2016-12  340.059167  \n",
       "9   958.254167  2016-12  958.254167  \n",
       "10  496.828845  2016-12         NaN  \n",
       "11  279.090000  2016-12  279.090000  \n",
       "12   20.400000  2016-12         NaN  \n",
       "13  456.834179  2016-12         NaN  \n",
       "14   20.400000  2016-12         NaN  "
      ]
     },
     "execution_count": 33,
     "metadata": {},
     "output_type": "execute_result"
    }
   ],
   "source": [
    "# соединяем данные двух таблиц\n",
    "loyalty_purchases_updated = loyalty_purchases.merge(first_purchase, on='purchase_id', how='left')\n",
    "# заполняем столбец с ценами обновленными ценами, там где не надо прибавлять 200 руб\n",
    "# оставляем старую цену\n",
    "loyalty_purchases_updated['total_x'] = loyalty_purchases_updated['total_y'].fillna(loyalty_purchases_updated['total_x'])\n",
    "loyalty_purchases_updated = loyalty_purchases_updated.rename(columns={'total_x': 'total'})\n",
    "loyalty_purchases_updated.head(15)"
   ]
  },
  {
   "cell_type": "markdown",
   "id": "76c30a2a",
   "metadata": {},
   "source": [
    "Теперь можно считать LTV с учетом покупки подписки на программу лояльности."
   ]
  },
  {
   "cell_type": "code",
   "execution_count": 34,
   "id": "6fa52fbd",
   "metadata": {},
   "outputs": [
    {
     "name": "stdout",
     "output_type": "stream",
     "text": [
      "LTV в группе нелояльных покупателей: 775.71\n",
      "LTV в группе лояльных покупателей: 906.03\n",
      "Прирост LTV группы лояльности: 0.17\n"
     ]
    }
   ],
   "source": [
    "# сгруппируем данные по покупателям в обеих группах и посчитаем общую сумму покупок\n",
    "ltv_notloyalty = notloyalty_purchases.groupby('customer_id', as_index=False)['total'].sum()\n",
    "ltv_loyalty = loyalty_purchases_updated.groupby('customer_id', as_index=False)['total'].sum()\n",
    "# посчитаем LTV в обеих группах\n",
    "ltv_notloyalty = ltv_notloyalty['total'].mean()\n",
    "ltv_loyalty = ltv_loyalty['total'].mean()\n",
    "print(f'LTV в группе нелояльных покупателей: {ltv_notloyalty:.2f}')\n",
    "print(f'LTV в группе лояльных покупателей: {ltv_loyalty:.2f}')\n",
    "print(f'Прирост LTV группы лояльности: \\\n",
    "{(ltv_loyalty - ltv_notloyalty) / ltv_notloyalty:.2f}')"
   ]
  },
  {
   "cell_type": "markdown",
   "id": "919d7717",
   "metadata": {},
   "source": [
    "В группе лояльных покупателей LTV на 17% выше, по сравнению с группой покупателей, не участвующих в программе лояльности. Посмотрим LTV в разрезе лайфтайма. Для этого нужно использовать датафрейм со всеми покупками, в котором к каждой первой в месяце покупке лояльного покупателя прибавляется 200 рублей."
   ]
  },
  {
   "cell_type": "code",
   "execution_count": 35,
   "id": "dfde070f",
   "metadata": {},
   "outputs": [
    {
     "data": {
      "text/html": [
       "<div>\n",
       "<style scoped>\n",
       "    .dataframe tbody tr th:only-of-type {\n",
       "        vertical-align: middle;\n",
       "    }\n",
       "\n",
       "    .dataframe tbody tr th {\n",
       "        vertical-align: top;\n",
       "    }\n",
       "\n",
       "    .dataframe thead th {\n",
       "        text-align: right;\n",
       "    }\n",
       "</style>\n",
       "<table border=\"1\" class=\"dataframe\">\n",
       "  <thead>\n",
       "    <tr style=\"text-align: right;\">\n",
       "      <th></th>\n",
       "      <th>purchase_id</th>\n",
       "      <th>customer_id</th>\n",
       "      <th>shop</th>\n",
       "      <th>loyalty_program</th>\n",
       "      <th>purchase_date</th>\n",
       "      <th>quantity</th>\n",
       "      <th>total</th>\n",
       "      <th>total_y</th>\n",
       "    </tr>\n",
       "  </thead>\n",
       "  <tbody>\n",
       "    <tr>\n",
       "      <th>0</th>\n",
       "      <td>536365</td>\n",
       "      <td>23529.0</td>\n",
       "      <td>Shop 0</td>\n",
       "      <td>True</td>\n",
       "      <td>2016-12-01</td>\n",
       "      <td>33</td>\n",
       "      <td>384.471417</td>\n",
       "      <td>384.471417</td>\n",
       "    </tr>\n",
       "    <tr>\n",
       "      <th>1</th>\n",
       "      <td>536366</td>\n",
       "      <td>23529.0</td>\n",
       "      <td>Shop 0</td>\n",
       "      <td>True</td>\n",
       "      <td>2016-12-01</td>\n",
       "      <td>10</td>\n",
       "      <td>20.400000</td>\n",
       "      <td>NaN</td>\n",
       "    </tr>\n",
       "    <tr>\n",
       "      <th>2</th>\n",
       "      <td>536367</td>\n",
       "      <td>18726.0</td>\n",
       "      <td>Shop 0</td>\n",
       "      <td>False</td>\n",
       "      <td>2016-12-01</td>\n",
       "      <td>40</td>\n",
       "      <td>222.351250</td>\n",
       "      <td>NaN</td>\n",
       "    </tr>\n",
       "    <tr>\n",
       "      <th>3</th>\n",
       "      <td>536368</td>\n",
       "      <td>18726.0</td>\n",
       "      <td>Shop 0</td>\n",
       "      <td>False</td>\n",
       "      <td>2016-12-01</td>\n",
       "      <td>11</td>\n",
       "      <td>84.470000</td>\n",
       "      <td>NaN</td>\n",
       "    </tr>\n",
       "    <tr>\n",
       "      <th>4</th>\n",
       "      <td>536369</td>\n",
       "      <td>18726.0</td>\n",
       "      <td>Shop 0</td>\n",
       "      <td>False</td>\n",
       "      <td>2016-12-01</td>\n",
       "      <td>2</td>\n",
       "      <td>16.600000</td>\n",
       "      <td>NaN</td>\n",
       "    </tr>\n",
       "    <tr>\n",
       "      <th>5</th>\n",
       "      <td>536370</td>\n",
       "      <td>18262.0</td>\n",
       "      <td>Shop 1</td>\n",
       "      <td>False</td>\n",
       "      <td>2016-12-01</td>\n",
       "      <td>347</td>\n",
       "      <td>1132.674667</td>\n",
       "      <td>NaN</td>\n",
       "    </tr>\n",
       "    <tr>\n",
       "      <th>6</th>\n",
       "      <td>536372</td>\n",
       "      <td>23529.0</td>\n",
       "      <td>Shop 0</td>\n",
       "      <td>True</td>\n",
       "      <td>2016-12-01</td>\n",
       "      <td>10</td>\n",
       "      <td>20.400000</td>\n",
       "      <td>NaN</td>\n",
       "    </tr>\n",
       "    <tr>\n",
       "      <th>7</th>\n",
       "      <td>536373</td>\n",
       "      <td>23529.0</td>\n",
       "      <td>Shop 0</td>\n",
       "      <td>True</td>\n",
       "      <td>2016-12-01</td>\n",
       "      <td>72</td>\n",
       "      <td>384.528845</td>\n",
       "      <td>NaN</td>\n",
       "    </tr>\n",
       "    <tr>\n",
       "      <th>8</th>\n",
       "      <td>536375</td>\n",
       "      <td>23529.0</td>\n",
       "      <td>Shop 0</td>\n",
       "      <td>True</td>\n",
       "      <td>2016-12-01</td>\n",
       "      <td>72</td>\n",
       "      <td>384.528845</td>\n",
       "      <td>NaN</td>\n",
       "    </tr>\n",
       "    <tr>\n",
       "      <th>9</th>\n",
       "      <td>536377</td>\n",
       "      <td>23529.0</td>\n",
       "      <td>Shop 0</td>\n",
       "      <td>True</td>\n",
       "      <td>2016-12-01</td>\n",
       "      <td>10</td>\n",
       "      <td>20.400000</td>\n",
       "      <td>NaN</td>\n",
       "    </tr>\n",
       "    <tr>\n",
       "      <th>10</th>\n",
       "      <td>536378</td>\n",
       "      <td>20367.0</td>\n",
       "      <td>Shop 0</td>\n",
       "      <td>False</td>\n",
       "      <td>2016-12-01</td>\n",
       "      <td>174</td>\n",
       "      <td>420.341738</td>\n",
       "      <td>NaN</td>\n",
       "    </tr>\n",
       "    <tr>\n",
       "      <th>11</th>\n",
       "      <td>536380</td>\n",
       "      <td>23488.0</td>\n",
       "      <td>Shop 0</td>\n",
       "      <td>True</td>\n",
       "      <td>2016-12-01</td>\n",
       "      <td>23</td>\n",
       "      <td>253.762500</td>\n",
       "      <td>253.762500</td>\n",
       "    </tr>\n",
       "    <tr>\n",
       "      <th>12</th>\n",
       "      <td>536381</td>\n",
       "      <td>20990.0</td>\n",
       "      <td>Shop 0</td>\n",
       "      <td>False</td>\n",
       "      <td>2016-12-01</td>\n",
       "      <td>128</td>\n",
       "      <td>507.677083</td>\n",
       "      <td>NaN</td>\n",
       "    </tr>\n",
       "    <tr>\n",
       "      <th>13</th>\n",
       "      <td>536382</td>\n",
       "      <td>21777.0</td>\n",
       "      <td>Shop 0</td>\n",
       "      <td>False</td>\n",
       "      <td>2016-12-01</td>\n",
       "      <td>73</td>\n",
       "      <td>399.825667</td>\n",
       "      <td>NaN</td>\n",
       "    </tr>\n",
       "    <tr>\n",
       "      <th>14</th>\n",
       "      <td>536384</td>\n",
       "      <td>23753.0</td>\n",
       "      <td>Shop 0</td>\n",
       "      <td>True</td>\n",
       "      <td>2016-12-01</td>\n",
       "      <td>52</td>\n",
       "      <td>539.580167</td>\n",
       "      <td>539.580167</td>\n",
       "    </tr>\n",
       "  </tbody>\n",
       "</table>\n",
       "</div>"
      ],
      "text/plain": [
       "   purchase_id  customer_id    shop  loyalty_program purchase_date  quantity  \\\n",
       "0       536365      23529.0  Shop 0             True    2016-12-01        33   \n",
       "1       536366      23529.0  Shop 0             True    2016-12-01        10   \n",
       "2       536367      18726.0  Shop 0            False    2016-12-01        40   \n",
       "3       536368      18726.0  Shop 0            False    2016-12-01        11   \n",
       "4       536369      18726.0  Shop 0            False    2016-12-01         2   \n",
       "5       536370      18262.0  Shop 1            False    2016-12-01       347   \n",
       "6       536372      23529.0  Shop 0             True    2016-12-01        10   \n",
       "7       536373      23529.0  Shop 0             True    2016-12-01        72   \n",
       "8       536375      23529.0  Shop 0             True    2016-12-01        72   \n",
       "9       536377      23529.0  Shop 0             True    2016-12-01        10   \n",
       "10      536378      20367.0  Shop 0            False    2016-12-01       174   \n",
       "11      536380      23488.0  Shop 0             True    2016-12-01        23   \n",
       "12      536381      20990.0  Shop 0            False    2016-12-01       128   \n",
       "13      536382      21777.0  Shop 0            False    2016-12-01        73   \n",
       "14      536384      23753.0  Shop 0             True    2016-12-01        52   \n",
       "\n",
       "          total     total_y  \n",
       "0    384.471417  384.471417  \n",
       "1     20.400000         NaN  \n",
       "2    222.351250         NaN  \n",
       "3     84.470000         NaN  \n",
       "4     16.600000         NaN  \n",
       "5   1132.674667         NaN  \n",
       "6     20.400000         NaN  \n",
       "7    384.528845         NaN  \n",
       "8    384.528845         NaN  \n",
       "9     20.400000         NaN  \n",
       "10   420.341738         NaN  \n",
       "11   253.762500  253.762500  \n",
       "12   507.677083         NaN  \n",
       "13   399.825667         NaN  \n",
       "14   539.580167  539.580167  "
      ]
     },
     "execution_count": 35,
     "metadata": {},
     "output_type": "execute_result"
    }
   ],
   "source": [
    "# соединяем данные двух таблиц\n",
    "data_updated = data.merge(first_purchase, on='purchase_id', how='left')\n",
    "# заполняем столбец с ценами обновленными ценами, там где не надо прибавлять 200 руб\n",
    "# оставляем старую цену\n",
    "data_updated['total_x'] = data_updated['total_y'].fillna(data_updated['total_x'])\n",
    "data_updated = data_updated.rename(columns={'total_x': 'total'})\n",
    "data_updated.head(15)"
   ]
  },
  {
   "cell_type": "code",
   "execution_count": 36,
   "id": "89afe105",
   "metadata": {},
   "outputs": [],
   "source": [
    "# добавили функцию для создания пользовательских профилей\n",
    "def get_profiles(data):\n",
    "    # находим параметры первых посещений\n",
    "    profiles = (\n",
    "        data.sort_values(by=['customer_id', 'purchase_date'])\n",
    "        .groupby('customer_id')\n",
    "        .agg({'purchase_date': 'first'})\n",
    "        .rename(columns={'purchase_date': 'first_date'})\n",
    "        .reset_index()\n",
    "    )\n",
    "    return profiles"
   ]
  },
  {
   "cell_type": "code",
   "execution_count": 37,
   "id": "dd542e97",
   "metadata": {},
   "outputs": [],
   "source": [
    "# добавили функцию для расчёта LTV\n",
    "def get_ltv(\n",
    "    profiles,\n",
    "    purchases,\n",
    "    observation_date,\n",
    "    horizon_days,\n",
    "    dimensions=[],\n",
    "    ignore_horizon=False,\n",
    "):\n",
    "    # исключаем пользователей, не «доживших» до горизонта анализа\n",
    "    last_suitable_acquisition_date = observation_date\n",
    "    if not ignore_horizon:\n",
    "        last_suitable_acquisition_date = observation_date - timedelta(\n",
    "            days=horizon_days - 1\n",
    "        )\n",
    "    result_raw = profiles.query('first_date <= @last_suitable_acquisition_date')\n",
    "    # добавляем данные о покупках в профили\n",
    "    result_raw = result_raw.merge(\n",
    "        purchases[['customer_id', 'purchase_date', 'total', 'loyalty_program']], on='customer_id', how='left'\n",
    "    )\n",
    "    # рассчитываем лайфтайм пользователя для каждой покупки\n",
    "    result_raw['lifetime'] = (\n",
    "        result_raw['purchase_date'] - result_raw['first_date']\n",
    "    ).dt.days\n",
    "    # группируем по cohort, если в dimensions ничего нет\n",
    "    if len(dimensions) == 0:\n",
    "        result_raw['cohort'] = 'All users'\n",
    "        dimensions = dimensions + ['cohort']\n",
    "\n",
    "    # функция группировки по желаемым признакам\n",
    "    def group_by_dimensions(df, dims, horizon_days):\n",
    "        # строим «треугольную» таблицу выручки\n",
    "        result = df.pivot_table(\n",
    "            index=dims, columns='lifetime', values='total', aggfunc='sum'\n",
    "        )\n",
    "        # находим сумму выручки с накоплением\n",
    "        result = result.fillna(0).cumsum(axis=1)\n",
    "        # вычисляем размеры когорт\n",
    "        cohort_sizes = (\n",
    "            df.groupby(dims)\n",
    "            .agg({'customer_id': 'nunique'})\n",
    "            .rename(columns={'customer_id': 'cohort_size'})\n",
    "        )\n",
    "        # объединяем размеры когорт и таблицу выручки\n",
    "        result = cohort_sizes.merge(result, on=dims, how='left').fillna(0)\n",
    "        # считаем LTV: делим каждую «ячейку» в строке на размер когорты\n",
    "        result = result.div(result['cohort_size'], axis=0)\n",
    "        # исключаем все лайфтаймы, превышающие горизонт анализа\n",
    "        result = result[['cohort_size'] + list(range(horizon_days))]\n",
    "        # восстанавливаем размеры когорт\n",
    "        result['cohort_size'] = cohort_sizes\n",
    "        # возвращаем таблицу LTV\n",
    "        return result\n",
    "    # получаем таблицу LTV\n",
    "    result_grouped = group_by_dimensions(\n",
    "        result_raw, dimensions, horizon_days\n",
    "    )\n",
    "    # для таблиц динамики убираем 'cohort' из dimensions\n",
    "    if 'cohort' in dimensions:\n",
    "        dimensions = []\n",
    "    # получаем таблицу динамики LTV\n",
    "    result_in_time = group_by_dimensions(\n",
    "        result_raw, dimensions + ['first_date'], horizon_days\n",
    "    )\n",
    "    return (\n",
    "        result_raw,  # сырые данные\n",
    "        result_grouped,  # таблица LTV\n",
    "        result_in_time  # таблица динамики LTV\n",
    "    )"
   ]
  },
  {
   "cell_type": "code",
   "execution_count": 38,
   "id": "5609fb2d",
   "metadata": {},
   "outputs": [],
   "source": [
    "# функция для сглаживания фрейма\n",
    "def filter_data(df, window):\n",
    "    # для каждого столбца применяем скользящее среднее\n",
    "    for column in df.columns.values:\n",
    "        df[column] = df[column].rolling(window).mean() \n",
    "    return df"
   ]
  },
  {
   "cell_type": "code",
   "execution_count": 39,
   "id": "57c34e0e",
   "metadata": {},
   "outputs": [],
   "source": [
    "# функция для визуализации LTV\n",
    "def plot_ltv(ltv, ltv_history, horizon, window=3):\n",
    "    # задаём сетку отрисовки графиков\n",
    "    plt.figure(figsize=(20, 10))\n",
    "    # из таблицы ltv исключаем размеры когорт\n",
    "    ltv = ltv.drop(columns=['cohort_size'])\n",
    "    # в таблице динамики ltv оставляем только нужный лайфтайм\n",
    "    ltv_history = ltv_history.drop(columns=['cohort_size'])[[horizon - 1]]\n",
    "    # первый график — кривые ltv\n",
    "    ax1 = plt.subplot(2, 3, 1)\n",
    "    ltv.T.plot(grid=True, ax=ax1)\n",
    "    plt.legend()\n",
    "    plt.xlabel('Лайфтайм')\n",
    "    plt.title('LTV')\n",
    "    # второй график — динамика ltv\n",
    "    ax2 = plt.subplot(2, 3, 2, sharey=ax1)\n",
    "    # столбцами сводной таблицы станут все столбцы индекса, кроме даты\n",
    "    columns = [name for name in ltv_history.index.names if name not in ['first_date']]\n",
    "    filtered_data = ltv_history.pivot_table(\n",
    "        index='first_date', columns=columns, values=horizon - 1, aggfunc='mean'\n",
    "    )\n",
    "    filter_data(filtered_data, window).plot(grid=True, ax=ax2)\n",
    "    plt.xlabel('Дата привлечения')\n",
    "    plt.title('Динамика LTV пользователей на {}-й день'.format(horizon))\n",
    "    plt.tight_layout()\n",
    "    plt.show()"
   ]
  },
  {
   "cell_type": "code",
   "execution_count": 40,
   "id": "cc1d4993",
   "metadata": {},
   "outputs": [
    {
     "data": {
      "image/png": "[encoded data removed]",
      "text/plain": [
       "<Figure size 2000x1000 with 2 Axes>"
      ]
     },
     "metadata": {},
     "output_type": "display_data"
    }
   ],
   "source": [
    "# задаем горизонт анализа и момент анализа\n",
    "profiles = get_profiles(data_updated)\n",
    "observation_date = datetime(2017, 2, 28).date()  # момент анализа\n",
    "horizon_days = 60 # горизонт анализа\n",
    "# считаем LTV\n",
    "ltv_raw, ltv_grouped, ltv_history = get_ltv(\n",
    "    profiles, data_updated, observation_date, horizon_days, dimensions=['loyalty_program']\n",
    ")\n",
    "# строим графики\n",
    "plot_ltv(ltv_grouped, ltv_history, horizon_days)"
   ]
  },
  {
   "cell_type": "markdown",
   "id": "28e5d758",
   "metadata": {},
   "source": [
    "LTV покупателей группы лояльности на любой лайфтайм выше, чем у покупателей, не участвующих в группе лояльности. \n",
    "По графику динамики трудно что-то сказать, так как акция запущена не так давно."
   ]
  },
  {
   "cell_type": "markdown",
   "id": "ce4c0d21",
   "metadata": {},
   "source": [
    "**Выводы:**\n",
    "- Медианные количества покупок на покупателя в группе лояльных и не лояльных покупателей равны.\n",
    "- Медианный чек в группе лояльных покупателей на 19% ниже по отношению к группе покупателей, не участвующих в программе лояльности.\n",
    "- участвующих в программе лояльности.\n",
    "- В группе лояльных покупателей LTV на 17% выше, по сравнению с группой покупателей, не участвующих в программе лояльности. LTV покупателей группы лояльности выше на любой лайфтайм."
   ]
  },
  {
   "cell_type": "markdown",
   "id": "eba11d85",
   "metadata": {},
   "source": [
    "### Статистический анализ\n",
    "\n",
    "Статистический анализ покажет, есть ли значимые различия между группами пользователей в разрезе участия в программе лояльности. Можно проверить гипотезу об увеличении среднего количества покупок на пользователя в группе лояльности - ключевая метрика. Также можно проверить гипотезу об увеличении среднего чека в группе лояльности.\n",
    "\n",
    "#### Проверить гипотезу:  среднее количество покупок участников программы лояльности выше, чем у остальных покупателей\n",
    "\n",
    "```H0: среднее количество покупок в группе лояльности = среднее количество покупок группы пользователей, не участвующих в программе```\n",
    "\n",
    "```H1: среднее количество покупок в группе лояльности ≠ среднее количество покупок группы пользователей, не участвующих в программе```\n"
   ]
  },
  {
   "cell_type": "code",
   "execution_count": 41,
   "id": "f65f63b8",
   "metadata": {},
   "outputs": [
    {
     "data": {
      "image/png": "[encoded data removed]",
      "text/plain": [
       "<Figure size 640x480 with 1 Axes>"
      ]
     },
     "metadata": {},
     "output_type": "display_data"
    }
   ],
   "source": [
    "# найдем количество покупок на пользователя\n",
    "purchase_counts = data.groupby('customer_id', as_index=False)['purchase_id'].count().rename(columns={'purchase_id': 'purchases'})\n",
    "# построение гистограммы\n",
    "plt.hist(purchase_counts['purchases'], bins=50)\n",
    "plt.title('Распределение количества покупок')\n",
    "plt.xlabel('Количество покупок')\n",
    "plt.ylabel('Частота')\n",
    "plt.show()"
   ]
  },
  {
   "cell_type": "markdown",
   "id": "bddb926b",
   "metadata": {},
   "source": [
    "Данные распределены не нормально, поэтому для проверки гипотезы лучше использовать непараметрический критерий Манна-Уитни. Видно, что есть аномальные значения - более 40 покупок на пользователя."
   ]
  },
  {
   "cell_type": "code",
   "execution_count": 42,
   "id": "9e54d5b5",
   "metadata": {},
   "outputs": [
    {
     "data": {
      "image/png": "[encoded data removed]",
      "text/plain": [
       "<Figure size 640x480 with 1 Axes>"
      ]
     },
     "metadata": {},
     "output_type": "display_data"
    }
   ],
   "source": [
    "# создаем значения х\n",
    "x_values = pd.Series(range(0,len(purchase_counts)))\n",
    "# строим точечный график\n",
    "plt.scatter(x_values, purchase_counts['purchases'])\n",
    "plt.title('Количество покупок по покупателям')\n",
    "plt.ylabel('Количество покупок')\n",
    "plt.show()"
   ]
  },
  {
   "cell_type": "code",
   "execution_count": 43,
   "id": "d7b22064",
   "metadata": {},
   "outputs": [
    {
     "data": {
      "text/plain": [
       "array([ 6., 12.])"
      ]
     },
     "execution_count": 43,
     "metadata": {},
     "output_type": "execute_result"
    }
   ],
   "source": [
    "# посчитали 95 и 99 перцентили количества покупок на пользователя\n",
    "perc_purchases = np.percentile(purchase_counts['purchases'], [95, 99])\n",
    "perc_purchases"
   ]
  },
  {
   "cell_type": "markdown",
   "id": "119d512a",
   "metadata": {},
   "source": [
    "Не более 5% пользователей делали более 6 покупок, и не более 1% пользователей делали более 12 покупок."
   ]
  },
  {
   "cell_type": "code",
   "execution_count": 44,
   "id": "deabe171",
   "metadata": {},
   "outputs": [],
   "source": [
    "# создадим функцию для проверки критерием Манна-Уитни\n",
    "def manna_whitneyu(sampleA, sampleB, alpha):\n",
    "    p_value = (\n",
    "    stats.mannwhitneyu(sampleA, sampleB)[1]\n",
    "    )\n",
    "    print('p-value: ', '{0:.3f}'.format(p_value))\n",
    "    if p_value < alpha:\n",
    "        print('Отвергаем нулевую гипотезу, есть значимая разница')\n",
    "    else:\n",
    "        print('Не удалось отвергнуть нулевую гипотезу, разница не значима')"
   ]
  },
  {
   "cell_type": "code",
   "execution_count": 45,
   "id": "de75e912",
   "metadata": {},
   "outputs": [
    {
     "name": "stdout",
     "output_type": "stream",
     "text": [
      "p-value:  0.275\n",
      "Не удалось отвергнуть нулевую гипотезу, разница не значима\n",
      "Среднее количество покупок нелояльных покупателей: 2.074\n",
      "Среднее количество покупок лояльных покупателей: 2.092\n",
      "Прирост среднего числа покупок лояльных покупателей: 0.009\n"
     ]
    }
   ],
   "source": [
    "# отфильтруем выбросы из данных о количествах покупок на покупателя\n",
    "purchasesByNotLoyaltyCustomerFilter = purchasesByNotLoyaltyCustomer.query('purchases < @perc_purchases[1]')\n",
    "purchasesByLoyaltyCustomerFilter = purchasesByLoyaltyCustomer.query('purchases < @perc_purchases[1]')    \n",
    "# применим критерий\n",
    "alpha = 0.05\n",
    "manna_whitneyu(purchasesByLoyaltyCustomerFilter['purchases'], purchasesByNotLoyaltyCustomerFilter['purchases'],alpha)\n",
    "# посмотрим фактические различия\n",
    "print('Среднее количество покупок нелояльных покупателей:', '{0:.3f}'.format(purchasesByNotLoyaltyCustomerFilter['purchases'].mean()))\n",
    "print('Среднее количество покупок лояльных покупателей:', '{0:.3f}'.format(purchasesByLoyaltyCustomerFilter['purchases'].mean()))\n",
    "print('Прирост среднего числа покупок лояльных покупателей:', '{0:.3f}'.format(\n",
    "    (purchasesByLoyaltyCustomerFilter['purchases'].mean()-purchasesByNotLoyaltyCustomerFilter['purchases'].mean())\\\n",
    "/purchasesByNotLoyaltyCustomerFilter['purchases'].mean())\n",
    "     )"
   ]
  },
  {
   "cell_type": "markdown",
   "id": "0f1c748b",
   "metadata": {},
   "source": [
    "Гипотеза о том, что средние количества покупок на покупателя в обеих группах равны подтвердилась. Фактически в группе лояльности среднее количество покупок выше на 0.09%, но эта разница не  статистически значима."
   ]
  },
  {
   "cell_type": "markdown",
   "id": "31e6250f",
   "metadata": {},
   "source": [
    "#### Проверить гипотезу: средний чек участников программы лояльности выше, чем у остальных покупателей\n",
    "\n",
    "```H0: средний чек в группе лояльности = средний чек группы пользователей, не участвующих в программе```\n",
    "\n",
    "```H1: средний чек в группе лояльности ≠ средний чек группы пользователей, не участвующих в программе```"
   ]
  },
  {
   "cell_type": "code",
   "execution_count": 46,
   "id": "5bc51dca",
   "metadata": {},
   "outputs": [
    {
     "data": {
      "image/png": "[encoded data removed]",
      "text/plain": [
       "<Figure size 640x480 with 1 Axes>"
      ]
     },
     "metadata": {},
     "output_type": "display_data"
    }
   ],
   "source": [
    "# построение гистограммы\n",
    "plt.hist(data['total'], bins=100)\n",
    "plt.title('Распределение сумм чеков')\n",
    "plt.xlabel('Сумма чека')\n",
    "plt.ylabel('Частота')\n",
    "plt.show()"
   ]
  },
  {
   "cell_type": "markdown",
   "id": "ba63bfa2",
   "metadata": {},
   "source": [
    "Суммы чеков распределены не по нормальному закону. Есть выбросы на значениях 6000 и выше. Здесь также стоит воспользоваться непараметрическим критерием Манна-Уитни."
   ]
  },
  {
   "cell_type": "code",
   "execution_count": 47,
   "id": "f14b0371",
   "metadata": {},
   "outputs": [
    {
     "data": {
      "image/png": "[encoded data removed]",
      "text/plain": [
       "<Figure size 640x480 with 1 Axes>"
      ]
     },
     "metadata": {},
     "output_type": "display_data"
    }
   ],
   "source": [
    "# создаем значения х\n",
    "x_values = pd.Series(range(0,len(data['total'])))\n",
    "# строим точечный график\n",
    "plt.scatter(x_values, data['total'])\n",
    "plt.title('Суммы чеков')\n",
    "plt.ylabel('Сумма чека')\n",
    "plt.show()"
   ]
  },
  {
   "cell_type": "code",
   "execution_count": 48,
   "id": "62900f89",
   "metadata": {},
   "outputs": [
    {
     "data": {
      "text/plain": [
       "array([ 974.1635619 , 1831.71734127])"
      ]
     },
     "execution_count": 48,
     "metadata": {},
     "output_type": "execute_result"
    }
   ],
   "source": [
    "# посчитали 95 и 99 перцентили сумм чеков\n",
    "perc_totals = np.percentile(data['total'], [95, 99])\n",
    "perc_totals"
   ]
  },
  {
   "cell_type": "markdown",
   "id": "4fdf330f",
   "metadata": {},
   "source": [
    "Не более 5% пользователей совершают покупки на сумму больше 974 рублей. Не более 1% пользователей совершают покупки на сумму больше 1831 рублей."
   ]
  },
  {
   "cell_type": "code",
   "execution_count": 49,
   "id": "ebbc6a16",
   "metadata": {},
   "outputs": [
    {
     "name": "stdout",
     "output_type": "stream",
     "text": [
      "p-value:  0.002\n",
      "Отвергаем нулевую гипотезу, есть значимая разница\n",
      "Средний чек нелояльных покупателей: 302.008\n",
      "Средний чек лояльных покупателей: 259.938\n",
      "Прирост среднего чека лояльных покупателей: -0.139\n"
     ]
    }
   ],
   "source": [
    "# отфильтруем выбросы из данных о покупках\n",
    "purchasesByNotLoyaltyCustomerFilter = notloyalty_purchases.query('total < @perc_totals[1]')\n",
    "purchasesByLoyaltyCustomerFilter = loyalty_purchases.query('total < @perc_totals[1]')   \n",
    "# применим критерий\n",
    "alpha = 0.05\n",
    "manna_whitneyu(purchasesByLoyaltyCustomerFilter['total'], purchasesByNotLoyaltyCustomerFilter['total'],alpha)\n",
    "# посмотрим фактические различия\n",
    "print('Средний чек нелояльных покупателей:', '{0:.3f}'.format(purchasesByNotLoyaltyCustomerFilter['total'].mean()))\n",
    "print('Средний чек лояльных покупателей:', '{0:.3f}'.format(purchasesByLoyaltyCustomerFilter['total'].mean()))\n",
    "print('Прирост среднего чека лояльных покупателей:', '{0:.3f}'.format(\n",
    "    (purchasesByLoyaltyCustomerFilter['total'].mean()-purchasesByNotLoyaltyCustomerFilter['total'].mean())\\\n",
    "/purchasesByNotLoyaltyCustomerFilter['total'].mean())\n",
    "     )"
   ]
  },
  {
   "cell_type": "markdown",
   "id": "3acdcfc3",
   "metadata": {},
   "source": [
    "Гипотеза о равенсте средних чеков в группах не подтвердилась. Фактически в группе программы лояльности средний чек ниже на 14%, и эта разница статистически значима."
   ]
  },
  {
   "cell_type": "markdown",
   "id": "8e266389",
   "metadata": {},
   "source": [
    "**Вывод:**\n",
    "- Покупатели, участвующие и не участвующие в программе лояльности, делают примерно одинаковое количество покупок.\n",
    "- Средние чеки покупателей, участвующих в программе лояльности, на 14% меньше. И эта разница статистически значима."
   ]
  },
  {
   "cell_type": "markdown",
   "id": "3e6dff07",
   "metadata": {},
   "source": [
    "### Выводы и рекомендации"
   ]
  },
  {
   "cell_type": "markdown",
   "id": "1d5718ac",
   "metadata": {},
   "source": [
    "**Рекомендации по сбору данных**\n",
    "- В данных о покупках есть дубликаты и отрицательные значения. Данные собираются недостаточно качественно: где-то информация дублируется и искажается.\n",
    "- В данных о ценах на каждый товар может встречаться несколько цен. Нет информации, которая позволит понять, какую именно цену брать и для какой покупки.\n",
    "- Нет точных данных о покупке подписок, что также снижает точность расчетов.\n",
    "- В данных встречаются магазины, в которых совершено всего по несколько покупок.\n",
    "- Для более точного анализа в будущем необходимо предотвратить появление таких ошибок при сборе информации.\n",
    "\n",
    "**Выводы**\n",
    "- Большая часть покупок совершается в магазине 0. Большая часть покупок совершается покупателями, не участвующими в программе лояльности.\n",
    "- Среди покупателей, имеющих карты, 34% участвуют в программе лояльности.\n",
    "- В группе лояльных покупателей медианное количество товаров в чеке на 13% ниже по отношению к группе покупателей, не участвующих в программе лояльности.\n",
    "- В группе лояльных покупателей LTV на 17% выше, по сравнению с группой покупателей, не участвующих в программе лояльности. LTV покупателей группы лояльности выше на любой \"день жизни\" покупателя. LTV - это средняя выручка, которую приносит покупатель за определенный период. Если в группе лояльных покупателей LTV выше, значит они приносят больше выручки.\n",
    "- Покупатели, участвующие и не участвующие в программе лояльности, делают примерно одинаковое количество покупок.\n",
    "- Средние чеки покупателей, участвующих в программе лояльности, на 14% меньше. И эта разница статистически значима. \n",
    "\n",
    "**Рекомендации по маркетингу**\n",
    "- Покупатели, участвующие в программе лояльности, делают примерно столько же покупок, как и остальные. Но их средние чеки ниже. Программа лояльности снижает средний чек на 14%.\n",
    "- За подключение программы лояльности покупатель платит 200 рублей в месяц, которые не учитываются при сборе информации с касс и подсчете среднего чека. За счет этой суммы LTV покупателей, участвующих в программе лояльности выше на 17%. То есть они приносят больше выручки, и программа лояльности выгодна. Стоит продолжать ее использовать.\n",
    "- Можно увеличить эффективность программы лояльности, для этого нужно увеличить количество подключенных клиентов и увеличить показатели этой группы (количество покупок, средний чек).\n",
    "- Чтобы увеличить количество клиентов, подключающих программу лояльности, можно предлагать всем клиентам подключить программу лояльности на кассе, объяснять ее преимущества, сделать дополнительную рекламу программы лояльности, повесить баннеры в магазине. \n",
    "- Чтобы увеличить средние чеки и количество покупок по программе лояльности можно сделать ежемесячные рассылки с подборками товаров, которые можно выгодно приобрести по программе лояльности, и напоминанием о том, что нужно продлить программу лояльности на новый месяц."
   ]
  }
 ],
 "metadata": {
  "ExecuteTimeLog": [
   {
    "duration": 1143,
    "start_time": "2023-06-28T12:22:03.823Z"
   },
   {
    "duration": 422,
    "start_time": "2023-06-28T12:22:04.968Z"
   },
   {
    "duration": 117,
    "start_time": "2023-06-28T12:22:05.391Z"
   },
   {
    "duration": 3,
    "start_time": "2023-06-28T12:22:05.510Z"
   },
   {
    "duration": 87,
    "start_time": "2023-06-28T12:22:05.515Z"
   },
   {
    "duration": 13,
    "start_time": "2023-06-28T12:22:05.604Z"
   },
   {
    "duration": 3,
    "start_time": "2023-06-28T12:22:05.619Z"
   },
   {
    "duration": 43,
    "start_time": "2023-06-28T12:22:05.624Z"
   },
   {
    "duration": 38,
    "start_time": "2023-06-28T12:22:05.669Z"
   },
   {
    "duration": 126,
    "start_time": "2023-06-28T12:22:05.709Z"
   },
   {
    "duration": 26,
    "start_time": "2023-06-28T12:22:05.836Z"
   },
   {
    "duration": 42,
    "start_time": "2023-06-28T12:22:05.864Z"
   },
   {
    "duration": 12,
    "start_time": "2023-06-28T12:22:05.908Z"
   },
   {
    "duration": 105,
    "start_time": "2023-06-28T12:22:05.922Z"
   },
   {
    "duration": 102,
    "start_time": "2023-06-28T12:22:06.028Z"
   },
   {
    "duration": 8,
    "start_time": "2023-06-28T12:22:06.132Z"
   },
   {
    "duration": 7,
    "start_time": "2023-06-28T12:22:06.141Z"
   },
   {
    "duration": 61,
    "start_time": "2023-06-28T12:22:06.149Z"
   },
   {
    "duration": 51,
    "start_time": "2023-06-28T12:22:06.212Z"
   },
   {
    "duration": 95,
    "start_time": "2023-06-28T12:22:06.265Z"
   },
   {
    "duration": 556,
    "start_time": "2023-06-28T12:22:06.361Z"
   },
   {
    "duration": 393,
    "start_time": "2023-06-28T12:22:06.918Z"
   },
   {
    "duration": 334,
    "start_time": "2023-06-28T12:22:07.312Z"
   },
   {
    "duration": 10,
    "start_time": "2023-06-28T12:22:07.648Z"
   },
   {
    "duration": 134,
    "start_time": "2023-06-28T12:22:07.659Z"
   },
   {
    "duration": 16,
    "start_time": "2023-06-28T12:22:07.795Z"
   },
   {
    "duration": 8,
    "start_time": "2023-06-28T12:22:07.812Z"
   },
   {
    "duration": 20,
    "start_time": "2023-06-28T12:22:07.822Z"
   },
   {
    "duration": 12,
    "start_time": "2023-06-28T12:22:07.844Z"
   },
   {
    "duration": 4,
    "start_time": "2023-06-28T12:22:07.857Z"
   },
   {
    "duration": 22,
    "start_time": "2023-06-28T12:22:07.862Z"
   },
   {
    "duration": 18,
    "start_time": "2023-06-28T12:22:07.885Z"
   },
   {
    "duration": 7,
    "start_time": "2023-06-28T12:22:07.905Z"
   },
   {
    "duration": 660,
    "start_time": "2023-06-28T12:22:07.913Z"
   },
   {
    "duration": 164,
    "start_time": "2023-06-28T12:22:08.574Z"
   },
   {
    "duration": 139,
    "start_time": "2023-06-28T12:22:08.739Z"
   },
   {
    "duration": 4,
    "start_time": "2023-06-28T12:22:08.880Z"
   },
   {
    "duration": 9,
    "start_time": "2023-06-28T12:22:08.885Z"
   },
   {
    "duration": 116,
    "start_time": "2023-06-28T12:22:08.895Z"
   },
   {
    "duration": 228,
    "start_time": "2023-06-28T12:22:09.012Z"
   },
   {
    "duration": 158,
    "start_time": "2023-06-28T12:22:09.243Z"
   },
   {
    "duration": 4,
    "start_time": "2023-06-28T12:22:09.405Z"
   },
   {
    "duration": 109,
    "start_time": "2023-06-28T12:22:09.410Z"
   }
  ],
  "kernelspec": {
   "display_name": "Python 3 (ipykernel)",
   "language": "python",
   "name": "python3"
  },
  "language_info": {
   "codemirror_mode": {
    "name": "ipython",
    "version": 3
   },
   "file_extension": ".py",
   "mimetype": "text/x-python",
   "name": "python",
   "nbconvert_exporter": "python",
   "pygments_lexer": "ipython3",
   "version": "3.9.13"
  },
  "toc": {
   "base_numbering": 1,
   "nav_menu": {},
   "number_sections": true,
   "sideBar": true,
   "skip_h1_title": true,
   "title_cell": "Table of Contents",
   "title_sidebar": "Contents",
   "toc_cell": true,
   "toc_position": {
    "height": "calc(100% - 180px)",
    "left": "10px",
    "top": "150px",
    "width": "237px"
   },
   "toc_section_display": true,
   "toc_window_display": true
  }
 },
 "nbformat": 4,
 "nbformat_minor": 5
}
