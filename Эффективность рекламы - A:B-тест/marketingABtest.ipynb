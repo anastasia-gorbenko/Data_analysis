{
 "cells": [
  {
   "cell_type": "markdown",
   "id": "72596366",
   "metadata": {
    "toc": true
   },
   "source": [
    "<h1>Table of Contents<span class=\"tocSkip\"></span></h1>\n",
    "<div class=\"toc\"><ul class=\"toc-item\"><li><span><a href=\"#Описание-проекта\" data-toc-modified-id=\"Описание-проекта-1\"><span class=\"toc-item-num\">1&nbsp;&nbsp;</span>Описание проекта</a></span></li><li><span><a href=\"#Подключение-данных-и-предобработка\" data-toc-modified-id=\"Подключение-данных-и-предобработка-2\"><span class=\"toc-item-num\">2&nbsp;&nbsp;</span>Подключение данных и предобработка</a></span></li><li><span><a href=\"#Исследовательский-анализ\" data-toc-modified-id=\"Исследовательский-анализ-3\"><span class=\"toc-item-num\">3&nbsp;&nbsp;</span>Исследовательский анализ</a></span><ul class=\"toc-item\"><li><span><a href=\"#Конверсия-в-зависимости-от-рекламы\" data-toc-modified-id=\"Конверсия-в-зависимости-от-рекламы-3.1\"><span class=\"toc-item-num\">3.1&nbsp;&nbsp;</span>Конверсия в зависимости от рекламы</a></span></li><li><span><a href=\"#Количество-просмотренных-объявлений\" data-toc-modified-id=\"Количество-просмотренных-объявлений-3.2\"><span class=\"toc-item-num\">3.2&nbsp;&nbsp;</span>Количество просмотренных объявлений</a></span></li></ul></li><li><span><a href=\"#Статистический-анализ\" data-toc-modified-id=\"Статистический-анализ-4\"><span class=\"toc-item-num\">4&nbsp;&nbsp;</span>Статистический анализ</a></span></li><li><span><a href=\"#Общий-вывод\" data-toc-modified-id=\"Общий-вывод-5\"><span class=\"toc-item-num\">5&nbsp;&nbsp;</span>Общий вывод</a></span></li></ul></div>"
   ]
  },
  {
   "cell_type": "markdown",
   "id": "446687f6",
   "metadata": {},
   "source": [
    "### Описание проекта"
   ]
  },
  {
   "cell_type": "markdown",
   "id": "d9c4c8d8",
   "metadata": {},
   "source": [
    "\n",
    "Marketing companies want to run successful campaigns, but the market is complex and several options can work. So normally they tun A/B tests, that is a randomized experimentation process wherein two or more versions of a variable (web page, page element, banner, etc.) are shown to different segments of people at the same time to determine which version leaves the maximum impact and drive business metrics.\n",
    "\n",
    "The companies are interested in answering two questions:\n",
    "\n",
    "Would the campaign be successful?\n",
    "\n",
    "If the campaign was successful, how much of that success could be attributed to the ads?\n",
    "With the second question in mind, we normally do an A/B test. The majority of the people will be exposed to ads (the experimental group). And a small portion of people (the control group) would instead see a Public Service Announcement (PSA) (or nothing) in the exact size and place the ad would normally be.\n",
    "\n",
    "The idea of the dataset is to analyze the groups, find if the ads were successful, how much the company can make from the ads, and if the difference between the groups is statistically significant.\n",
    "****\n",
    "\n",
    "Компании хотят чтобы реклама была успешна, но рынок сложен, и сработать могут несколько варинтов рекламы. Для выявления успешных вариантов обычно проводят A/B-тесты - рандомизированные эксперименты, в котором два или более варианта (веб-страница, элемент страницы, баннер и т. д.) показываются различным сегментам людей одновременно, чтобы определить, какая версия влияет на пользователей и бизнес-метрики.\n",
    "\n",
    "Компании заинтересованы в том, чтобы ответить на два вопроса:\n",
    "\n",
    "*Будет ли кампания успешной?*\n",
    "\n",
    "*Если бы кампания была успешной, какую часть этого успеха можно было бы объяснить рекламой?*\n",
    "\n",
    "В A/B-тесте большинство людей будут в экспериментальной группе. Небольшой части людей (контрольная группа) вместо рекламы покажут Public Service Announcement (PSA) или ничего в том же размере и месте, где обычно размещается реклама. \n",
    "\n",
    "*Public Service Announcement (PSA) - с англ. объявление о государственной службе - социальная реклама, вид некоммерческой рекламы, направленной на изменение моделей общественного поведения и привлечение внимания к проблемам социума. Наиболее известными примерами такой рекламы являются кампании по борьбе с наркотиками, соблюдению правил дорожного движения, пропаганда здорового образа жизни, охрана окружающей среды и другие.\n",
    "\n",
    "**Задача исследования данных** заключается в том, чтобы проанализировать группы, выявить, была ли реклама успешной, сколько компания может заработать на рекламе и является ли разница между группами статистически значимой."
   ]
  },
  {
   "cell_type": "markdown",
   "id": "3dcb5074",
   "metadata": {},
   "source": [
    "### Подключение данных и предобработка"
   ]
  },
  {
   "cell_type": "code",
   "execution_count": 1,
   "id": "deb2a14f",
   "metadata": {},
   "outputs": [],
   "source": [
    "# импортируем библиотеки\n",
    "import pandas as pd\n",
    "import numpy as np\n",
    "import matplotlib.pyplot as plt\n",
    "from statsmodels.stats.proportion import proportions_ztest\n",
    "import math as mth\n",
    "import seaborn as sns"
   ]
  },
  {
   "cell_type": "code",
   "execution_count": 2,
   "id": "d234b55c",
   "metadata": {},
   "outputs": [
    {
     "data": {
      "text/html": [
       "<div>\n",
       "<style scoped>\n",
       "    .dataframe tbody tr th:only-of-type {\n",
       "        vertical-align: middle;\n",
       "    }\n",
       "\n",
       "    .dataframe tbody tr th {\n",
       "        vertical-align: top;\n",
       "    }\n",
       "\n",
       "    .dataframe thead th {\n",
       "        text-align: right;\n",
       "    }\n",
       "</style>\n",
       "<table border=\"1\" class=\"dataframe\">\n",
       "  <thead>\n",
       "    <tr style=\"text-align: right;\">\n",
       "      <th></th>\n",
       "      <th>Unnamed: 0</th>\n",
       "      <th>user id</th>\n",
       "      <th>test group</th>\n",
       "      <th>converted</th>\n",
       "      <th>total ads</th>\n",
       "      <th>most ads day</th>\n",
       "      <th>most ads hour</th>\n",
       "    </tr>\n",
       "  </thead>\n",
       "  <tbody>\n",
       "    <tr>\n",
       "      <th>0</th>\n",
       "      <td>0</td>\n",
       "      <td>1069124</td>\n",
       "      <td>ad</td>\n",
       "      <td>False</td>\n",
       "      <td>130</td>\n",
       "      <td>Monday</td>\n",
       "      <td>20</td>\n",
       "    </tr>\n",
       "    <tr>\n",
       "      <th>1</th>\n",
       "      <td>1</td>\n",
       "      <td>1119715</td>\n",
       "      <td>ad</td>\n",
       "      <td>False</td>\n",
       "      <td>93</td>\n",
       "      <td>Tuesday</td>\n",
       "      <td>22</td>\n",
       "    </tr>\n",
       "    <tr>\n",
       "      <th>2</th>\n",
       "      <td>2</td>\n",
       "      <td>1144181</td>\n",
       "      <td>ad</td>\n",
       "      <td>False</td>\n",
       "      <td>21</td>\n",
       "      <td>Tuesday</td>\n",
       "      <td>18</td>\n",
       "    </tr>\n",
       "    <tr>\n",
       "      <th>3</th>\n",
       "      <td>3</td>\n",
       "      <td>1435133</td>\n",
       "      <td>ad</td>\n",
       "      <td>False</td>\n",
       "      <td>355</td>\n",
       "      <td>Tuesday</td>\n",
       "      <td>10</td>\n",
       "    </tr>\n",
       "    <tr>\n",
       "      <th>4</th>\n",
       "      <td>4</td>\n",
       "      <td>1015700</td>\n",
       "      <td>ad</td>\n",
       "      <td>False</td>\n",
       "      <td>276</td>\n",
       "      <td>Friday</td>\n",
       "      <td>14</td>\n",
       "    </tr>\n",
       "    <tr>\n",
       "      <th>5</th>\n",
       "      <td>5</td>\n",
       "      <td>1137664</td>\n",
       "      <td>ad</td>\n",
       "      <td>False</td>\n",
       "      <td>734</td>\n",
       "      <td>Saturday</td>\n",
       "      <td>10</td>\n",
       "    </tr>\n",
       "    <tr>\n",
       "      <th>6</th>\n",
       "      <td>6</td>\n",
       "      <td>1116205</td>\n",
       "      <td>ad</td>\n",
       "      <td>False</td>\n",
       "      <td>264</td>\n",
       "      <td>Wednesday</td>\n",
       "      <td>13</td>\n",
       "    </tr>\n",
       "    <tr>\n",
       "      <th>7</th>\n",
       "      <td>7</td>\n",
       "      <td>1496843</td>\n",
       "      <td>ad</td>\n",
       "      <td>False</td>\n",
       "      <td>17</td>\n",
       "      <td>Sunday</td>\n",
       "      <td>18</td>\n",
       "    </tr>\n",
       "    <tr>\n",
       "      <th>8</th>\n",
       "      <td>8</td>\n",
       "      <td>1448851</td>\n",
       "      <td>ad</td>\n",
       "      <td>False</td>\n",
       "      <td>21</td>\n",
       "      <td>Tuesday</td>\n",
       "      <td>19</td>\n",
       "    </tr>\n",
       "    <tr>\n",
       "      <th>9</th>\n",
       "      <td>9</td>\n",
       "      <td>1446284</td>\n",
       "      <td>ad</td>\n",
       "      <td>False</td>\n",
       "      <td>142</td>\n",
       "      <td>Monday</td>\n",
       "      <td>14</td>\n",
       "    </tr>\n",
       "  </tbody>\n",
       "</table>\n",
       "</div>"
      ],
      "text/plain": [
       "   Unnamed: 0  user id test group  converted  total ads most ads day  \\\n",
       "0           0  1069124         ad      False        130       Monday   \n",
       "1           1  1119715         ad      False         93      Tuesday   \n",
       "2           2  1144181         ad      False         21      Tuesday   \n",
       "3           3  1435133         ad      False        355      Tuesday   \n",
       "4           4  1015700         ad      False        276       Friday   \n",
       "5           5  1137664         ad      False        734     Saturday   \n",
       "6           6  1116205         ad      False        264    Wednesday   \n",
       "7           7  1496843         ad      False         17       Sunday   \n",
       "8           8  1448851         ad      False         21      Tuesday   \n",
       "9           9  1446284         ad      False        142       Monday   \n",
       "\n",
       "   most ads hour  \n",
       "0             20  \n",
       "1             22  \n",
       "2             18  \n",
       "3             10  \n",
       "4             14  \n",
       "5             10  \n",
       "6             13  \n",
       "7             18  \n",
       "8             19  \n",
       "9             14  "
      ]
     },
     "execution_count": 2,
     "metadata": {},
     "output_type": "execute_result"
    }
   ],
   "source": [
    "# подключаем датасет и знакомимся с информацией\n",
    "data = pd.read_csv('marketing_AB.csv')\n",
    "data.head(10)"
   ]
  },
  {
   "cell_type": "markdown",
   "id": "4965c2fe",
   "metadata": {},
   "source": [
    "**Описание данных:**\n",
    "\n",
    "- Unnamed: 0 -  индекс строки\n",
    "- user id: уникальный id пользователя\n",
    "- test group: \"ad\" - пользователь видел рекламу, \"psa\" - пользователь видел PSA\n",
    "- converted: True - пользователь приобрел продукт, иначе - False\n",
    "- total ads: количество объявлений, просмотренных человеком\n",
    "- most ads day: день, когда человек увидел наибольшее количество объявлений\n",
    "- most ads hour: час дня, когда человек увидел наибольшее количество объявлений"
   ]
  },
  {
   "cell_type": "code",
   "execution_count": 3,
   "id": "3d01c046",
   "metadata": {},
   "outputs": [
    {
     "name": "stdout",
     "output_type": "stream",
     "text": [
      "<class 'pandas.core.frame.DataFrame'>\n",
      "RangeIndex: 588101 entries, 0 to 588100\n",
      "Data columns (total 7 columns):\n",
      " #   Column         Non-Null Count   Dtype \n",
      "---  ------         --------------   ----- \n",
      " 0   Unnamed: 0     588101 non-null  int64 \n",
      " 1   user id        588101 non-null  int64 \n",
      " 2   test group     588101 non-null  object\n",
      " 3   converted      588101 non-null  bool  \n",
      " 4   total ads      588101 non-null  int64 \n",
      " 5   most ads day   588101 non-null  object\n",
      " 6   most ads hour  588101 non-null  int64 \n",
      "dtypes: bool(1), int64(4), object(2)\n",
      "memory usage: 27.5+ MB\n"
     ]
    }
   ],
   "source": [
    "# просматриваем информацию о столбцах датасета\n",
    "data.info()"
   ]
  },
  {
   "cell_type": "markdown",
   "id": "ca25c80a",
   "metadata": {},
   "source": [
    "Пропусков в датасете нет. Первый столбец, дублирующий индексы можно удалить. Названия колонок для удобства работы лучше переименовать."
   ]
  },
  {
   "cell_type": "code",
   "execution_count": 4,
   "id": "03cd8550",
   "metadata": {},
   "outputs": [
    {
     "data": {
      "text/html": [
       "<div>\n",
       "<style scoped>\n",
       "    .dataframe tbody tr th:only-of-type {\n",
       "        vertical-align: middle;\n",
       "    }\n",
       "\n",
       "    .dataframe tbody tr th {\n",
       "        vertical-align: top;\n",
       "    }\n",
       "\n",
       "    .dataframe thead th {\n",
       "        text-align: right;\n",
       "    }\n",
       "</style>\n",
       "<table border=\"1\" class=\"dataframe\">\n",
       "  <thead>\n",
       "    <tr style=\"text-align: right;\">\n",
       "      <th></th>\n",
       "      <th>user_id</th>\n",
       "      <th>test_group</th>\n",
       "      <th>converted</th>\n",
       "      <th>total_ads</th>\n",
       "      <th>most_ads_day</th>\n",
       "      <th>most_ads_hour</th>\n",
       "    </tr>\n",
       "  </thead>\n",
       "  <tbody>\n",
       "    <tr>\n",
       "      <th>0</th>\n",
       "      <td>1069124</td>\n",
       "      <td>ad</td>\n",
       "      <td>False</td>\n",
       "      <td>130</td>\n",
       "      <td>Monday</td>\n",
       "      <td>20</td>\n",
       "    </tr>\n",
       "    <tr>\n",
       "      <th>1</th>\n",
       "      <td>1119715</td>\n",
       "      <td>ad</td>\n",
       "      <td>False</td>\n",
       "      <td>93</td>\n",
       "      <td>Tuesday</td>\n",
       "      <td>22</td>\n",
       "    </tr>\n",
       "    <tr>\n",
       "      <th>2</th>\n",
       "      <td>1144181</td>\n",
       "      <td>ad</td>\n",
       "      <td>False</td>\n",
       "      <td>21</td>\n",
       "      <td>Tuesday</td>\n",
       "      <td>18</td>\n",
       "    </tr>\n",
       "    <tr>\n",
       "      <th>3</th>\n",
       "      <td>1435133</td>\n",
       "      <td>ad</td>\n",
       "      <td>False</td>\n",
       "      <td>355</td>\n",
       "      <td>Tuesday</td>\n",
       "      <td>10</td>\n",
       "    </tr>\n",
       "    <tr>\n",
       "      <th>4</th>\n",
       "      <td>1015700</td>\n",
       "      <td>ad</td>\n",
       "      <td>False</td>\n",
       "      <td>276</td>\n",
       "      <td>Friday</td>\n",
       "      <td>14</td>\n",
       "    </tr>\n",
       "  </tbody>\n",
       "</table>\n",
       "</div>"
      ],
      "text/plain": [
       "   user_id test_group  converted  total_ads most_ads_day  most_ads_hour\n",
       "0  1069124         ad      False        130       Monday             20\n",
       "1  1119715         ad      False         93      Tuesday             22\n",
       "2  1144181         ad      False         21      Tuesday             18\n",
       "3  1435133         ad      False        355      Tuesday             10\n",
       "4  1015700         ad      False        276       Friday             14"
      ]
     },
     "execution_count": 4,
     "metadata": {},
     "output_type": "execute_result"
    }
   ],
   "source": [
    "# удалили первый столбец\n",
    "data = data.drop('Unnamed: 0', axis=1)\n",
    "# переименовали столбцы\n",
    "data.columns = data.columns.str.replace(' ','_')\n",
    "data.head()"
   ]
  },
  {
   "cell_type": "code",
   "execution_count": 5,
   "id": "689b0a2c",
   "metadata": {},
   "outputs": [
    {
     "name": "stdout",
     "output_type": "stream",
     "text": [
      "Количество полных дубликатов: 0\n",
      "Количество повторяющихся пользователей:  0\n"
     ]
    }
   ],
   "source": [
    "print('Количество полных дубликатов:', data.duplicated().sum())\n",
    "print('Количество повторяющихся пользователей: ', data.duplicated(subset=['user_id']).sum())"
   ]
  },
  {
   "cell_type": "markdown",
   "id": "5db91adc",
   "metadata": {},
   "source": [
    "Дубликатов в датасете нет. Все пользователи уникальны."
   ]
  },
  {
   "cell_type": "code",
   "execution_count": 6,
   "id": "1dcf286d",
   "metadata": {},
   "outputs": [
    {
     "data": {
      "text/html": [
       "<div>\n",
       "<style scoped>\n",
       "    .dataframe tbody tr th:only-of-type {\n",
       "        vertical-align: middle;\n",
       "    }\n",
       "\n",
       "    .dataframe tbody tr th {\n",
       "        vertical-align: top;\n",
       "    }\n",
       "\n",
       "    .dataframe thead th {\n",
       "        text-align: right;\n",
       "    }\n",
       "</style>\n",
       "<table border=\"1\" class=\"dataframe\">\n",
       "  <thead>\n",
       "    <tr style=\"text-align: right;\">\n",
       "      <th></th>\n",
       "      <th>test_group</th>\n",
       "      <th>count</th>\n",
       "      <th>percent, %</th>\n",
       "    </tr>\n",
       "  </thead>\n",
       "  <tbody>\n",
       "    <tr>\n",
       "      <th>0</th>\n",
       "      <td>ad</td>\n",
       "      <td>564577</td>\n",
       "      <td>96.0</td>\n",
       "    </tr>\n",
       "    <tr>\n",
       "      <th>1</th>\n",
       "      <td>psa</td>\n",
       "      <td>23524</td>\n",
       "      <td>4.0</td>\n",
       "    </tr>\n",
       "  </tbody>\n",
       "</table>\n",
       "</div>"
      ],
      "text/plain": [
       "  test_group   count  percent, %\n",
       "0         ad  564577        96.0\n",
       "1        psa   23524         4.0"
      ]
     },
     "execution_count": 6,
     "metadata": {},
     "output_type": "execute_result"
    }
   ],
   "source": [
    "# группируем данные\n",
    "groups = ['ad','psa']\n",
    "groups_table = data.groupby('test_group',as_index=False)['user_id'].count().rename(columns={'user_id': 'count'})\n",
    "groups_table['percent, %'] = round(groups_table['count']*100/sum(groups_table['count']))\n",
    "groups_table"
   ]
  },
  {
   "cell_type": "code",
   "execution_count": 7,
   "id": "74029342",
   "metadata": {},
   "outputs": [
    {
     "data": {
      "image/png": "[encoded data removed]",
      "text/plain": [
       "<Figure size 640x480 with 1 Axes>"
      ]
     },
     "metadata": {},
     "output_type": "display_data"
    }
   ],
   "source": [
    "# создаем диаграмму распределения пользователей по группам\n",
    "sns.set_style(\"whitegrid\") \n",
    "sns.set_palette('colorblind') # стиль всех графиков проекта\n",
    "fig = (\n",
    "    groups_table.plot(y='count',kind='pie',labels = groups, title='Распределение пользователей по группам',\n",
    "                     autopct='%.0f%%', legend=False)\n",
    ")\n",
    "plt.show()"
   ]
  },
  {
   "cell_type": "markdown",
   "id": "064b26eb",
   "metadata": {},
   "source": [
    "**Выводы**\n",
    "- В данных отстутствуют пропуски и дубликаты, все пользователи уникальны.\n",
    "- 96% пользователей входят в экспериментальную группу, и всего 4% - контрольная группа. Однако, равномерное распределение пользователей не так важно, как минимальный размер группы. Минимальный размер группы рассчитывается до проведения теста. Для этих расчетов необходимо знать значение базовой конверсии и то, какое минимальное изменение конверсии будет измеряться в анализе результатов теста. К сожалению, у нас нет этих данных. Если в группе psa размер выборки не меньше, чем рассчитанный минимальный размер выборки, то результатам теста можно доверять. "
   ]
  },
  {
   "cell_type": "markdown",
   "id": "04a33111",
   "metadata": {},
   "source": [
    "### Исследовательский анализ"
   ]
  },
  {
   "cell_type": "markdown",
   "id": "641850cf",
   "metadata": {},
   "source": [
    "#### Конверсия в зависимости от рекламы"
   ]
  },
  {
   "cell_type": "code",
   "execution_count": 8,
   "id": "e46d97f2",
   "metadata": {},
   "outputs": [
    {
     "data": {
      "text/html": [
       "<div>\n",
       "<style scoped>\n",
       "    .dataframe tbody tr th:only-of-type {\n",
       "        vertical-align: middle;\n",
       "    }\n",
       "\n",
       "    .dataframe tbody tr th {\n",
       "        vertical-align: top;\n",
       "    }\n",
       "\n",
       "    .dataframe thead th {\n",
       "        text-align: right;\n",
       "    }\n",
       "</style>\n",
       "<table border=\"1\" class=\"dataframe\">\n",
       "  <thead>\n",
       "    <tr style=\"text-align: right;\">\n",
       "      <th></th>\n",
       "      <th>test_group</th>\n",
       "      <th>converted</th>\n",
       "      <th>count</th>\n",
       "    </tr>\n",
       "  </thead>\n",
       "  <tbody>\n",
       "    <tr>\n",
       "      <th>0</th>\n",
       "      <td>ad</td>\n",
       "      <td>False</td>\n",
       "      <td>550154</td>\n",
       "    </tr>\n",
       "    <tr>\n",
       "      <th>1</th>\n",
       "      <td>ad</td>\n",
       "      <td>True</td>\n",
       "      <td>14423</td>\n",
       "    </tr>\n",
       "    <tr>\n",
       "      <th>2</th>\n",
       "      <td>psa</td>\n",
       "      <td>False</td>\n",
       "      <td>23104</td>\n",
       "    </tr>\n",
       "    <tr>\n",
       "      <th>3</th>\n",
       "      <td>psa</td>\n",
       "      <td>True</td>\n",
       "      <td>420</td>\n",
       "    </tr>\n",
       "  </tbody>\n",
       "</table>\n",
       "</div>"
      ],
      "text/plain": [
       "  test_group  converted   count\n",
       "0         ad      False  550154\n",
       "1         ad       True   14423\n",
       "2        psa      False   23104\n",
       "3        psa       True     420"
      ]
     },
     "execution_count": 8,
     "metadata": {},
     "output_type": "execute_result"
    }
   ],
   "source": [
    "# посмотрели распределение платящих и неплатящих пользователей в зависимости от рекламы\n",
    "counts = data.groupby(['test_group', 'converted']).size().reset_index(name='count')\n",
    "counts"
   ]
  },
  {
   "cell_type": "code",
   "execution_count": 9,
   "id": "f3ee31ff",
   "metadata": {},
   "outputs": [
    {
     "data": {
      "image/png": "[encoded data removed]",
      "text/plain": [
       "<Figure size 640x480 with 1 Axes>"
      ]
     },
     "metadata": {},
     "output_type": "display_data"
    }
   ],
   "source": [
    "# построили график распределения\n",
    "ax = sns.countplot(x='test_group', hue='converted', data=data)\n",
    "# добавили подписи к колонкам\n",
    "for i, bar in enumerate(ax.containers):\n",
    "    for j, count in enumerate(bar):\n",
    "        height = count.get_height()\n",
    "        ax.annotate(counts.iloc[i*2+j]['count'], xy=(count.get_x() + count.get_width() / 2, height),\n",
    "                    xytext=(0, 3), textcoords='offset points', ha='center')\n",
    "plt.title('Количество пользователей, совершивших покупку, в зависимости от рекламы')\n",
    "plt.ylabel('Количество пользователей')\n",
    "plt.xlabel('Тип рекламы')\n",
    "plt.show()"
   ]
  },
  {
   "cell_type": "code",
   "execution_count": 10,
   "id": "eab82c04",
   "metadata": {},
   "outputs": [
    {
     "name": "stdout",
     "output_type": "stream",
     "text": [
      "Конверсия в покупку в экспериментальной группе: 2.55466%\n",
      "Конверсия в покупку в экспериментальной группе: 1.78541%\n",
      "Относительный прирост покупок в экспериментальной группы: 43.08506%\n"
     ]
    }
   ],
   "source": [
    "cr_ad = counts.loc[1,'count'] / (counts.loc[0,'count'] + counts.loc[1,'count'])\n",
    "cr_psa = counts.loc[3,'count']/ (counts.loc[2,'count'] + counts.loc[3,'count'])\n",
    "print(f'Конверсия в покупку в экспериментальной группе: {cr_ad:.5%}')\n",
    "print(f'Конверсия в покупку в экспериментальной группе: {cr_psa:.5%}')\n",
    "print(f'Относительный прирост покупок в экспериментальной группы: {(cr_ad-cr_psa)/cr_psa:.5%}')"
   ]
  },
  {
   "cell_type": "markdown",
   "id": "956d6a00",
   "metadata": {},
   "source": [
    "Рекламная кампания увеличила конверсию в покупку. Относительный прирост покупок в группе рекламы 43%. Остается только проверить, является ли результат статистически значимым."
   ]
  },
  {
   "cell_type": "markdown",
   "id": "a78fa875",
   "metadata": {},
   "source": [
    "#### Количество просмотренных объявлений"
   ]
  },
  {
   "cell_type": "code",
   "execution_count": 11,
   "id": "b91f9565",
   "metadata": {},
   "outputs": [
    {
     "data": {
      "image/png": "[encoded data removed]",
      "text/plain": [
       "<Figure size 640x480 with 1 Axes>"
      ]
     },
     "metadata": {},
     "output_type": "display_data"
    }
   ],
   "source": [
    "# построили график количества просмотров объявлений\n",
    "sns.boxplot(x='test_group', y='total_ads', hue='converted', data=data)\n",
    "plt.title('Распределение количества просмотренных объявлений в зависимости от рекламы и покупки')\n",
    "plt.xlabel('Тип рекламы')\n",
    "plt.ylabel(\"Просмотрено объявлений\")\n",
    "plt.ylim(-5,600)\n",
    "plt.show()"
   ]
  },
  {
   "cell_type": "markdown",
   "id": "a1175058",
   "metadata": {},
   "source": [
    "Вне зависимости от типа рекламы, те пользователи, что совершают покупки, просматривают больше объявлений."
   ]
  },
  {
   "cell_type": "code",
   "execution_count": 12,
   "id": "70333e98",
   "metadata": {},
   "outputs": [
    {
     "data": {
      "image/png": "[encoded data removed]",
      "text/plain": [
       "<Figure size 640x480 with 1 Axes>"
      ]
     },
     "metadata": {},
     "output_type": "display_data"
    }
   ],
   "source": [
    "# посчитали конверсию по каждому дню, когда человек просматривал больше всего объявлений, в разрезе групп\n",
    "conversion_weekday = data.groupby(['most_ads_day', 'test_group'])['converted'].mean().reset_index()\n",
    "# построили график конверсий\n",
    "order = ['Monday', 'Tuesday', 'Wednesday', 'Thursday', 'Friday', 'Saturday', 'Sunday']\n",
    "fig = sns.barplot(x='most_ads_day', y='converted', data=conversion_weekday, order=order) \n",
    "fig.set_title('Конверсия в зависимости от дня, когда человек посмотрел больше всего объявлений')\n",
    "fig.set_xlabel(None)\n",
    "fig.set_ylabel('Конверсия')\n",
    "plt.show()"
   ]
  },
  {
   "cell_type": "markdown",
   "id": "00f86192",
   "metadata": {},
   "source": [
    "Общая конверсия выше в понедельник, затем она падает по субботу, и увеличивается в воскресенье."
   ]
  },
  {
   "cell_type": "code",
   "execution_count": null,
   "id": "c4a09b46",
   "metadata": {},
   "outputs": [],
   "source": [
    "# построили график конверсий в разрезе групп\n",
    "fig = sns.barplot(x='most_ads_day', y='converted', hue='test_group', data=conversion_weekday, order=order) \n",
    "fig.set_title('Конверсия в зависимости от дня, когда человек посмотрел больше всего объявлений')\n",
    "fig.set_xlabel(None)\n",
    "fig.set_ylabel('Конверсия')\n",
    "plt.show()"
   ]
  },
  {
   "cell_type": "markdown",
   "id": "61f18084",
   "metadata": {},
   "source": [
    "Вне зависимости от дня недели, в который пользователи были больше всего активны, пользователи, посмотревшие рекламу, имеют большую конверсию в покупку. "
   ]
  },
  {
   "cell_type": "code",
   "execution_count": null,
   "id": "8aa27eda",
   "metadata": {},
   "outputs": [],
   "source": [
    "# посчитали конверсию по каждому часу в разрезе групп\n",
    "conversion_hours = data.groupby(['most_ads_hour', 'test_group'])['converted'].mean().reset_index()\n",
    "# построили общий график конверсий\n",
    "fig = sns.barplot(x='most_ads_hour', y='converted', data=conversion_hours) \n",
    "fig.set_title('Конверсия в зависимости от часа, когда человек посмотрел больше всего объявлений')\n",
    "fig.set_xlabel(None)\n",
    "fig.set_ylabel('Конверсия')\n",
    "plt.show()"
   ]
  },
  {
   "cell_type": "markdown",
   "id": "bdb7bd34",
   "metadata": {},
   "source": [
    "В ночные часы общая конверсия ниже, чем в дневные часы. Самая низкая конверсия в 2 часа ночи, затем она растет до пика в 14-15 часов, и опять снижается к ночи."
   ]
  },
  {
   "cell_type": "code",
   "execution_count": null,
   "id": "9f164184",
   "metadata": {},
   "outputs": [],
   "source": [
    "# построили график конверсий в разрезе групп\n",
    "fig = sns.barplot(x='most_ads_hour', y='converted', hue='test_group', data=conversion_hours) \n",
    "fig.set_title('Конверсия в зависимости от часа, когда человек посмотрел больше всего объявлений')\n",
    "fig.set_xlabel(None)\n",
    "fig.set_ylabel('Конверсия')\n",
    "plt.show()"
   ]
  },
  {
   "cell_type": "markdown",
   "id": "58bd86d4",
   "metadata": {},
   "source": [
    "Для ночных часов слишком мало данных по psa, чтобы сделать выводы. Для остальных часов конвесия всегда выше в группе рекламы."
   ]
  },
  {
   "cell_type": "markdown",
   "id": "29833394",
   "metadata": {},
   "source": [
    "**Выводы**\n",
    "- Рекламная кампания увеличила конверсию в покупку. Относительный прирост покупок в группе рекламы 43%.\n",
    "- Вне зависимости от типа рекламы, те пользователи, что совершают покупки, просматривают больше объявлений.\n",
    "- Общая конверсия выше в понедельник, затем она падает по субботу, и увеличивается в воскресенье.\n",
    "- В ночные часы общая конверсия ниже, чем в дневные часы. Самая низкая конверсия в 2 часа ночи, затем она растет до пика в 14-15 часов, и опять снижается к ночи.\n",
    "- Вне зависимости от дня недели и часа, в который пользователи были больше всего активны, пользователи, посмотревшие рекламу, имеют большую конверсию в покупку."
   ]
  },
  {
   "cell_type": "markdown",
   "id": "f5ec4544",
   "metadata": {},
   "source": [
    "### Статистический анализ"
   ]
  },
  {
   "cell_type": "code",
   "execution_count": null,
   "id": "a116af29",
   "metadata": {},
   "outputs": [],
   "source": [
    "# создали функцию для проверки гипотез о равнестве долей\n",
    "def z_function(purchases, nobs, alpha):\n",
    "    stat, pval = proportions_ztest(purchases, nobs)\n",
    "    print('p-value:', pval)\n",
    "    if pval < alpha:\n",
    "        print('Отвергаем нулевую гипотезу: между долями есть значимая разница')\n",
    "    else:\n",
    "        print(\n",
    "            'Не получилось отвергнуть нулевую гипотезу, нет оснований считать доли разными'\n",
    "        )"
   ]
  },
  {
   "cell_type": "markdown",
   "id": "796ec6bb",
   "metadata": {},
   "source": [
    "Сформируем нулевую и альтернативную гипотезы:\n",
    "\n",
    "```H0: конверсии в покупку в обеих группах равны```\n",
    "\n",
    "```H1: конверсии в покупку в обеих группах не равны```\n",
    "\n",
    "Для проверки гипотез можно использовать t-критерий Стьюдента или z-критерий для проверки гипотезы о равенстве генеральных долей. Остановимся на последнем."
   ]
  },
  {
   "cell_type": "code",
   "execution_count": null,
   "id": "6c7eaebb",
   "metadata": {},
   "outputs": [],
   "source": [
    "# установим уровень значимости\n",
    "alpha = 0.05\n",
    "purchases = np.array([counts.loc[1,'count'], counts.loc[3,'count']])\n",
    "nobs = np.array((counts.loc[0,'count'] + counts.loc[1,'count']),\\\n",
    "           (counts.loc[2,'count'] + counts.loc[3,'count']))\n",
    "# вызовем функцию для проверки гипотез о равенстве долей\n",
    "z_function(purchases, nobs, alpha)"
   ]
  },
  {
   "cell_type": "markdown",
   "id": "b60ac1a8",
   "metadata": {},
   "source": [
    "**Вывод**\n",
    "\n",
    "Есть основание отвергнуть нулевую гипотезу. Значит, **рекламная кампания действительно увеличивает конверсию в покупку на 43% относительно социальной рекламы**."
   ]
  },
  {
   "cell_type": "markdown",
   "id": "29a2c878",
   "metadata": {},
   "source": [
    "### Общий вывод"
   ]
  },
  {
   "cell_type": "markdown",
   "id": "3f5b00ab",
   "metadata": {},
   "source": [
    "- 96% пользователей входят в экспериментальную группу, и всего 4% - контрольная группа. Однако, равномерное распределение пользователей не так важно, как минимальный размер группы. Минимальный размер группы рассчитывается до проведения теста. Для этих расчетов необходимо знать значение базовой конверсии и то, какое минимальное изменение конверсии будет измеряться в анализе результатов теста. К сожалению, у нас нет этих данных. Если в группе psa размер выборки не меньше, чем рассчитанный минимальный размер выборки, то результатам теста можно доверять.\n",
    "- Рекламная кампания увеличила конверсию в покупку. Относительный прирост покупок в группе рекламы 43%. И этот результат статистически значим.\n",
    "- Пользователи, которые совершают покупки, просматривают больше объявлений.\n",
    "- Конверсия выше в понедельник, затем она падает по субботу, и увеличивается в воскресенье. В ночные часы конверсия ниже, чем в дневные часы. Самая низкая конверсия в 2 часа ночи, затем она растет до пика в 14-15 часов, и опять снижается к ночи.\n",
    "- Вне зависимости от дня недели и часа, в который пользователи были больше всего активны, пользователи, посмотревшие рекламу, имеют большую конверсию в покупку."
   ]
  }
 ],
 "metadata": {
  "kernelspec": {
   "display_name": "Python 3 (ipykernel)",
   "language": "python",
   "name": "python3"
  },
  "language_info": {
   "codemirror_mode": {
    "name": "ipython",
    "version": 3
   },
   "file_extension": ".py",
   "mimetype": "text/x-python",
   "name": "python",
   "nbconvert_exporter": "python",
   "pygments_lexer": "ipython3",
   "version": "3.9.13"
  },
  "toc": {
   "base_numbering": 1,
   "nav_menu": {},
   "number_sections": true,
   "sideBar": true,
   "skip_h1_title": true,
   "title_cell": "Table of Contents",
   "title_sidebar": "Contents",
   "toc_cell": true,
   "toc_position": {
    "height": "calc(100% - 180px)",
    "left": "10px",
    "top": "150px",
    "width": "165px"
   },
   "toc_section_display": true,
   "toc_window_display": true
  }
 },
 "nbformat": 4,
 "nbformat_minor": 5
}
