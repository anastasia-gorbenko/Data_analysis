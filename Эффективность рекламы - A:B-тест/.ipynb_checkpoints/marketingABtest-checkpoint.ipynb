{
 "cells": [
  {
   "cell_type": "markdown",
   "id": "72596366",
   "metadata": {
    "toc": true
   },
   "source": [
    "<h1>Table of Contents<span class=\"tocSkip\"></span></h1>\n",
    "<div class=\"toc\"><ul class=\"toc-item\"><li><span><a href=\"#Описание-проекта\" data-toc-modified-id=\"Описание-проекта-1\"><span class=\"toc-item-num\">1&nbsp;&nbsp;</span>Описание проекта</a></span></li><li><span><a href=\"#Подключение-данных-и-предобработка\" data-toc-modified-id=\"Подключение-данных-и-предобработка-2\"><span class=\"toc-item-num\">2&nbsp;&nbsp;</span>Подключение данных и предобработка</a></span></li><li><span><a href=\"#Исследовательский-анализ\" data-toc-modified-id=\"Исследовательский-анализ-3\"><span class=\"toc-item-num\">3&nbsp;&nbsp;</span>Исследовательский анализ</a></span><ul class=\"toc-item\"><li><span><a href=\"#Конверсия-в-зависимости-от-рекламы\" data-toc-modified-id=\"Конверсия-в-зависимости-от-рекламы-3.1\"><span class=\"toc-item-num\">3.1&nbsp;&nbsp;</span>Конверсия в зависимости от рекламы</a></span></li><li><span><a href=\"#Количество-просмотренных-объявлений\" data-toc-modified-id=\"Количество-просмотренных-объявлений-3.2\"><span class=\"toc-item-num\">3.2&nbsp;&nbsp;</span>Количество просмотренных объявлений</a></span></li></ul></li><li><span><a href=\"#Статистический-анализ\" data-toc-modified-id=\"Статистический-анализ-4\"><span class=\"toc-item-num\">4&nbsp;&nbsp;</span>Статистический анализ</a></span></li><li><span><a href=\"#Общий-вывод\" data-toc-modified-id=\"Общий-вывод-5\"><span class=\"toc-item-num\">5&nbsp;&nbsp;</span>Общий вывод</a></span></li></ul></div>"
   ]
  },
  {
   "cell_type": "markdown",
   "id": "446687f6",
   "metadata": {},
   "source": [
    "### Описание проекта"
   ]
  },
  {
   "cell_type": "markdown",
   "id": "d9c4c8d8",
   "metadata": {},
   "source": [
    "\n",
    "Marketing companies want to run successful campaigns, but the market is complex and several options can work. So normally they tun A/B tests, that is a randomized experimentation process wherein two or more versions of a variable (web page, page element, banner, etc.) are shown to different segments of people at the same time to determine which version leaves the maximum impact and drive business metrics.\n",
    "\n",
    "The companies are interested in answering two questions:\n",
    "\n",
    "Would the campaign be successful?\n",
    "\n",
    "If the campaign was successful, how much of that success could be attributed to the ads?\n",
    "With the second question in mind, we normally do an A/B test. The majority of the people will be exposed to ads (the experimental group). And a small portion of people (the control group) would instead see a Public Service Announcement (PSA) (or nothing) in the exact size and place the ad would normally be.\n",
    "\n",
    "The idea of the dataset is to analyze the groups, find if the ads were successful, how much the company can make from the ads, and if the difference between the groups is statistically significant.\n",
    "****\n",
    "\n",
    "Компании хотят чтобы реклама была успешна, но рынок сложен, и сработать могут несколько варинтов рекламы. Для выявления успешных вариантов обычно проводят A/B-тесты - рандомизированные эксперименты, в котором два или более варианта (веб-страница, элемент страницы, баннер и т. д.) показываются различным сегментам людей одновременно, чтобы определить, какая версия влияет на пользователей и бизнес-метрики.\n",
    "\n",
    "Компании заинтересованы в том, чтобы ответить на два вопроса:\n",
    "\n",
    "*Будет ли кампания успешной?*\n",
    "\n",
    "*Если бы кампания была успешной, какую часть этого успеха можно было бы объяснить рекламой?*\n",
    "\n",
    "В A/B-тесте большинство людей будут в экспериментальной группе. Небольшой части людей (контрольная группа) вместо рекламы покажут Public Service Announcement (PSA) или ничего в том же размере и месте, где обычно размещается реклама. \n",
    "\n",
    "*Public Service Announcement (PSA) - с англ. объявление о государственной службе - социальная реклама, вид некоммерческой рекламы, направленной на изменение моделей общественного поведения и привлечение внимания к проблемам социума. Наиболее известными примерами такой рекламы являются кампании по борьбе с наркотиками, соблюдению правил дорожного движения, пропаганда здорового образа жизни, охрана окружающей среды и другие.\n",
    "\n",
    "**Задача исследования данных** заключается в том, чтобы проанализировать группы, выявить, была ли реклама успешной, сколько компания может заработать на рекламе и является ли разница между группами статистически значимой."
   ]
  },
  {
   "cell_type": "markdown",
   "id": "3dcb5074",
   "metadata": {},
   "source": [
    "### Подключение данных и предобработка"
   ]
  },
  {
   "cell_type": "code",
   "execution_count": 4,
   "id": "deb2a14f",
   "metadata": {},
   "outputs": [],
   "source": [
    "# импортируем библиотеки\n",
    "import pandas as pd\n",
    "import numpy as np\n",
    "import matplotlib.pyplot as plt\n",
    "import scipy.stats as stats\n",
    "import math as mth\n",
    "import seaborn as sns"
   ]
  },
  {
   "cell_type": "code",
   "execution_count": 5,
   "id": "d234b55c",
   "metadata": {},
   "outputs": [
    {
     "ename": "FileNotFoundError",
     "evalue": "[Errno 2] No such file or directory: 'marketing_AB.csv'",
     "output_type": "error",
     "traceback": [
      "\u001b[0;31m---------------------------------------------------------------------------\u001b[0m",
      "\u001b[0;31mFileNotFoundError\u001b[0m                         Traceback (most recent call last)",
      "\u001b[0;32m/var/folders/x_/n1kb4gd95lvcl8pyjpf5wqbr0000gn/T/ipykernel_51083/814902510.py\u001b[0m in \u001b[0;36m<module>\u001b[0;34m\u001b[0m\n\u001b[1;32m      1\u001b[0m \u001b[0;31m# подключаем датасет и знакомимся с информацией\u001b[0m\u001b[0;34m\u001b[0m\u001b[0;34m\u001b[0m\u001b[0m\n\u001b[0;32m----> 2\u001b[0;31m \u001b[0mdata\u001b[0m \u001b[0;34m=\u001b[0m \u001b[0mpd\u001b[0m\u001b[0;34m.\u001b[0m\u001b[0mread_csv\u001b[0m\u001b[0;34m(\u001b[0m\u001b[0;34m'marketing_AB.csv'\u001b[0m\u001b[0;34m)\u001b[0m\u001b[0;34m\u001b[0m\u001b[0;34m\u001b[0m\u001b[0m\n\u001b[0m\u001b[1;32m      3\u001b[0m \u001b[0mdata\u001b[0m\u001b[0;34m.\u001b[0m\u001b[0mhead\u001b[0m\u001b[0;34m(\u001b[0m\u001b[0;36m10\u001b[0m\u001b[0;34m)\u001b[0m\u001b[0;34m\u001b[0m\u001b[0;34m\u001b[0m\u001b[0m\n",
      "\u001b[0;32m~/opt/anaconda3/lib/python3.9/site-packages/pandas/util/_decorators.py\u001b[0m in \u001b[0;36mwrapper\u001b[0;34m(*args, **kwargs)\u001b[0m\n\u001b[1;32m    309\u001b[0m                     \u001b[0mstacklevel\u001b[0m\u001b[0;34m=\u001b[0m\u001b[0mstacklevel\u001b[0m\u001b[0;34m,\u001b[0m\u001b[0;34m\u001b[0m\u001b[0;34m\u001b[0m\u001b[0m\n\u001b[1;32m    310\u001b[0m                 )\n\u001b[0;32m--> 311\u001b[0;31m             \u001b[0;32mreturn\u001b[0m \u001b[0mfunc\u001b[0m\u001b[0;34m(\u001b[0m\u001b[0;34m*\u001b[0m\u001b[0margs\u001b[0m\u001b[0;34m,\u001b[0m \u001b[0;34m**\u001b[0m\u001b[0mkwargs\u001b[0m\u001b[0;34m)\u001b[0m\u001b[0;34m\u001b[0m\u001b[0;34m\u001b[0m\u001b[0m\n\u001b[0m\u001b[1;32m    312\u001b[0m \u001b[0;34m\u001b[0m\u001b[0m\n\u001b[1;32m    313\u001b[0m         \u001b[0;32mreturn\u001b[0m \u001b[0mwrapper\u001b[0m\u001b[0;34m\u001b[0m\u001b[0;34m\u001b[0m\u001b[0m\n",
      "\u001b[0;32m~/opt/anaconda3/lib/python3.9/site-packages/pandas/io/parsers/readers.py\u001b[0m in \u001b[0;36mread_csv\u001b[0;34m(filepath_or_buffer, sep, delimiter, header, names, index_col, usecols, squeeze, prefix, mangle_dupe_cols, dtype, engine, converters, true_values, false_values, skipinitialspace, skiprows, skipfooter, nrows, na_values, keep_default_na, na_filter, verbose, skip_blank_lines, parse_dates, infer_datetime_format, keep_date_col, date_parser, dayfirst, cache_dates, iterator, chunksize, compression, thousands, decimal, lineterminator, quotechar, quoting, doublequote, escapechar, comment, encoding, encoding_errors, dialect, error_bad_lines, warn_bad_lines, on_bad_lines, delim_whitespace, low_memory, memory_map, float_precision, storage_options)\u001b[0m\n\u001b[1;32m    676\u001b[0m     \u001b[0mkwds\u001b[0m\u001b[0;34m.\u001b[0m\u001b[0mupdate\u001b[0m\u001b[0;34m(\u001b[0m\u001b[0mkwds_defaults\u001b[0m\u001b[0;34m)\u001b[0m\u001b[0;34m\u001b[0m\u001b[0;34m\u001b[0m\u001b[0m\n\u001b[1;32m    677\u001b[0m \u001b[0;34m\u001b[0m\u001b[0m\n\u001b[0;32m--> 678\u001b[0;31m     \u001b[0;32mreturn\u001b[0m \u001b[0m_read\u001b[0m\u001b[0;34m(\u001b[0m\u001b[0mfilepath_or_buffer\u001b[0m\u001b[0;34m,\u001b[0m \u001b[0mkwds\u001b[0m\u001b[0;34m)\u001b[0m\u001b[0;34m\u001b[0m\u001b[0;34m\u001b[0m\u001b[0m\n\u001b[0m\u001b[1;32m    679\u001b[0m \u001b[0;34m\u001b[0m\u001b[0m\n\u001b[1;32m    680\u001b[0m \u001b[0;34m\u001b[0m\u001b[0m\n",
      "\u001b[0;32m~/opt/anaconda3/lib/python3.9/site-packages/pandas/io/parsers/readers.py\u001b[0m in \u001b[0;36m_read\u001b[0;34m(filepath_or_buffer, kwds)\u001b[0m\n\u001b[1;32m    573\u001b[0m \u001b[0;34m\u001b[0m\u001b[0m\n\u001b[1;32m    574\u001b[0m     \u001b[0;31m# Create the parser.\u001b[0m\u001b[0;34m\u001b[0m\u001b[0;34m\u001b[0m\u001b[0m\n\u001b[0;32m--> 575\u001b[0;31m     \u001b[0mparser\u001b[0m \u001b[0;34m=\u001b[0m \u001b[0mTextFileReader\u001b[0m\u001b[0;34m(\u001b[0m\u001b[0mfilepath_or_buffer\u001b[0m\u001b[0;34m,\u001b[0m \u001b[0;34m**\u001b[0m\u001b[0mkwds\u001b[0m\u001b[0;34m)\u001b[0m\u001b[0;34m\u001b[0m\u001b[0;34m\u001b[0m\u001b[0m\n\u001b[0m\u001b[1;32m    576\u001b[0m \u001b[0;34m\u001b[0m\u001b[0m\n\u001b[1;32m    577\u001b[0m     \u001b[0;32mif\u001b[0m \u001b[0mchunksize\u001b[0m \u001b[0;32mor\u001b[0m \u001b[0miterator\u001b[0m\u001b[0;34m:\u001b[0m\u001b[0;34m\u001b[0m\u001b[0;34m\u001b[0m\u001b[0m\n",
      "\u001b[0;32m~/opt/anaconda3/lib/python3.9/site-packages/pandas/io/parsers/readers.py\u001b[0m in \u001b[0;36m__init__\u001b[0;34m(self, f, engine, **kwds)\u001b[0m\n\u001b[1;32m    930\u001b[0m \u001b[0;34m\u001b[0m\u001b[0m\n\u001b[1;32m    931\u001b[0m         \u001b[0mself\u001b[0m\u001b[0;34m.\u001b[0m\u001b[0mhandles\u001b[0m\u001b[0;34m:\u001b[0m \u001b[0mIOHandles\u001b[0m \u001b[0;34m|\u001b[0m \u001b[0;32mNone\u001b[0m \u001b[0;34m=\u001b[0m \u001b[0;32mNone\u001b[0m\u001b[0;34m\u001b[0m\u001b[0;34m\u001b[0m\u001b[0m\n\u001b[0;32m--> 932\u001b[0;31m         \u001b[0mself\u001b[0m\u001b[0;34m.\u001b[0m\u001b[0m_engine\u001b[0m \u001b[0;34m=\u001b[0m \u001b[0mself\u001b[0m\u001b[0;34m.\u001b[0m\u001b[0m_make_engine\u001b[0m\u001b[0;34m(\u001b[0m\u001b[0mf\u001b[0m\u001b[0;34m,\u001b[0m \u001b[0mself\u001b[0m\u001b[0;34m.\u001b[0m\u001b[0mengine\u001b[0m\u001b[0;34m)\u001b[0m\u001b[0;34m\u001b[0m\u001b[0;34m\u001b[0m\u001b[0m\n\u001b[0m\u001b[1;32m    933\u001b[0m \u001b[0;34m\u001b[0m\u001b[0m\n\u001b[1;32m    934\u001b[0m     \u001b[0;32mdef\u001b[0m \u001b[0mclose\u001b[0m\u001b[0;34m(\u001b[0m\u001b[0mself\u001b[0m\u001b[0;34m)\u001b[0m\u001b[0;34m:\u001b[0m\u001b[0;34m\u001b[0m\u001b[0;34m\u001b[0m\u001b[0m\n",
      "\u001b[0;32m~/opt/anaconda3/lib/python3.9/site-packages/pandas/io/parsers/readers.py\u001b[0m in \u001b[0;36m_make_engine\u001b[0;34m(self, f, engine)\u001b[0m\n\u001b[1;32m   1214\u001b[0m             \u001b[0;31m# \"Union[str, PathLike[str], ReadCsvBuffer[bytes], ReadCsvBuffer[str]]\"\u001b[0m\u001b[0;34m\u001b[0m\u001b[0;34m\u001b[0m\u001b[0m\n\u001b[1;32m   1215\u001b[0m             \u001b[0;31m# , \"str\", \"bool\", \"Any\", \"Any\", \"Any\", \"Any\", \"Any\"\u001b[0m\u001b[0;34m\u001b[0m\u001b[0;34m\u001b[0m\u001b[0m\n\u001b[0;32m-> 1216\u001b[0;31m             self.handles = get_handle(  # type: ignore[call-overload]\n\u001b[0m\u001b[1;32m   1217\u001b[0m                 \u001b[0mf\u001b[0m\u001b[0;34m,\u001b[0m\u001b[0;34m\u001b[0m\u001b[0;34m\u001b[0m\u001b[0m\n\u001b[1;32m   1218\u001b[0m                 \u001b[0mmode\u001b[0m\u001b[0;34m,\u001b[0m\u001b[0;34m\u001b[0m\u001b[0;34m\u001b[0m\u001b[0m\n",
      "\u001b[0;32m~/opt/anaconda3/lib/python3.9/site-packages/pandas/io/common.py\u001b[0m in \u001b[0;36mget_handle\u001b[0;34m(path_or_buf, mode, encoding, compression, memory_map, is_text, errors, storage_options)\u001b[0m\n\u001b[1;32m    784\u001b[0m         \u001b[0;32mif\u001b[0m \u001b[0mioargs\u001b[0m\u001b[0;34m.\u001b[0m\u001b[0mencoding\u001b[0m \u001b[0;32mand\u001b[0m \u001b[0;34m\"b\"\u001b[0m \u001b[0;32mnot\u001b[0m \u001b[0;32min\u001b[0m \u001b[0mioargs\u001b[0m\u001b[0;34m.\u001b[0m\u001b[0mmode\u001b[0m\u001b[0;34m:\u001b[0m\u001b[0;34m\u001b[0m\u001b[0;34m\u001b[0m\u001b[0m\n\u001b[1;32m    785\u001b[0m             \u001b[0;31m# Encoding\u001b[0m\u001b[0;34m\u001b[0m\u001b[0;34m\u001b[0m\u001b[0m\n\u001b[0;32m--> 786\u001b[0;31m             handle = open(\n\u001b[0m\u001b[1;32m    787\u001b[0m                 \u001b[0mhandle\u001b[0m\u001b[0;34m,\u001b[0m\u001b[0;34m\u001b[0m\u001b[0;34m\u001b[0m\u001b[0m\n\u001b[1;32m    788\u001b[0m                 \u001b[0mioargs\u001b[0m\u001b[0;34m.\u001b[0m\u001b[0mmode\u001b[0m\u001b[0;34m,\u001b[0m\u001b[0;34m\u001b[0m\u001b[0;34m\u001b[0m\u001b[0m\n",
      "\u001b[0;31mFileNotFoundError\u001b[0m: [Errno 2] No such file or directory: 'marketing_AB.csv'"
     ]
    }
   ],
   "source": [
    "# подключаем датасет и знакомимся с информацией\n",
    "data = pd.read_csv('marketing_AB.csv')\n",
    "data.head(10)"
   ]
  },
  {
   "cell_type": "markdown",
   "id": "4965c2fe",
   "metadata": {},
   "source": [
    "**Описание данных:**\n",
    "\n",
    "- Unnamed: 0 -  индекс строки\n",
    "- user id: уникальный id пользователя\n",
    "- test group: \"ad\" - пользователь видел рекламу, \"psa\" - пользователь видел PSA\n",
    "- converted: True - пользователь приобрел продукт, иначе - False\n",
    "- total ads: количество объявлений, просмотренных человеком\n",
    "- most ads day: день, когда человек увидел наибольшее количество объявлений\n",
    "- most ads hour: час дня, когда человек увидел наибольшее количество объявлений"
   ]
  },
  {
   "cell_type": "code",
   "execution_count": null,
   "id": "3d01c046",
   "metadata": {},
   "outputs": [],
   "source": [
    "# просматриваем информацию о столбцах датасета\n",
    "data.info()"
   ]
  },
  {
   "cell_type": "markdown",
   "id": "ca25c80a",
   "metadata": {},
   "source": [
    "Пропусков в датасете нет. Первый столбец, дублирующий индексы можно удалить. Названия колонок для удобства работы лучше переименовать."
   ]
  },
  {
   "cell_type": "code",
   "execution_count": null,
   "id": "03cd8550",
   "metadata": {},
   "outputs": [],
   "source": [
    "# удалили первый столбец\n",
    "data = data.drop('Unnamed: 0', axis=1)\n",
    "# переименовали столбцы\n",
    "data.columns = data.columns.str.replace(' ','_')\n",
    "data.head()"
   ]
  },
  {
   "cell_type": "code",
   "execution_count": null,
   "id": "689b0a2c",
   "metadata": {},
   "outputs": [],
   "source": [
    "print('Количество полных дубликатов:', data.duplicated().sum())\n",
    "print('Количество повторяющихся пользователей: ', data.duplicated(subset=['user_id']).sum())"
   ]
  },
  {
   "cell_type": "markdown",
   "id": "5db91adc",
   "metadata": {},
   "source": [
    "Дубликатов в датасете нет. Все пользователи уникальны."
   ]
  },
  {
   "cell_type": "code",
   "execution_count": null,
   "id": "1dcf286d",
   "metadata": {},
   "outputs": [],
   "source": [
    "# группируем данные\n",
    "groups = ['ad','psa']\n",
    "groups_table = data.groupby('test_group',as_index=False)['user_id'].count().rename(columns={'user_id': 'count'})\n",
    "groups_table['percent, %'] = round(groups_table['count']*100/sum(groups_table['count']))\n",
    "groups_table"
   ]
  },
  {
   "cell_type": "code",
   "execution_count": null,
   "id": "74029342",
   "metadata": {},
   "outputs": [],
   "source": [
    "# создаем диаграмму распределения пользователей по группам\n",
    "sns.set_style(\"whitegrid\") \n",
    "sns.set_palette('colorblind') # стиль всех графиков проекта\n",
    "fig = (\n",
    "    groups_table.plot(y='count',kind='pie',labels = groups, title='Распределение пользователей по группам',\n",
    "                     autopct='%.0f%%', legend=False)\n",
    ")\n",
    "plt.show()"
   ]
  },
  {
   "cell_type": "markdown",
   "id": "064b26eb",
   "metadata": {},
   "source": [
    "**Выводы**\n",
    "- В данных отстутствуют пропуски и дубликаты, все пользователи уникальны.\n",
    "- 96% пользователей входят в экспериментальную группу, и всего 4% - контрольная группа. Однако, равномерное распределение пользователей не так важно, как минимальный размер группы. Минимальный размер группы рассчитывается до проведения теста. Для этих расчетов необходимо знать значение базовой конверсии и то, какое минимальное изменение конверсии будет измеряться в анализе результатов теста. К сожалению, у нас нет этих данных. Если в группе psa размер выборки не меньше, чем рассчитанный минимальный размер выборки, то результатам теста можно доверять. "
   ]
  },
  {
   "cell_type": "markdown",
   "id": "04a33111",
   "metadata": {},
   "source": [
    "### Исследовательский анализ"
   ]
  },
  {
   "cell_type": "markdown",
   "id": "641850cf",
   "metadata": {},
   "source": [
    "#### Конверсия в зависимости от рекламы"
   ]
  },
  {
   "cell_type": "code",
   "execution_count": null,
   "id": "e46d97f2",
   "metadata": {},
   "outputs": [],
   "source": [
    "# посмотрели распределение платящих и неплатящих пользователей в зависимости от рекламы\n",
    "counts = data.groupby(['test_group', 'converted']).size().reset_index(name='count')\n",
    "counts"
   ]
  },
  {
   "cell_type": "code",
   "execution_count": null,
   "id": "f3ee31ff",
   "metadata": {},
   "outputs": [],
   "source": [
    "# построили график распределения\n",
    "ax = sns.countplot(x='test_group', hue='converted', data=data)\n",
    "# добавили подписи к колонкам\n",
    "for i, bar in enumerate(ax.containers):\n",
    "    for j, count in enumerate(bar):\n",
    "        height = count.get_height()\n",
    "        ax.annotate(counts.iloc[i*2+j]['count'], xy=(count.get_x() + count.get_width() / 2, height),\n",
    "                    xytext=(0, 3), textcoords='offset points', ha='center')\n",
    "plt.title('Количество пользователей, совершивших покупку, в зависимости от рекламы')\n",
    "plt.ylabel('Количество пользователей')\n",
    "plt.xlabel('Тип рекламы')\n",
    "plt.show()"
   ]
  },
  {
   "cell_type": "code",
   "execution_count": null,
   "id": "eab82c04",
   "metadata": {},
   "outputs": [],
   "source": [
    "cr_ad = counts.loc[1,'count'] / (counts.loc[0,'count'] + counts.loc[1,'count'])\n",
    "cr_psa = counts.loc[3,'count']/ (counts.loc[2,'count'] + counts.loc[3,'count'])\n",
    "print(f'Конверсия в покупку в экспериментальной группе: {cr_ad:.5%}')\n",
    "print(f'Конверсия в покупку в экспериментальной группе: {cr_psa:.5%}')\n",
    "print(f'Относительный прирост покупок в экспериментальной группы: {(cr_ad-cr_psa)/cr_psa:.5%}')"
   ]
  },
  {
   "cell_type": "markdown",
   "id": "956d6a00",
   "metadata": {},
   "source": [
    "Рекламная кампания увеличила конверсию в покупку. Относительный прирост покупок в группе рекламы 43%. Остается только проверить, является ли результат статистически значимым."
   ]
  },
  {
   "cell_type": "markdown",
   "id": "a78fa875",
   "metadata": {},
   "source": [
    "#### Количество просмотренных объявлений"
   ]
  },
  {
   "cell_type": "code",
   "execution_count": null,
   "id": "b91f9565",
   "metadata": {},
   "outputs": [],
   "source": [
    "# построили график количества просмотров объявлений\n",
    "sns.boxplot(x='test_group', y='total_ads', hue='converted', data=data)\n",
    "plt.title('Распределение количества просмотренных объявлений в зависимости от рекламы и покупки')\n",
    "plt.xlabel('Тип рекламы')\n",
    "plt.ylabel(\"Просмотрено объявлений\")\n",
    "plt.ylim(-5,600)\n",
    "plt.show()"
   ]
  },
  {
   "cell_type": "markdown",
   "id": "a1175058",
   "metadata": {},
   "source": [
    "Вне зависимости от типа рекламы, те пользователи, что совершают покупки, просматривают больше объявлений."
   ]
  },
  {
   "cell_type": "code",
   "execution_count": null,
   "id": "70333e98",
   "metadata": {},
   "outputs": [],
   "source": [
    "# посчитали конверсию по каждому дню, когда человек просматривал больше всего объявлений, в разрезе групп\n",
    "conversion_weekday = data.groupby(['most_ads_day', 'test_group'])['converted'].mean().reset_index()\n",
    "# построили график конверсий\n",
    "order = ['Monday', 'Tuesday', 'Wednesday', 'Thursday', 'Friday', 'Saturday', 'Sunday']\n",
    "fig = sns.barplot(x='most_ads_day', y='converted', data=conversion_weekday, order=order) \n",
    "fig.set_title('Конверсия в зависимости от дня, когда человек посмотрел больше всего объявлений')\n",
    "fig.set_xlabel(None)\n",
    "fig.set_ylabel('Конверсия')\n",
    "plt.show()"
   ]
  },
  {
   "cell_type": "markdown",
   "id": "00f86192",
   "metadata": {},
   "source": [
    "Общая конверсия выше в понедельник, затем она падает по субботу, и увеличивается в воскресенье."
   ]
  },
  {
   "cell_type": "code",
   "execution_count": null,
   "id": "c4a09b46",
   "metadata": {},
   "outputs": [],
   "source": [
    "# построили график конверсий в разрезе групп\n",
    "fig = sns.barplot(x='most_ads_day', y='converted', hue='test_group', data=conversion_weekday, order=order) \n",
    "fig.set_title('Конверсия в зависимости от дня, когда человек посмотрел больше всего объявлений')\n",
    "fig.set_xlabel(None)\n",
    "fig.set_ylabel('Конверсия')\n",
    "plt.show()"
   ]
  },
  {
   "cell_type": "markdown",
   "id": "61f18084",
   "metadata": {},
   "source": [
    "Вне зависимости от дня недели, в который пользователи были больше всего активны, пользователи, посмотревшие рекламу, имеют большую конверсию в покупку. "
   ]
  },
  {
   "cell_type": "code",
   "execution_count": null,
   "id": "8aa27eda",
   "metadata": {},
   "outputs": [],
   "source": [
    "# посчитали конверсию по каждому часу в разрезе групп\n",
    "conversion_hours = data.groupby(['most_ads_hour', 'test_group'])['converted'].mean().reset_index()\n",
    "# построили общий график конверсий\n",
    "fig = sns.barplot(x='most_ads_hour', y='converted', data=conversion_hours) \n",
    "fig.set_title('Конверсия в зависимости от часа, когда человек посмотрел больше всего объявлений')\n",
    "fig.set_xlabel(None)\n",
    "fig.set_ylabel('Конверсия')\n",
    "plt.show()"
   ]
  },
  {
   "cell_type": "markdown",
   "id": "bdb7bd34",
   "metadata": {},
   "source": [
    "В ночные часы общая конверсия ниже, чем в дневные часы. Самая низкая конверсия в 2 часа ночи, затем она растет до пика в 14-15 часов, и опять снижается к ночи."
   ]
  },
  {
   "cell_type": "code",
   "execution_count": null,
   "id": "9f164184",
   "metadata": {},
   "outputs": [],
   "source": [
    "# построили график конверсий в разрезе групп\n",
    "fig = sns.barplot(x='most_ads_hour', y='converted', hue='test_group', data=conversion_hours) \n",
    "fig.set_title('Конверсия в зависимости от часа, когда человек посмотрел больше всего объявлений')\n",
    "fig.set_xlabel(None)\n",
    "fig.set_ylabel('Конверсия')\n",
    "plt.show()"
   ]
  },
  {
   "cell_type": "markdown",
   "id": "58bd86d4",
   "metadata": {},
   "source": [
    "Для ночных часов слишком мало данных по psa, чтобы сделать выводы. Для остальных часов конвесия всегда выше в группе рекламы."
   ]
  },
  {
   "cell_type": "markdown",
   "id": "29833394",
   "metadata": {},
   "source": [
    "**Выводы**\n",
    "- Рекламная кампания увеличила конверсию в покупку. Относительный прирост покупок в группе рекламы 43%.\n",
    "- Вне зависимости от типа рекламы, те пользователи, что совершают покупки, просматривают больше объявлений.\n",
    "- Общая конверсия выше в понедельник, затем она падает по субботу, и увеличивается в воскресенье.\n",
    "- В ночные часы общая конверсия ниже, чем в дневные часы. Самая низкая конверсия в 2 часа ночи, затем она растет до пика в 14-15 часов, и опять снижается к ночи.\n",
    "- Вне зависимости от дня недели и часа, в который пользователи были больше всего активны, пользователи, посмотревшие рекламу, имеют большую конверсию в покупку."
   ]
  },
  {
   "cell_type": "markdown",
   "id": "f5ec4544",
   "metadata": {},
   "source": [
    "### Статистический анализ"
   ]
  },
  {
   "cell_type": "code",
   "execution_count": null,
   "id": "a116af29",
   "metadata": {},
   "outputs": [],
   "source": [
    "# создали функцию для проверки гипотез о равнестве долей\n",
    "def z_function(counts, nobs, alpha):\n",
    "    stat, pval = proportions_ztest(counts, nobs)\n",
    "    print('p-value: {0:0.3f}'.format(pval))\n",
    "    if pval < alpha:\n",
    "        print('Отвергаем нулевую гипотезу: между долями есть значимая разница')\n",
    "    else:\n",
    "        print(\n",
    "            'Не получилось отвергнуть нулевую гипотезу, нет оснований считать доли разными'\n",
    "        )"
   ]
  },
  {
   "cell_type": "markdown",
   "id": "796ec6bb",
   "metadata": {},
   "source": [
    "Сформируем нулевую и альтернативную гипотезы:\n",
    "\n",
    "```H0: конверсии в покупку в обеих группах равны```\n",
    "\n",
    "```H1: конверсии в покупку в обеих группах не равны```\n",
    "\n",
    "Для проверки гипотез можно использовать t-критерий Стьюдента или z-критерий для проверки гипотезы о равенстве генеральных долей. Остановимся на последнем."
   ]
  },
  {
   "cell_type": "code",
   "execution_count": null,
   "id": "6c7eaebb",
   "metadata": {},
   "outputs": [],
   "source": [
    "# установим уровень значимости\n",
    "alpha = 0.05\n",
    "counts = [counts.loc[1,'count'], counts.loc[3,'count']]\n",
    "nobs = (counts.loc[0,'count'] + counts.loc[1,'count']),\\\n",
    "           (counts.loc[2,'count'] + counts.loc[3,'count'])\n",
    "# вызовем функцию для проверки гипотез о равенстве долей\n",
    "z_function(counts, nobs, alpha)"
   ]
  },
  {
   "cell_type": "markdown",
   "id": "b60ac1a8",
   "metadata": {},
   "source": [
    "**Вывод**\n",
    "\n",
    "Есть основание отвергнуть нулевую гипотезу. Вероятность случайно получить такую разницу между конверсиями в экспериментальной и контрольной группах меньше, чем 1.7е-13. Значит, **рекламная кампания действительно увеличивает конверсию в покупку на 43% относительно социальной рекламы**."
   ]
  },
  {
   "cell_type": "markdown",
   "id": "29a2c878",
   "metadata": {},
   "source": [
    "### Общий вывод"
   ]
  },
  {
   "cell_type": "markdown",
   "id": "3f5b00ab",
   "metadata": {},
   "source": [
    "- Рекламная кампания увеличила конверсию в покупку. Относительный прирост покупок в группе рекламы 43%. И этот результат статистически значим.\n",
    "- Пользователи, которые совершают покупки, просматривают больше объявлений.\n",
    "- Конверсия выше в понедельник, затем она падает по субботу, и увеличивается в воскресенье. В ночные часы конверсия ниже, чем в дневные часы. Самая низкая конверсия в 2 часа ночи, затем она растет до пика в 14-15 часов, и опять снижается к ночи.\n",
    "- Вне зависимости от дня недели и часа, в который пользователи были больше всего активны, пользователи, посмотревшие рекламу, имеют большую конверсию в покупку."
   ]
  }
 ],
 "metadata": {
  "kernelspec": {
   "display_name": "Python 3 (ipykernel)",
   "language": "python",
   "name": "python3"
  },
  "language_info": {
   "codemirror_mode": {
    "name": "ipython",
    "version": 3
   },
   "file_extension": ".py",
   "mimetype": "text/x-python",
   "name": "python",
   "nbconvert_exporter": "python",
   "pygments_lexer": "ipython3",
   "version": "3.9.13"
  },
  "toc": {
   "base_numbering": 1,
   "nav_menu": {},
   "number_sections": true,
   "sideBar": true,
   "skip_h1_title": true,
   "title_cell": "Table of Contents",
   "title_sidebar": "Contents",
   "toc_cell": true,
   "toc_position": {
    "height": "calc(100% - 180px)",
    "left": "10px",
    "top": "150px",
    "width": "165px"
   },
   "toc_section_display": true,
   "toc_window_display": true
  }
 },
 "nbformat": 4,
 "nbformat_minor": 5
}
